{
 "cells": [
  {
   "cell_type": "markdown",
   "id": "0636ba16",
   "metadata": {},
   "source": [
    "# 1."
   ]
  },
  {
   "cell_type": "code",
   "execution_count": 2,
   "id": "a2811194",
   "metadata": {},
   "outputs": [
    {
     "data": {
      "text/plain": [
       "119"
      ]
     },
     "execution_count": 2,
     "metadata": {},
     "output_type": "execute_result"
    }
   ],
   "source": [
    "def solution(a,b):\n",
    "    a_str, b_str = str(a), str(b)\n",
    "    ab = int(a_str + b_str)\n",
    "\n",
    "    if ab >= 2*a*b:\n",
    "        return ab\n",
    "    else:\n",
    "        return 2*a*b\n",
    "solution(1 ,19)"
   ]
  },
  {
   "cell_type": "markdown",
   "id": "1d7084f5",
   "metadata": {},
   "source": [
    "# 2."
   ]
  },
  {
   "cell_type": "code",
   "execution_count": 3,
   "id": "baf1c59f",
   "metadata": {},
   "outputs": [
    {
     "data": {
      "text/plain": [
       "1"
      ]
     },
     "execution_count": 3,
     "metadata": {},
     "output_type": "execute_result"
    }
   ],
   "source": [
    "def solution(number, n, m):\n",
    "    if number%n == 0|number%m ==0:\n",
    "        return 1\n",
    "    else:\n",
    "        return 0\n",
    "solution(60, 2, 3)"
   ]
  },
  {
   "cell_type": "markdown",
   "id": "fdebebaf",
   "metadata": {},
   "source": [
    "# 3."
   ]
  },
  {
   "cell_type": "code",
   "execution_count": 4,
   "id": "be0392ee",
   "metadata": {},
   "outputs": [
    {
     "data": {
      "text/plain": [
       "560"
      ]
     },
     "execution_count": 4,
     "metadata": {},
     "output_type": "execute_result"
    }
   ],
   "source": [
    "def solution(n):\n",
    "    if n % 2 == 0:\n",
    "        return sum(i**2 for i in range(1, n+1) if i % 2 == 0)\n",
    "    else:\n",
    "        return sum(i for i in range(1, n+1) if i % 2 == 1)\n",
    "solution(14)"
   ]
  },
  {
   "cell_type": "markdown",
   "id": "8fe64519",
   "metadata": {},
   "source": [
    "# 3."
   ]
  },
  {
   "cell_type": "code",
   "execution_count": 8,
   "id": "f37a7ffa",
   "metadata": {},
   "outputs": [
    {
     "data": {
      "text/plain": [
       "1"
      ]
     },
     "execution_count": 8,
     "metadata": {},
     "output_type": "execute_result"
    }
   ],
   "source": [
    "def compare(i, e, n, m):\n",
    "    if i == '>' and e == '=':\n",
    "        return n >= m\n",
    "    if i == '<' and e == '=':\n",
    "        return n <= m\n",
    "    if i == '>' and e == '!':\n",
    "        return n > m\n",
    "    if i == '<' and e == '!':\n",
    "        return n < m\n",
    "    \n",
    "def solution(i, e, n, m):\n",
    "    if compare(i, e, n, m):\n",
    "        return 1\n",
    "    else:\n",
    "        return 0\n",
    "solution('<','=',20,50)"
   ]
  },
  {
   "cell_type": "markdown",
   "id": "bad2cd7f",
   "metadata": {},
   "source": [
    "# 4."
   ]
  },
  {
   "cell_type": "code",
   "execution_count": 11,
   "id": "ee925174",
   "metadata": {},
   "outputs": [
    {
     "data": {
      "text/plain": [
       "37"
      ]
     },
     "execution_count": 11,
     "metadata": {},
     "output_type": "execute_result"
    }
   ],
   "source": [
    "def solution(a, d, included):\n",
    "    answer = []\n",
    "    for i in range(len(included)):\n",
    "        answer.append(a)\n",
    "        a+= d\n",
    "    \n",
    "    total = 0\n",
    "    for i in range(len(included)):\n",
    "        if included[i]:\n",
    "            total += answer[i]\n",
    "    return total\n",
    "solution(3 ,4 ,[True, False, False, True, True])"
   ]
  },
  {
   "cell_type": "markdown",
   "id": "58bc6e7f",
   "metadata": {},
   "source": [
    "# 5."
   ]
  },
  {
   "cell_type": "code",
   "execution_count": 12,
   "id": "9c9a7a76",
   "metadata": {},
   "outputs": [
    {
     "data": {
      "text/plain": [
       "[2, 4, 200, -198, 2, 4, 6]"
      ]
     },
     "execution_count": 12,
     "metadata": {},
     "output_type": "execute_result"
    }
   ],
   "source": [
    "def solution(numbers):\n",
    "    answer  = []\n",
    "    for i in range(len(numbers)):\n",
    "        answer.append(numbers[i]*2)\n",
    "    return answer\n",
    "solution([1, 2, 100, -99, 1, 2, 3])"
   ]
  },
  {
   "cell_type": "markdown",
   "id": "5f594bf3",
   "metadata": {},
   "source": [
    "# 6."
   ]
  },
  {
   "cell_type": "code",
   "execution_count": 16,
   "id": "23fcf0b2",
   "metadata": {},
   "outputs": [
    {
     "data": {
      "text/plain": [
       "[5, 3, 1, 1, 1, 0, 1]"
      ]
     },
     "execution_count": 16,
     "metadata": {},
     "output_type": "execute_result"
    }
   ],
   "source": [
    "def solution(num_list):\n",
    "    answer = []\n",
    "    for i in range(1, len(num_list)+1):\n",
    "        answer.append(num_list[-i])\n",
    "    return answer\n",
    "solution([1, 0, 1, 1, 1, 3, 5])"
   ]
  },
  {
   "cell_type": "markdown",
   "id": "4db86d74",
   "metadata": {},
   "source": [
    "# 7."
   ]
  },
  {
   "cell_type": "code",
   "execution_count": 17,
   "id": "5fcd2d32",
   "metadata": {},
   "outputs": [
    {
     "data": {
      "text/plain": [
       "[2, 3, 3, 6]"
      ]
     },
     "execution_count": 17,
     "metadata": {},
     "output_type": "execute_result"
    }
   ],
   "source": [
    "def solution(strlist):\n",
    "    answer = []\n",
    "    for i in range(len(strlist)):\n",
    "        answer.append(len(strlist[i]))\n",
    "    return answer\n",
    "solution([\"We\", \"are\", \"the\", \"world!\"])"
   ]
  },
  {
   "cell_type": "markdown",
   "id": "14f6a755",
   "metadata": {},
   "source": [
    "# 8."
   ]
  },
  {
   "cell_type": "code",
   "execution_count": 21,
   "id": "7b59b209",
   "metadata": {},
   "outputs": [
    {
     "data": {
      "text/plain": [
       "1"
      ]
     },
     "execution_count": 21,
     "metadata": {},
     "output_type": "execute_result"
    }
   ],
   "source": [
    "def solution(sides):\n",
    "    if any(side <= 0 for side in sides):\n",
    "        return 2\n",
    "    m = max(sides)\n",
    "    if m >= sum(sides) - m:\n",
    "        return 2\n",
    "    else:\n",
    "        return 1\n",
    "solution([199, 72, 222])"
   ]
  },
  {
   "cell_type": "code",
   "execution_count": null,
   "id": "5ab9cc51",
   "metadata": {},
   "outputs": [],
   "source": []
  }
 ],
 "metadata": {
  "kernelspec": {
   "display_name": "myenv",
   "language": "python",
   "name": "myenv"
  },
  "language_info": {
   "codemirror_mode": {
    "name": "ipython",
    "version": 3
   },
   "file_extension": ".py",
   "mimetype": "text/x-python",
   "name": "python",
   "nbconvert_exporter": "python",
   "pygments_lexer": "ipython3",
   "version": "3.9.7"
  }
 },
 "nbformat": 4,
 "nbformat_minor": 5
}
