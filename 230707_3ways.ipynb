{
  "nbformat": 4,
  "nbformat_minor": 0,
  "metadata": {
    "colab": {
      "provenance": [],
      "authorship_tag": "ABX9TyMqmGEQtGFcrM0oou9VNkBz",
      "include_colab_link": true
    },
    "kernelspec": {
      "name": "python3",
      "display_name": "Python 3"
    },
    "language_info": {
      "name": "python"
    }
  },
  "cells": [
    {
      "cell_type": "markdown",
      "metadata": {
        "id": "view-in-github",
        "colab_type": "text"
      },
      "source": [
        "<a href=\"https://colab.research.google.com/github/khwwang/coding-training/blob/master/230707_3ways.ipynb\" target=\"_parent\"><img src=\"https://colab.research.google.com/assets/colab-badge.svg\" alt=\"Open In Colab\"/></a>"
      ]
    },
    {
      "cell_type": "markdown",
      "source": [
        "# 모델만드는 3가지 방법\n",
        "## sequential\n",
        "## funtion api\n",
        "## class"
      ],
      "metadata": {
        "id": "m19Zz-Psr9Kn"
      }
    },
    {
      "cell_type": "code",
      "source": [
        "import seaborn as sns\n",
        "import numpy as np\n",
        "import pandas as pd\n",
        "import matplotlib.pyplot as plt\n",
        "import tensorflow as tf\n",
        "from tensorflow import keras\n",
        "from keras import layers"
      ],
      "metadata": {
        "id": "QPOs7hgVsTs4"
      },
      "execution_count": 57,
      "outputs": []
    },
    {
      "cell_type": "code",
      "source": [
        "from tensorflow.keras.datasets import fashion_mnist\n",
        "\n",
        "(X_train, y_train), (X_test, y_test) = fashion_mnist.load_data()"
      ],
      "metadata": {
        "id": "MEtQxMR3sbgu"
      },
      "execution_count": 58,
      "outputs": []
    },
    {
      "cell_type": "code",
      "source": [
        "X_train.shape, y_train.shape"
      ],
      "metadata": {
        "colab": {
          "base_uri": "https://localhost:8080/"
        },
        "id": "um1n3Av4shCT",
        "outputId": "055df2c8-5bad-4a59-a288-4f26e78c67c8"
      },
      "execution_count": 59,
      "outputs": [
        {
          "output_type": "execute_result",
          "data": {
            "text/plain": [
              "((60000, 28, 28), (60000,))"
            ]
          },
          "metadata": {},
          "execution_count": 59
        }
      ]
    },
    {
      "cell_type": "code",
      "source": [
        "y_train"
      ],
      "metadata": {
        "colab": {
          "base_uri": "https://localhost:8080/"
        },
        "id": "vQcGEyOys4bO",
        "outputId": "08bbbf96-8f50-43f3-eb11-8e044214b067"
      },
      "execution_count": 60,
      "outputs": [
        {
          "output_type": "execute_result",
          "data": {
            "text/plain": [
              "array([9, 0, 0, ..., 3, 0, 5], dtype=uint8)"
            ]
          },
          "metadata": {},
          "execution_count": 60
        }
      ]
    },
    {
      "cell_type": "markdown",
      "source": [
        "### 검정데이터"
      ],
      "metadata": {
        "id": "WneU4lestVip"
      }
    },
    {
      "cell_type": "code",
      "source": [
        "from sklearn.model_selection import train_test_split\n",
        "\n",
        "X_train, X_val, y_train, y_val = train_test_split(X_train, y_train, test_size=0.2, random_state=42)"
      ],
      "metadata": {
        "id": "UKcbS-6ntlbj"
      },
      "execution_count": 61,
      "outputs": []
    },
    {
      "cell_type": "code",
      "source": [
        "X_train.shape, X_val.shape, y_train.shape, y_val.shape"
      ],
      "metadata": {
        "colab": {
          "base_uri": "https://localhost:8080/"
        },
        "id": "M8MoHDWnvB2o",
        "outputId": "6dd2e798-b4bb-48b5-bc98-1184c5befe83"
      },
      "execution_count": 62,
      "outputs": [
        {
          "output_type": "execute_result",
          "data": {
            "text/plain": [
              "((48000, 28, 28), (12000, 28, 28), (48000,), (12000,))"
            ]
          },
          "metadata": {},
          "execution_count": 62
        }
      ]
    },
    {
      "cell_type": "markdown",
      "source": [
        "### 정규화"
      ],
      "metadata": {
        "id": "rwdveQ5YvUUI"
      }
    },
    {
      "cell_type": "markdown",
      "source": [
        "정규화할때 왜 항상 255를 나누는지"
      ],
      "metadata": {
        "id": "67D4ujpuv3c-"
      }
    },
    {
      "cell_type": "code",
      "source": [
        "X_train = X_train/255.\n",
        "X_val = X_val/255.\n",
        "X_test = X_test/255."
      ],
      "metadata": {
        "id": "AyNLydgAvFg3"
      },
      "execution_count": 63,
      "outputs": []
    },
    {
      "cell_type": "markdown",
      "source": [
        "### 타겟값 onehotencoding"
      ],
      "metadata": {
        "id": "Q9YCHZ-JwOR3"
      }
    },
    {
      "cell_type": "code",
      "source": [
        "# y_train_o = tf.keras.utils.to_categorical(y_train)\n",
        "# y_val_o = tf.keras.utils.to_categorical(y_val)\n",
        "# y_test_o = tf.keras.utils.to_categorical(y_test)"
      ],
      "metadata": {
        "id": "PG8UUkPywEbA"
      },
      "execution_count": 64,
      "outputs": []
    },
    {
      "cell_type": "code",
      "source": [
        "# 모델 차원 맞추기\n",
        "X_train = X_train.reshape(-1,28,28,1)\n",
        "X_val = X_val.reshape(-1,28,28,1)\n",
        "X_test = X_test.reshape(-1,28,28,1)"
      ],
      "metadata": {
        "id": "7mhkoX1Ew80y"
      },
      "execution_count": 65,
      "outputs": []
    },
    {
      "cell_type": "markdown",
      "source": [
        "### 모델 구성"
      ],
      "metadata": {
        "id": "t-Hedva2wZnE"
      }
    },
    {
      "cell_type": "code",
      "source": [
        "def build_model_1():\n",
        "  model = keras.Sequential([\n",
        "      layers.Conv2D(32,3,activation='relu', input_shape=(28,28,1)), # 마지막 차원은 컬러는 3, 흑백은 1\n",
        "      layers.MaxPool2D(2),\n",
        "      layers.Conv2D(64,3, activation='relu'),\n",
        "      layers.MaxPool2D(2),\n",
        "      layers.Flatten(),\n",
        "      layers.Dense(256, activation='relu'),\n",
        "      layers.Dense(10, activation='softmax')\n",
        "  ])\n",
        "  model.compile(\n",
        "      optimizer='adam',\n",
        "      loss='sparse_categorical_crossentropy'\n",
        "  )\n",
        "  return model"
      ],
      "metadata": {
        "id": "9t1GltjvwdDC"
      },
      "execution_count": 66,
      "outputs": []
    },
    {
      "cell_type": "code",
      "source": [
        "model = build_model_1()\n",
        "model.summary()"
      ],
      "metadata": {
        "colab": {
          "base_uri": "https://localhost:8080/"
        },
        "id": "C9d7auV8yd8j",
        "outputId": "4fc80a6b-4adf-4729-b5e4-7e4a125bdc46"
      },
      "execution_count": 67,
      "outputs": [
        {
          "output_type": "stream",
          "name": "stdout",
          "text": [
            "Model: \"sequential_4\"\n",
            "_________________________________________________________________\n",
            " Layer (type)                Output Shape              Param #   \n",
            "=================================================================\n",
            " conv2d_8 (Conv2D)           (None, 26, 26, 32)        320       \n",
            "                                                                 \n",
            " max_pooling2d_8 (MaxPooling  (None, 13, 13, 32)       0         \n",
            " 2D)                                                             \n",
            "                                                                 \n",
            " conv2d_9 (Conv2D)           (None, 11, 11, 64)        18496     \n",
            "                                                                 \n",
            " max_pooling2d_9 (MaxPooling  (None, 5, 5, 64)         0         \n",
            " 2D)                                                             \n",
            "                                                                 \n",
            " flatten_4 (Flatten)         (None, 1600)              0         \n",
            "                                                                 \n",
            " dense_8 (Dense)             (None, 256)               409856    \n",
            "                                                                 \n",
            " dense_9 (Dense)             (None, 10)                2570      \n",
            "                                                                 \n",
            "=================================================================\n",
            "Total params: 431,242\n",
            "Trainable params: 431,242\n",
            "Non-trainable params: 0\n",
            "_________________________________________________________________\n"
          ]
        }
      ]
    },
    {
      "cell_type": "markdown",
      "source": [
        "### 학습"
      ],
      "metadata": {
        "id": "lC66dzHlyj0w"
      }
    },
    {
      "cell_type": "code",
      "source": [
        "Epochs = 10\n",
        "Batch = 64\n",
        "\n",
        "history = model.fit(\n",
        "    X_train, y_train,\n",
        "    epochs=Epochs,\n",
        "    batch_size=Batch,\n",
        "    validation_data=(X_val, y_val),\n",
        "    verbose=1\n",
        ")"
      ],
      "metadata": {
        "colab": {
          "base_uri": "https://localhost:8080/"
        },
        "id": "1DjvaNsizAVT",
        "outputId": "39710ae5-01f3-41cc-829e-ec3534e81c68"
      },
      "execution_count": 68,
      "outputs": [
        {
          "output_type": "stream",
          "name": "stdout",
          "text": [
            "Epoch 1/10\n",
            "750/750 [==============================] - 49s 64ms/step - loss: 0.4917 - val_loss: 0.3725\n",
            "Epoch 2/10\n",
            "750/750 [==============================] - 49s 66ms/step - loss: 0.3297 - val_loss: 0.3062\n",
            "Epoch 3/10\n",
            "750/750 [==============================] - 51s 68ms/step - loss: 0.2829 - val_loss: 0.3315\n",
            "Epoch 4/10\n",
            "750/750 [==============================] - 49s 65ms/step - loss: 0.2501 - val_loss: 0.2863\n",
            "Epoch 5/10\n",
            "750/750 [==============================] - 48s 63ms/step - loss: 0.2205 - val_loss: 0.2596\n",
            "Epoch 6/10\n",
            "750/750 [==============================] - 48s 65ms/step - loss: 0.1977 - val_loss: 0.2614\n",
            "Epoch 7/10\n",
            "750/750 [==============================] - 50s 66ms/step - loss: 0.1784 - val_loss: 0.2486\n",
            "Epoch 8/10\n",
            "750/750 [==============================] - 47s 63ms/step - loss: 0.1589 - val_loss: 0.2492\n",
            "Epoch 9/10\n",
            "750/750 [==============================] - 48s 64ms/step - loss: 0.1398 - val_loss: 0.2585\n",
            "Epoch 10/10\n",
            "750/750 [==============================] - 50s 66ms/step - loss: 0.1229 - val_loss: 0.2583\n"
          ]
        }
      ]
    },
    {
      "cell_type": "code",
      "source": [
        "y_pred = model.predict(X_test)"
      ],
      "metadata": {
        "colab": {
          "base_uri": "https://localhost:8080/"
        },
        "id": "7uEXLMyP3xeW",
        "outputId": "964b25ef-fad8-4ad9-80e7-88c3e39e49c5"
      },
      "execution_count": 69,
      "outputs": [
        {
          "output_type": "stream",
          "name": "stdout",
          "text": [
            "313/313 [==============================] - 3s 8ms/step\n"
          ]
        }
      ]
    },
    {
      "cell_type": "code",
      "source": [
        "y_pred[:5]"
      ],
      "metadata": {
        "colab": {
          "base_uri": "https://localhost:8080/"
        },
        "id": "UQMeZVkA31Ur",
        "outputId": "db00ce55-66b5-4eb3-fe1b-14c26d068bf8"
      },
      "execution_count": 70,
      "outputs": [
        {
          "output_type": "execute_result",
          "data": {
            "text/plain": [
              "array([[9.6421058e-09, 1.4582108e-09, 4.0098791e-09, 6.0151453e-09,\n",
              "        2.1293615e-10, 3.3912987e-05, 9.2269703e-10, 5.8100622e-06,\n",
              "        1.5698981e-10, 9.9996024e-01],\n",
              "       [9.8446953e-06, 1.0825451e-12, 9.9959761e-01, 1.0069494e-08,\n",
              "        3.9122766e-04, 3.3200149e-13, 1.3262876e-06, 3.4492415e-13,\n",
              "        3.7501242e-11, 1.2338912e-11],\n",
              "       [4.1335808e-14, 9.9999994e-01, 4.6209548e-15, 1.4439604e-15,\n",
              "        4.8531953e-19, 6.2959493e-19, 3.0567209e-17, 4.2234483e-28,\n",
              "        2.1579964e-15, 3.2727245e-23],\n",
              "       [1.5873722e-11, 9.9999994e-01, 1.9983518e-13, 4.0801316e-12,\n",
              "        5.6578511e-14, 5.2520867e-17, 2.8440592e-12, 1.2267043e-21,\n",
              "        1.3983024e-14, 5.3864615e-20],\n",
              "       [4.0061656e-01, 2.1264006e-07, 3.3363388e-03, 2.6327185e-04,\n",
              "        2.0831030e-02, 5.5074264e-07, 5.7494903e-01, 9.3235093e-07,\n",
              "        2.4217059e-08, 1.9629517e-06]], dtype=float32)"
            ]
          },
          "metadata": {},
          "execution_count": 70
        }
      ]
    },
    {
      "cell_type": "markdown",
      "source": [
        "### Function api"
      ],
      "metadata": {
        "id": "I3-cZyzd4IOz"
      }
    },
    {
      "cell_type": "code",
      "source": [
        "from tensorflow.keras.models import Model\n",
        "\n",
        "def build_model_2():\n",
        "  inp = layers.Input(shape=(28,28,1))\n",
        "  x0 = layers.Conv2D(32,3,activation='relu')(inp)\n",
        "  x1 = layers.MaxPool2D(2)(x0)\n",
        "  x2 = layers.Conv2D(32,3,activation='relu')(x1)\n",
        "  x3 = layers.MaxPool2D(2)(x2)\n",
        "  x4 = layers.Flatten()(x3)\n",
        "  x5 = layers.Dense(256, activation='relu')(x4)\n",
        "  out = layers.Dense(10, activation='softmax')(x5)\n",
        "\n",
        "  model = Model(inputs=inp, outputs=out)\n",
        "\n",
        "  model.compile(\n",
        "      optimizer='adam',\n",
        "      loss='sparse_categorical_crossentropy'\n",
        "  )\n",
        "\n",
        "  return model"
      ],
      "metadata": {
        "id": "aX5KHJI133j-"
      },
      "execution_count": 74,
      "outputs": []
    },
    {
      "cell_type": "code",
      "source": [
        "model = build_model_2()\n",
        "model.summary()"
      ],
      "metadata": {
        "colab": {
          "base_uri": "https://localhost:8080/"
        },
        "id": "09nFrYVJ5tB6",
        "outputId": "7907fbbf-561a-4a81-a811-5e3542d48c73"
      },
      "execution_count": 75,
      "outputs": [
        {
          "output_type": "stream",
          "name": "stdout",
          "text": [
            "Model: \"model\"\n",
            "_________________________________________________________________\n",
            " Layer (type)                Output Shape              Param #   \n",
            "=================================================================\n",
            " input_2 (InputLayer)        [(None, 28, 28, 1)]       0         \n",
            "                                                                 \n",
            " conv2d_11 (Conv2D)          (None, 26, 26, 32)        320       \n",
            "                                                                 \n",
            " max_pooling2d_10 (MaxPoolin  (None, 13, 13, 32)       0         \n",
            " g2D)                                                            \n",
            "                                                                 \n",
            " conv2d_12 (Conv2D)          (None, 11, 11, 32)        9248      \n",
            "                                                                 \n",
            " max_pooling2d_11 (MaxPoolin  (None, 5, 5, 32)         0         \n",
            " g2D)                                                            \n",
            "                                                                 \n",
            " flatten_5 (Flatten)         (None, 800)               0         \n",
            "                                                                 \n",
            " dense_10 (Dense)            (None, 256)               205056    \n",
            "                                                                 \n",
            " dense_11 (Dense)            (None, 10)                2570      \n",
            "                                                                 \n",
            "=================================================================\n",
            "Total params: 217,194\n",
            "Trainable params: 217,194\n",
            "Non-trainable params: 0\n",
            "_________________________________________________________________\n"
          ]
        }
      ]
    },
    {
      "cell_type": "code",
      "source": [
        "inputX = layers.Input(shape=(16,))\n",
        "x1 = layers.Dense(8, activation='relu')(inputX)\n",
        "x2 = layers.Dense(16, activation='relu')(x1)\n",
        "x3 = Model(inputs=inputX, outputs=x2)\n",
        "\n",
        "inputY = layers.Input(shape=(16,))\n",
        "x4 = layers.Dense(8, activation='relu')(inputY)\n",
        "x5 = layers.Dense(16, activation='relu')(x4)\n",
        "x6 = Model(inputs=inputY, outputs=x5)\n",
        "\n",
        "combined = layers.concatenate([x3.output, x6.output])\n",
        "z1 = layers.Dense(2, activation='relu')(combined)\n",
        "z2 = layers.Dense(1)(z1)\n",
        "\n",
        "model = Model(inputs=[x3.input, x6.input],outputs=z2)"
      ],
      "metadata": {
        "id": "h8Vv1JZJ5qEF"
      },
      "execution_count": 76,
      "outputs": []
    },
    {
      "cell_type": "code",
      "source": [
        "tf.keras.utils.plot_model(model)"
      ],
      "metadata": {
        "colab": {
          "base_uri": "https://localhost:8080/",
          "height": 564
        },
        "id": "ybvvl7Fd7EJ5",
        "outputId": "1b16f2d4-4838-487c-80d1-1ef1a6d0550d"
      },
      "execution_count": 78,
      "outputs": [
        {
          "output_type": "execute_result",
          "data": {
            "image/png": "[encoded data removed]",
            "text/plain": [
              "<IPython.core.display.Image object>"
            ]
          },
          "metadata": {},
          "execution_count": 78
        }
      ]
    },
    {
      "cell_type": "markdown",
      "source": [
        "### class(서브클래싱)"
      ],
      "metadata": {
        "id": "-0wYhRTT7gKq"
      }
    },
    {
      "cell_type": "code",
      "source": [
        "# 모델을 클래스로 만들기\n",
        "\n",
        "class MyModel(tf.keras.Model):\n",
        "  def __init__(self):\n",
        "    super(MyModel, self).__init__()\n",
        "    self.conv1 = tf.keras.layers.Conv2D(16, 3, activation='relu')\n",
        "    self.conv2 = tf.keras.layers.Conv2D(32, 3, activation='relu')\n",
        "    self.conv3 = tf.keras.layers.Conv2D(64, 3, activation='relu')\n",
        "    self.pool = tf.keras.layers.MaxPooling2D((2, 2))\n",
        "    self.flatten = tf.keras.layers.Flatten()\n",
        "    self.d1 = tf.keras.layers.Dense(32, activation='relu')\n",
        "    self.d2 = tf.keras.layers.Dense(10, activation='softmax')\n",
        "\n",
        "  def call(self, x):\n",
        "    x = self.conv1(x)\n",
        "    x = self.pool(x)\n",
        "    x = self.conv2(x)\n",
        "    x = self.pool(x)\n",
        "    x = self.conv3(x)\n",
        "    x = self.flatten(x)\n",
        "    x = self.d1(x)\n",
        "    return self.d2(x)"
      ],
      "metadata": {
        "id": "BOehiIBQ7K6U"
      },
      "execution_count": 79,
      "outputs": []
    },
    {
      "cell_type": "code",
      "source": [
        "model = MyModel()\n",
        "model.compile(\n",
        "    optimizer='adam',\n",
        "    loss='sparse_categorical_crossentropy'\n",
        ")"
      ],
      "metadata": {
        "id": "Y3dc_y0d8VTX"
      },
      "execution_count": 80,
      "outputs": []
    },
    {
      "cell_type": "code",
      "source": [
        "Epochs = 10\n",
        "Batch = 64\n",
        "\n",
        "history = model.fit(\n",
        "    X_train, y_train,\n",
        "    epochs=Epochs,\n",
        "    batch_size=Batch,\n",
        "    validation_data=(X_val, y_val),\n",
        "    verbose=1\n",
        ")"
      ],
      "metadata": {
        "colab": {
          "base_uri": "https://localhost:8080/"
        },
        "id": "wZ-QIYkl81Na",
        "outputId": "e34627a8-8701-496b-893d-9a4db0954fed"
      },
      "execution_count": 81,
      "outputs": [
        {
          "output_type": "stream",
          "name": "stdout",
          "text": [
            "Epoch 1/10\n",
            "750/750 [==============================] - 27s 35ms/step - loss: 0.6732 - val_loss: 0.4797\n",
            "Epoch 2/10\n",
            "750/750 [==============================] - 27s 36ms/step - loss: 0.4355 - val_loss: 0.4060\n",
            "Epoch 3/10\n",
            "750/750 [==============================] - 28s 37ms/step - loss: 0.3648 - val_loss: 0.3499\n",
            "Epoch 4/10\n",
            "750/750 [==============================] - 26s 35ms/step - loss: 0.3257 - val_loss: 0.3185\n",
            "Epoch 5/10\n",
            "750/750 [==============================] - 26s 35ms/step - loss: 0.2989 - val_loss: 0.3050\n",
            "Epoch 6/10\n",
            "750/750 [==============================] - 26s 35ms/step - loss: 0.2803 - val_loss: 0.3059\n",
            "Epoch 7/10\n",
            "750/750 [==============================] - 26s 34ms/step - loss: 0.2634 - val_loss: 0.2836\n",
            "Epoch 8/10\n",
            "750/750 [==============================] - 26s 35ms/step - loss: 0.2482 - val_loss: 0.2796\n",
            "Epoch 9/10\n",
            "750/750 [==============================] - 26s 34ms/step - loss: 0.2356 - val_loss: 0.2909\n",
            "Epoch 10/10\n",
            "750/750 [==============================] - 27s 36ms/step - loss: 0.2247 - val_loss: 0.2740\n"
          ]
        }
      ]
    },
    {
      "cell_type": "markdown",
      "source": [
        "# yolo5 custom objects"
      ],
      "metadata": {
        "id": "DldXfKqf_zwB"
      }
    },
    {
      "cell_type": "markdown",
      "source": [
        "## fine tuning"
      ],
      "metadata": {
        "id": "bLI6b9zY_41d"
      }
    },
    {
      "cell_type": "code",
      "source": [
        "!curl -L \"https://public.roboflow.com/ds/mGme2MXOo2?key=16JC1q1bzP\" > roboflow.zip"
      ],
      "metadata": {
        "colab": {
          "base_uri": "https://localhost:8080/"
        },
        "id": "HBgJXL0h_7v_",
        "outputId": "2ac7ea41-007d-419b-a5f2-ebea4df64fdc"
      },
      "execution_count": 83,
      "outputs": [
        {
          "output_type": "stream",
          "name": "stdout",
          "text": [
            "  % Total    % Received % Xferd  Average Speed   Time    Time     Time  Current\n",
            "                                 Dload  Upload   Total   Spent    Left  Speed\n",
            "100   894  100   894    0     0   1625      0 --:--:-- --:--:-- --:--:--  1625\n",
            "100 11.5M  100 11.5M    0     0  14.2M      0 --:--:-- --:--:-- --:--:--  105M\n"
          ]
        }
      ]
    },
    {
      "cell_type": "code",
      "source": [
        "!unzip /content/roboflow.zip"
      ],
      "metadata": {
        "colab": {
          "base_uri": "https://localhost:8080/"
        },
        "id": "sl1mzsOyAhdV",
        "outputId": "dfc8bb6a-b2ff-4560-e0a8-db97f3af86fc"
      },
      "execution_count": 84,
      "outputs": [
        {
          "output_type": "stream",
          "name": "stdout",
          "text": [
            "Archive:  /content/roboflow.zip\n",
            " extracting: README.dataset.txt      \n",
            " extracting: README.roboflow.txt     \n",
            " extracting: data.yaml               \n",
            "   creating: export/\n",
            "   creating: export/images/\n",
            " extracting: export/images/raccoon-100_jpg.rf.YWIftfgUdZqJLTkvI9W2.jpg  \n",
            " extracting: export/images/raccoon-101_jpg.rf.ebfr15yC06H7KdSNWJkC.jpg  \n",
            " extracting: export/images/raccoon-102_jpg.rf.Vtizg4N4D1Wn9fv4sBaJ.jpg  \n",
            " extracting: export/images/raccoon-103_jpg.rf.yx4ScGFA2FZ23qfitAfV.jpg  \n",
            " extracting: export/images/raccoon-104_jpg.rf.HdpZVmq1teO4b2ny0HJO.jpg  \n",
            " extracting: export/images/raccoon-105_jpg.rf.S4P0w34qeFrLIhNIHmuD.jpg  \n",
            " extracting: export/images/raccoon-106_jpg.rf.UCuMtEoBFF5lvbYSErKC.jpg  \n",
            " extracting: export/images/raccoon-107_jpg.rf.pQbBB9zNruyNhePH5B52.jpg  \n",
            " extracting: export/images/raccoon-108_jpg.rf.qFSgit2nhskdamOaI6Nm.jpg  \n",
            " extracting: export/images/raccoon-109_jpg.rf.LzEfJ28WbPo5OxpukIGd.jpg  \n",
            " extracting: export/images/raccoon-10_jpg.rf.umSu38h2FUXMMT9rANBV.jpg  \n",
            " extracting: export/images/raccoon-110_jpg.rf.9H9GqFdeMHk8Vh3CTgtP.jpg  \n",
            " extracting: export/images/raccoon-111_jpg.rf.LEvSQCZ7dQDrt8BQ1cUm.jpg  \n",
            " extracting: export/images/raccoon-112_jpg.rf.nbkvNSV9kgY2YMtnEt10.jpg  \n",
            " extracting: export/images/raccoon-113_jpg.rf.fnc60ia7jy2Ibb5I4gS3.jpg  \n",
            " extracting: export/images/raccoon-114_jpg.rf.RiU3t94Jeo5W0fd770Vt.jpg  \n",
            " extracting: export/images/raccoon-115_jpg.rf.7RRyMHlnx22S2N6vniTN.jpg  \n",
            " extracting: export/images/raccoon-117_jpg.rf.fVB0ixT8jKL4RVN9U1IR.jpg  \n",
            " extracting: export/images/raccoon-118_jpg.rf.4UxK1xxdM4Tfqf7ddN6j.jpg  \n",
            " extracting: export/images/raccoon-119_jpg.rf.bmAg2RtNoisxOmzkfzbE.jpg  \n",
            " extracting: export/images/raccoon-11_jpg.rf.lNZTRyjSWF2bN5P9Pz7z.jpg  \n",
            " extracting: export/images/raccoon-121_jpg.rf.0vtSjAnB6eM9ME4D67ol.jpg  \n",
            " extracting: export/images/raccoon-122_jpg.rf.aD7ZY4UYguNK7JYpLx0c.jpg  \n",
            " extracting: export/images/raccoon-123_jpg.rf.e2T41DASi7hi7wG7hfCv.jpg  \n",
            " extracting: export/images/raccoon-124_jpg.rf.8q2LIZpw29DCvJBEjkfw.jpg  \n",
            " extracting: export/images/raccoon-125_jpg.rf.V2Ul5pPMx4k6ogBIMwjR.jpg  \n",
            " extracting: export/images/raccoon-126_jpg.rf.YsqOAv7zuAzV39ZNjJWF.jpg  \n",
            " extracting: export/images/raccoon-127_jpg.rf.OKCWEzHOMMeiTTxbjOqe.jpg  \n",
            " extracting: export/images/raccoon-128_jpg.rf.wVPQVhCxh9rg5pvhDqMY.jpg  \n",
            " extracting: export/images/raccoon-129_jpg.rf.nFKEP4T5G7uyinMGKHqt.jpg  \n",
            " extracting: export/images/raccoon-12_jpg.rf.9XeEPEIOrBYa8SV7y8nL.jpg  \n",
            " extracting: export/images/raccoon-130_jpg.rf.DXMxqz61gFaA9r6hPaq9.jpg  \n",
            " extracting: export/images/raccoon-131_jpg.rf.qcvI2Yyo9dCoMVIx6qNw.jpg  \n",
            " extracting: export/images/raccoon-132_jpg.rf.JuPvZXmiUTpKidRE0xBK.jpg  \n",
            " extracting: export/images/raccoon-133_jpg.rf.AumbkGBEaK3if3xr2rXy.jpg  \n",
            " extracting: export/images/raccoon-134_jpg.rf.RFGL6ESeJCrId85Vm15G.jpg  \n",
            " extracting: export/images/raccoon-135_jpg.rf.IMrZrg6Kz4AEOlCpze8l.jpg  \n",
            " extracting: export/images/raccoon-136_jpg.rf.qyzqkaghSS8MCBX84b2s.jpg  \n",
            " extracting: export/images/raccoon-137_jpg.rf.pTlX2hsGoAvoglO0LBnD.jpg  \n",
            " extracting: export/images/raccoon-138_jpg.rf.iaM9s8IMWeoRA5VnDJXP.jpg  \n",
            " extracting: export/images/raccoon-139_jpg.rf.YuOi6NoWDJZngmRFa2yO.jpg  \n",
            " extracting: export/images/raccoon-13_jpg.rf.hW0fUIZl7o6oWoyl7Kpf.jpg  \n",
            " extracting: export/images/raccoon-140_jpg.rf.XHbEI3OuH8rgeHzLDNDi.jpg  \n",
            " extracting: export/images/raccoon-141_jpg.rf.Z5FqPjTBW22zdXU1DAbv.jpg  \n",
            " extracting: export/images/raccoon-142_jpg.rf.elSPBxwT3Cs6QobeFtY9.jpg  \n",
            " extracting: export/images/raccoon-143_jpg.rf.MJwGepEt8iJgbqjol0sN.jpg  \n",
            " extracting: export/images/raccoon-144_jpg.rf.BsojHoPGoxD11h7QIylE.jpg  \n",
            " extracting: export/images/raccoon-145_jpg.rf.JCWppjwVzSTAK5Fv0aSs.jpg  \n",
            " extracting: export/images/raccoon-146_jpg.rf.AT3OEtpurP9GNGFMNHUU.jpg  \n",
            " extracting: export/images/raccoon-147_jpg.rf.jjmmhY1dLMFn4jJlaeW9.jpg  \n",
            " extracting: export/images/raccoon-148_jpg.rf.vTmvA1TNQWOc2TfExUyR.jpg  \n",
            " extracting: export/images/raccoon-149_jpg.rf.xkn1c7ndvjcwaPjCMRU4.jpg  \n",
            " extracting: export/images/raccoon-14_jpg.rf.Co6rWUaZCOO8otkY0IcD.jpg  \n",
            " extracting: export/images/raccoon-150_jpg.rf.bzGGG0tHFLVQCOcdrWTu.jpg  \n",
            " extracting: export/images/raccoon-151_jpg.rf.5QM6WsoL5TPMyAnE0exp.jpg  \n",
            " extracting: export/images/raccoon-152_jpg.rf.xLGes66kRxKWt9q1Y7JL.jpg  \n",
            " extracting: export/images/raccoon-153_jpg.rf.zHGPtPwRfHNKb0tqWkv4.jpg  \n",
            " extracting: export/images/raccoon-154_jpg.rf.4uPzYIGp5vUBK0Mpvg9F.jpg  \n",
            " extracting: export/images/raccoon-155_jpg.rf.ty5FSo5lTeXqwirH0gUx.jpg  \n",
            " extracting: export/images/raccoon-156_jpg.rf.ftJOhD0Ui1n1glvfhKcr.jpg  \n",
            " extracting: export/images/raccoon-157_jpg.rf.sFXF3Byt99UCrAC39stv.jpg  \n",
            " extracting: export/images/raccoon-158_jpg.rf.29Zyi0Uggb1h2Bd5lb4L.jpg  \n",
            " extracting: export/images/raccoon-159_jpg.rf.k5wJBaUEt6Vvvl7cWLOX.jpg  \n",
            " extracting: export/images/raccoon-15_jpg.rf.489WJgVbH5eohmBISIHF.jpg  \n",
            " extracting: export/images/raccoon-160_jpg.rf.j8CAnHTyv79V0xqIpWWc.jpg  \n",
            " extracting: export/images/raccoon-161_jpg.rf.0Mle2LMLqLVbuWufJSM6.jpg  \n",
            " extracting: export/images/raccoon-162_jpg.rf.abgsw4ndfVWi8GTwjzwc.jpg  \n",
            " extracting: export/images/raccoon-163_jpg.rf.0YTbudXBepA7uEwCmOnl.jpg  \n",
            " extracting: export/images/raccoon-164_jpg.rf.mDypaem8OyAzB52vVdNx.jpg  \n",
            " extracting: export/images/raccoon-165_jpg.rf.8SCzRog4BwZ83PXUcED3.jpg  \n",
            " extracting: export/images/raccoon-166_jpg.rf.eRTnxiWjkSE6gJRIzAu0.jpg  \n",
            " extracting: export/images/raccoon-167_jpg.rf.qvCX0z6icMl2ih05K5v9.jpg  \n",
            " extracting: export/images/raccoon-168_jpg.rf.VGysc5nmOQDryDkgYMIj.jpg  \n",
            " extracting: export/images/raccoon-169_jpg.rf.062UREZtsQG7f5AmLIiA.jpg  \n",
            " extracting: export/images/raccoon-16_jpg.rf.B7mRyX2zKgmj4GfdTHCu.jpg  \n",
            " extracting: export/images/raccoon-170_jpg.rf.6BUQJQ2JcicLFyXoEM4H.jpg  \n",
            " extracting: export/images/raccoon-171_jpg.rf.A6U9PhTpm209NbQEuHVd.jpg  \n",
            " extracting: export/images/raccoon-172_jpg.rf.LJbm7o2O1r9n30c43RTe.jpg  \n",
            " extracting: export/images/raccoon-173_jpg.rf.v62IA847b0Mh9HlqgH0t.jpg  \n",
            " extracting: export/images/raccoon-174_jpg.rf.0TApbeZZ8Lq5kQ6yZSwF.jpg  \n",
            " extracting: export/images/raccoon-175_jpg.rf.qmCGlOJpoou2TtPxfBEr.jpg  \n",
            " extracting: export/images/raccoon-176_jpg.rf.B7dOSWLGt9AqGehid5Wc.jpg  \n",
            " extracting: export/images/raccoon-177_jpg.rf.nCtmzWTE90cNGA2AqCKX.jpg  \n",
            " extracting: export/images/raccoon-178_jpg.rf.c1wXWhgZXADDzCfgyAaJ.jpg  \n",
            " extracting: export/images/raccoon-179_jpg.rf.SLj5LR0VtqFsgLAcY7jB.jpg  \n",
            " extracting: export/images/raccoon-17_jpg.rf.LSzSuKkifGMSU8hDAB5h.jpg  \n",
            " extracting: export/images/raccoon-180_jpg.rf.ce25zVjoS2kYjBMoa8yr.jpg  \n",
            " extracting: export/images/raccoon-181_jpg.rf.xeJaWTEMqPNGPY1dcXXm.jpg  \n",
            " extracting: export/images/raccoon-182_jpg.rf.0uW2FD3INY695W6ylKva.jpg  \n",
            " extracting: export/images/raccoon-183_jpg.rf.OB5aIruBsbjNt8ExrR57.jpg  \n",
            " extracting: export/images/raccoon-184_jpg.rf.Jlp4Mc8yigJJHMm2nJ0o.jpg  \n",
            " extracting: export/images/raccoon-185_jpg.rf.BYk3nsCTaMrRw1vlb4Pp.jpg  \n",
            " extracting: export/images/raccoon-186_jpg.rf.Qszb5mCxtPOpTk0ZK7HU.jpg  \n",
            " extracting: export/images/raccoon-187_jpg.rf.nzeEH0LYtGfw3iO4Ee5T.jpg  \n",
            " extracting: export/images/raccoon-188_jpg.rf.JcGxRHcszaDQhuOMBaa1.jpg  \n",
            " extracting: export/images/raccoon-189_jpg.rf.9ARgm1yqSl1ae84rLngN.jpg  \n",
            " extracting: export/images/raccoon-18_jpg.rf.V2oz98hhPoNa0IUhd1mo.jpg  \n",
            " extracting: export/images/raccoon-190_jpg.rf.wa3dpHcSJzHEx7D6nePq.jpg  \n",
            " extracting: export/images/raccoon-191_jpg.rf.ymlwf9yvRpSxSpZ9hzUa.jpg  \n",
            " extracting: export/images/raccoon-192_jpg.rf.XZrpaOdOLsftCK06774t.jpg  \n",
            " extracting: export/images/raccoon-193_jpg.rf.YlCQo2ZpBqLMpQDL2Kse.jpg  \n",
            " extracting: export/images/raccoon-194_jpg.rf.ZIvthRxYrcmdkj7oQOPX.jpg  \n",
            " extracting: export/images/raccoon-195_jpg.rf.740NhNOOgSi0w9QomssP.jpg  \n",
            " extracting: export/images/raccoon-196_jpg.rf.5NAUtrxfeBUqpWlCar64.jpg  \n",
            " extracting: export/images/raccoon-197_jpg.rf.ieNMvNPmchNdAEzWg5Fc.jpg  \n",
            " extracting: export/images/raccoon-198_jpg.rf.a8FPzrog2et3M0xInLCx.jpg  \n",
            " extracting: export/images/raccoon-199_jpg.rf.qPwz4cyyVZcPAop72vBf.jpg  \n",
            " extracting: export/images/raccoon-19_jpg.rf.lmoNF5jvYAjMaxN6XdXt.jpg  \n",
            " extracting: export/images/raccoon-1_jpg.rf.sIcWuSUPDjwlVKDOlw6R.jpg  \n",
            " extracting: export/images/raccoon-200_jpg.rf.W3rpJysOHvdOAuEnTNEY.jpg  \n",
            " extracting: export/images/raccoon-20_jpg.rf.4WAs8L29reqeirSqGg9t.jpg  \n",
            " extracting: export/images/raccoon-21_jpg.rf.7XOQqxp8MQwRrVn8xE76.jpg  \n",
            " extracting: export/images/raccoon-22_jpg.rf.OG3Ml7Dolj9c0o4PbJK6.jpg  \n",
            " extracting: export/images/raccoon-23_jpg.rf.gw3KdUyjaP5cQ6zcS40N.jpg  \n",
            " extracting: export/images/raccoon-24_jpg.rf.LT1VC0amKwztEwO6bFvk.jpg  \n",
            " extracting: export/images/raccoon-25_jpg.rf.mV9OK1wVxDSQRZSVIDkT.jpg  \n",
            " extracting: export/images/raccoon-26_jpg.rf.N7Na7mM0dqMA0F31Iz45.jpg  \n",
            " extracting: export/images/raccoon-27_jpg.rf.OMPIn4rBFwNMk7bzedUN.jpg  \n",
            " extracting: export/images/raccoon-28_jpg.rf.BpDylskQoKmQJepcWOr8.jpg  \n",
            " extracting: export/images/raccoon-29_jpg.rf.5UbtcvzGv7KtCxLnBv7z.jpg  \n",
            " extracting: export/images/raccoon-2_jpg.rf.NBPogI6xGeUn9aXAeJC3.jpg  \n",
            " extracting: export/images/raccoon-30_jpg.rf.NPkzKohNa5D2tABfOYQy.jpg  \n",
            " extracting: export/images/raccoon-31_jpg.rf.fMbi4VStxp6mv8tMSqYD.jpg  \n",
            " extracting: export/images/raccoon-32_jpg.rf.A3giRbzBDwzWsCUjxcGU.jpg  \n",
            " extracting: export/images/raccoon-33_jpg.rf.eoVqap7XuMyDd9FbC7eI.jpg  \n",
            " extracting: export/images/raccoon-34_jpg.rf.KgTOGXyzaqjDSUx18u3t.jpg  \n",
            " extracting: export/images/raccoon-35_jpg.rf.gBI37gb6eeIrAdWGNEDK.jpg  \n",
            " extracting: export/images/raccoon-36_jpg.rf.ADOT5Xcrqf2CBQd1liRf.jpg  \n",
            " extracting: export/images/raccoon-37_jpg.rf.aKMbQgz3gKmlAhdWypTl.jpg  \n",
            " extracting: export/images/raccoon-38_jpg.rf.u4NfrBZwWiAr37WnyafY.jpg  \n",
            " extracting: export/images/raccoon-39_jpg.rf.yGhEQLX6DpqWHdSETZB6.jpg  \n",
            " extracting: export/images/raccoon-3_jpg.rf.FehnT1wDKERrv4oXztdm.jpg  \n",
            " extracting: export/images/raccoon-40_jpg.rf.pPYmgP0Dt4W3jAq6cJP7.jpg  \n",
            " extracting: export/images/raccoon-41_jpg.rf.W9dUzr9uz0SR0O6T6LkJ.jpg  \n",
            " extracting: export/images/raccoon-42_jpg.rf.vsqqbnbsZq3Fs6QloNbK.jpg  \n",
            " extracting: export/images/raccoon-43_jpg.rf.chWSNPCd8K64vFDiFtZ9.jpg  \n",
            " extracting: export/images/raccoon-44_jpg.rf.AskpsRiftcZiHcpXbY0L.jpg  \n",
            " extracting: export/images/raccoon-45_jpg.rf.I8Z08N1z5UWSUqPKHZPd.jpg  \n",
            " extracting: export/images/raccoon-46_jpg.rf.HaOZjeMSiYmebkiHgVra.jpg  \n",
            " extracting: export/images/raccoon-47_jpg.rf.phm5uh52g5EiE2hIqM5i.jpg  \n",
            " extracting: export/images/raccoon-48_jpg.rf.SuALG3iAomm4ma3XgKsa.jpg  \n",
            " extracting: export/images/raccoon-49_jpg.rf.ueFRmQOF2DaqGGEBhVhF.jpg  \n",
            " extracting: export/images/raccoon-4_jpg.rf.Lluzl7wf3QOiSmiMiSIj.jpg  \n",
            " extracting: export/images/raccoon-50_jpg.rf.whvFMBzgHg3ts3amHFfP.jpg  \n",
            " extracting: export/images/raccoon-51_jpg.rf.j6jIBivmhDWR5DJcwoIQ.jpg  \n",
            " extracting: export/images/raccoon-53_jpg.rf.h0gjlinfJgoHZJXir7UA.jpg  \n",
            " extracting: export/images/raccoon-54_jpg.rf.MR204FVYc9XDRRDLoAzR.jpg  \n",
            " extracting: export/images/raccoon-55_jpg.rf.iiuBuVwt1FmxfjJuI1TC.jpg  \n",
            " extracting: export/images/raccoon-56_jpg.rf.IR7dpRC8jTsXirB76IrI.jpg  \n",
            " extracting: export/images/raccoon-57_jpg.rf.8yZARYYn68JKxfOa2n4f.jpg  \n",
            " extracting: export/images/raccoon-58_jpg.rf.xkDTDgIa6iTVbYXlECQe.jpg  \n",
            " extracting: export/images/raccoon-59_jpg.rf.6aDJXsBMD9aNCdHNZ5Mu.jpg  \n",
            " extracting: export/images/raccoon-5_jpg.rf.P2kMV71sw3gG2PUfu9Km.jpg  \n",
            " extracting: export/images/raccoon-60_jpg.rf.uFavFoIvkBhCg7I6ZUSC.jpg  \n",
            " extracting: export/images/raccoon-61_jpg.rf.3EbaZ6gnGnQXGoChS06v.jpg  \n",
            " extracting: export/images/raccoon-62_jpg.rf.q5lRDAZbZyb9ibt1NkHA.jpg  \n",
            " extracting: export/images/raccoon-63_jpg.rf.dT1hjklwbAWPVbSj4uKq.jpg  \n",
            " extracting: export/images/raccoon-64_jpg.rf.Mg6mwuhmKMgoUxIlT6jV.jpg  \n",
            " extracting: export/images/raccoon-66_jpg.rf.pDZVWkbZQDCqiA38nh2x.jpg  \n",
            " extracting: export/images/raccoon-67_jpg.rf.kJTJ4Op1CRhIiZciiV3l.jpg  \n",
            " extracting: export/images/raccoon-68_jpg.rf.dV9RLCF9qBirlNmM4QDH.jpg  \n",
            " extracting: export/images/raccoon-69_jpg.rf.GeXNSZJE74xhqy7y93c3.jpg  \n",
            " extracting: export/images/raccoon-6_jpg.rf.w8P1isJRqHWHZaiTZK99.jpg  \n",
            " extracting: export/images/raccoon-70_jpg.rf.Xel5jDFSyCo1scmKTGhY.jpg  \n",
            " extracting: export/images/raccoon-71_jpg.rf.yJWB7DaXkDdrZLhsTo45.jpg  \n",
            " extracting: export/images/raccoon-72_jpg.rf.jefuPY3lQ0BGw1D2Xub8.jpg  \n",
            " extracting: export/images/raccoon-73_jpg.rf.IgPHaS3AuJUHRXQmIhDJ.jpg  \n",
            " extracting: export/images/raccoon-74_jpg.rf.rTU8ZxbtKRF4JHrqvEOq.jpg  \n",
            " extracting: export/images/raccoon-75_jpg.rf.YlMs1n4dZe1fSWKIAsDd.jpg  \n",
            " extracting: export/images/raccoon-76_jpg.rf.FzjkIXRw6gk8NBFEGHI2.jpg  \n",
            " extracting: export/images/raccoon-77_jpg.rf.q9hGI9jrDJ1PpxX1x0rd.jpg  \n",
            " extracting: export/images/raccoon-78_jpg.rf.BbHiKwTi7tIssLj0rum6.jpg  \n",
            " extracting: export/images/raccoon-79_jpg.rf.ktsyolcZVgX1MNcWl2E6.jpg  \n",
            " extracting: export/images/raccoon-7_jpg.rf.lHsAWCnnb1Kzt8rmowxp.jpg  \n",
            " extracting: export/images/raccoon-80_jpg.rf.Ec9UJrEgbAOo9daEs5eV.jpg  \n",
            " extracting: export/images/raccoon-81_jpg.rf.Mq6NXnnLzv34CdUVe76T.jpg  \n",
            " extracting: export/images/raccoon-82_jpg.rf.o9L7wWqW3gUCb5APXKmJ.jpg  \n",
            " extracting: export/images/raccoon-83_jpg.rf.atgkVnBAHbQbfO8tha39.jpg  \n",
            " extracting: export/images/raccoon-84_jpg.rf.EVGCgijizwHBcDHiLCSw.jpg  \n",
            " extracting: export/images/raccoon-85_jpg.rf.u3OeM7EG2WspSHohlsK2.jpg  \n",
            " extracting: export/images/raccoon-86_jpg.rf.qxniBkdMh5L4p6IDfKmJ.jpg  \n",
            " extracting: export/images/raccoon-87_jpg.rf.Mii8qqnFvQSvnNjeka0P.jpg  \n",
            " extracting: export/images/raccoon-88_jpg.rf.4MfWIW6Hrvz1KH1oZ5GZ.jpg  \n",
            " extracting: export/images/raccoon-89_jpg.rf.0LCgtBGqdeteFcGC0806.jpg  \n",
            " extracting: export/images/raccoon-8_jpg.rf.exZsAoVTaPCdKkaYKDNy.jpg  \n",
            " extracting: export/images/raccoon-90_jpg.rf.jUuX6n7D184OJy9gGkVL.jpg  \n",
            " extracting: export/images/raccoon-91_jpg.rf.zdghE2k81QF9RDOjL2Aw.jpg  \n",
            " extracting: export/images/raccoon-92_jpg.rf.spnLudxRSgVmSMlNM46D.jpg  \n",
            " extracting: export/images/raccoon-93_jpg.rf.aLVYqVxq4jhYDW3rLvSl.jpg  \n",
            " extracting: export/images/raccoon-94_jpg.rf.5CNnewuURDkzQIGjJW4K.jpg  \n",
            " extracting: export/images/raccoon-95_jpg.rf.s5mrXnEKqpNE8vSsFhDA.jpg  \n",
            " extracting: export/images/raccoon-96_jpg.rf.HWHEmDz9DkkpkqaaVyPz.jpg  \n",
            " extracting: export/images/raccoon-97_jpg.rf.jiRlV3vZq8y5ywPxxMiU.jpg  \n",
            " extracting: export/images/raccoon-98_jpg.rf.rAeGjNwLevttDW7jAQal.jpg  \n",
            " extracting: export/images/raccoon-99_jpg.rf.r00W7YOUlLNBH5WP07gR.jpg  \n",
            " extracting: export/images/raccoon-9_jpg.rf.lICx86OESVjDaYlcKPYr.jpg  \n",
            "   creating: export/labels/\n",
            " extracting: export/labels/raccoon-100_jpg.rf.YWIftfgUdZqJLTkvI9W2.txt  \n",
            " extracting: export/labels/raccoon-101_jpg.rf.ebfr15yC06H7KdSNWJkC.txt  \n",
            " extracting: export/labels/raccoon-102_jpg.rf.Vtizg4N4D1Wn9fv4sBaJ.txt  \n",
            " extracting: export/labels/raccoon-103_jpg.rf.yx4ScGFA2FZ23qfitAfV.txt  \n",
            " extracting: export/labels/raccoon-104_jpg.rf.HdpZVmq1teO4b2ny0HJO.txt  \n",
            " extracting: export/labels/raccoon-105_jpg.rf.S4P0w34qeFrLIhNIHmuD.txt  \n",
            " extracting: export/labels/raccoon-106_jpg.rf.UCuMtEoBFF5lvbYSErKC.txt  \n",
            " extracting: export/labels/raccoon-107_jpg.rf.pQbBB9zNruyNhePH5B52.txt  \n",
            " extracting: export/labels/raccoon-108_jpg.rf.qFSgit2nhskdamOaI6Nm.txt  \n",
            " extracting: export/labels/raccoon-109_jpg.rf.LzEfJ28WbPo5OxpukIGd.txt  \n",
            " extracting: export/labels/raccoon-10_jpg.rf.umSu38h2FUXMMT9rANBV.txt  \n",
            " extracting: export/labels/raccoon-110_jpg.rf.9H9GqFdeMHk8Vh3CTgtP.txt  \n",
            " extracting: export/labels/raccoon-111_jpg.rf.LEvSQCZ7dQDrt8BQ1cUm.txt  \n",
            " extracting: export/labels/raccoon-112_jpg.rf.nbkvNSV9kgY2YMtnEt10.txt  \n",
            " extracting: export/labels/raccoon-113_jpg.rf.fnc60ia7jy2Ibb5I4gS3.txt  \n",
            " extracting: export/labels/raccoon-114_jpg.rf.RiU3t94Jeo5W0fd770Vt.txt  \n",
            " extracting: export/labels/raccoon-115_jpg.rf.7RRyMHlnx22S2N6vniTN.txt  \n",
            " extracting: export/labels/raccoon-117_jpg.rf.fVB0ixT8jKL4RVN9U1IR.txt  \n",
            " extracting: export/labels/raccoon-118_jpg.rf.4UxK1xxdM4Tfqf7ddN6j.txt  \n",
            " extracting: export/labels/raccoon-119_jpg.rf.bmAg2RtNoisxOmzkfzbE.txt  \n",
            " extracting: export/labels/raccoon-11_jpg.rf.lNZTRyjSWF2bN5P9Pz7z.txt  \n",
            " extracting: export/labels/raccoon-121_jpg.rf.0vtSjAnB6eM9ME4D67ol.txt  \n",
            " extracting: export/labels/raccoon-122_jpg.rf.aD7ZY4UYguNK7JYpLx0c.txt  \n",
            " extracting: export/labels/raccoon-123_jpg.rf.e2T41DASi7hi7wG7hfCv.txt  \n",
            " extracting: export/labels/raccoon-124_jpg.rf.8q2LIZpw29DCvJBEjkfw.txt  \n",
            " extracting: export/labels/raccoon-125_jpg.rf.V2Ul5pPMx4k6ogBIMwjR.txt  \n",
            " extracting: export/labels/raccoon-126_jpg.rf.YsqOAv7zuAzV39ZNjJWF.txt  \n",
            " extracting: export/labels/raccoon-127_jpg.rf.OKCWEzHOMMeiTTxbjOqe.txt  \n",
            " extracting: export/labels/raccoon-128_jpg.rf.wVPQVhCxh9rg5pvhDqMY.txt  \n",
            " extracting: export/labels/raccoon-129_jpg.rf.nFKEP4T5G7uyinMGKHqt.txt  \n",
            " extracting: export/labels/raccoon-12_jpg.rf.9XeEPEIOrBYa8SV7y8nL.txt  \n",
            " extracting: export/labels/raccoon-130_jpg.rf.DXMxqz61gFaA9r6hPaq9.txt  \n",
            " extracting: export/labels/raccoon-131_jpg.rf.qcvI2Yyo9dCoMVIx6qNw.txt  \n",
            " extracting: export/labels/raccoon-132_jpg.rf.JuPvZXmiUTpKidRE0xBK.txt  \n",
            " extracting: export/labels/raccoon-133_jpg.rf.AumbkGBEaK3if3xr2rXy.txt  \n",
            " extracting: export/labels/raccoon-134_jpg.rf.RFGL6ESeJCrId85Vm15G.txt  \n",
            " extracting: export/labels/raccoon-135_jpg.rf.IMrZrg6Kz4AEOlCpze8l.txt  \n",
            " extracting: export/labels/raccoon-136_jpg.rf.qyzqkaghSS8MCBX84b2s.txt  \n",
            " extracting: export/labels/raccoon-137_jpg.rf.pTlX2hsGoAvoglO0LBnD.txt  \n",
            " extracting: export/labels/raccoon-138_jpg.rf.iaM9s8IMWeoRA5VnDJXP.txt  \n",
            " extracting: export/labels/raccoon-139_jpg.rf.YuOi6NoWDJZngmRFa2yO.txt  \n",
            " extracting: export/labels/raccoon-13_jpg.rf.hW0fUIZl7o6oWoyl7Kpf.txt  \n",
            " extracting: export/labels/raccoon-140_jpg.rf.XHbEI3OuH8rgeHzLDNDi.txt  \n",
            " extracting: export/labels/raccoon-141_jpg.rf.Z5FqPjTBW22zdXU1DAbv.txt  \n",
            " extracting: export/labels/raccoon-142_jpg.rf.elSPBxwT3Cs6QobeFtY9.txt  \n",
            " extracting: export/labels/raccoon-143_jpg.rf.MJwGepEt8iJgbqjol0sN.txt  \n",
            " extracting: export/labels/raccoon-144_jpg.rf.BsojHoPGoxD11h7QIylE.txt  \n",
            " extracting: export/labels/raccoon-145_jpg.rf.JCWppjwVzSTAK5Fv0aSs.txt  \n",
            " extracting: export/labels/raccoon-146_jpg.rf.AT3OEtpurP9GNGFMNHUU.txt  \n",
            " extracting: export/labels/raccoon-147_jpg.rf.jjmmhY1dLMFn4jJlaeW9.txt  \n",
            " extracting: export/labels/raccoon-148_jpg.rf.vTmvA1TNQWOc2TfExUyR.txt  \n",
            " extracting: export/labels/raccoon-149_jpg.rf.xkn1c7ndvjcwaPjCMRU4.txt  \n",
            " extracting: export/labels/raccoon-14_jpg.rf.Co6rWUaZCOO8otkY0IcD.txt  \n",
            " extracting: export/labels/raccoon-150_jpg.rf.bzGGG0tHFLVQCOcdrWTu.txt  \n",
            " extracting: export/labels/raccoon-151_jpg.rf.5QM6WsoL5TPMyAnE0exp.txt  \n",
            " extracting: export/labels/raccoon-152_jpg.rf.xLGes66kRxKWt9q1Y7JL.txt  \n",
            " extracting: export/labels/raccoon-153_jpg.rf.zHGPtPwRfHNKb0tqWkv4.txt  \n",
            " extracting: export/labels/raccoon-154_jpg.rf.4uPzYIGp5vUBK0Mpvg9F.txt  \n",
            " extracting: export/labels/raccoon-155_jpg.rf.ty5FSo5lTeXqwirH0gUx.txt  \n",
            " extracting: export/labels/raccoon-156_jpg.rf.ftJOhD0Ui1n1glvfhKcr.txt  \n",
            " extracting: export/labels/raccoon-157_jpg.rf.sFXF3Byt99UCrAC39stv.txt  \n",
            " extracting: export/labels/raccoon-158_jpg.rf.29Zyi0Uggb1h2Bd5lb4L.txt  \n",
            " extracting: export/labels/raccoon-159_jpg.rf.k5wJBaUEt6Vvvl7cWLOX.txt  \n",
            " extracting: export/labels/raccoon-15_jpg.rf.489WJgVbH5eohmBISIHF.txt  \n",
            " extracting: export/labels/raccoon-160_jpg.rf.j8CAnHTyv79V0xqIpWWc.txt  \n",
            " extracting: export/labels/raccoon-161_jpg.rf.0Mle2LMLqLVbuWufJSM6.txt  \n",
            " extracting: export/labels/raccoon-162_jpg.rf.abgsw4ndfVWi8GTwjzwc.txt  \n",
            " extracting: export/labels/raccoon-163_jpg.rf.0YTbudXBepA7uEwCmOnl.txt  \n",
            " extracting: export/labels/raccoon-164_jpg.rf.mDypaem8OyAzB52vVdNx.txt  \n",
            " extracting: export/labels/raccoon-165_jpg.rf.8SCzRog4BwZ83PXUcED3.txt  \n",
            " extracting: export/labels/raccoon-166_jpg.rf.eRTnxiWjkSE6gJRIzAu0.txt  \n",
            " extracting: export/labels/raccoon-167_jpg.rf.qvCX0z6icMl2ih05K5v9.txt  \n",
            " extracting: export/labels/raccoon-168_jpg.rf.VGysc5nmOQDryDkgYMIj.txt  \n",
            " extracting: export/labels/raccoon-169_jpg.rf.062UREZtsQG7f5AmLIiA.txt  \n",
            " extracting: export/labels/raccoon-16_jpg.rf.B7mRyX2zKgmj4GfdTHCu.txt  \n",
            " extracting: export/labels/raccoon-170_jpg.rf.6BUQJQ2JcicLFyXoEM4H.txt  \n",
            " extracting: export/labels/raccoon-171_jpg.rf.A6U9PhTpm209NbQEuHVd.txt  \n",
            " extracting: export/labels/raccoon-172_jpg.rf.LJbm7o2O1r9n30c43RTe.txt  \n",
            " extracting: export/labels/raccoon-173_jpg.rf.v62IA847b0Mh9HlqgH0t.txt  \n",
            " extracting: export/labels/raccoon-174_jpg.rf.0TApbeZZ8Lq5kQ6yZSwF.txt  \n",
            " extracting: export/labels/raccoon-175_jpg.rf.qmCGlOJpoou2TtPxfBEr.txt  \n",
            " extracting: export/labels/raccoon-176_jpg.rf.B7dOSWLGt9AqGehid5Wc.txt  \n",
            " extracting: export/labels/raccoon-177_jpg.rf.nCtmzWTE90cNGA2AqCKX.txt  \n",
            " extracting: export/labels/raccoon-178_jpg.rf.c1wXWhgZXADDzCfgyAaJ.txt  \n",
            " extracting: export/labels/raccoon-179_jpg.rf.SLj5LR0VtqFsgLAcY7jB.txt  \n",
            " extracting: export/labels/raccoon-17_jpg.rf.LSzSuKkifGMSU8hDAB5h.txt  \n",
            " extracting: export/labels/raccoon-180_jpg.rf.ce25zVjoS2kYjBMoa8yr.txt  \n",
            " extracting: export/labels/raccoon-181_jpg.rf.xeJaWTEMqPNGPY1dcXXm.txt  \n",
            " extracting: export/labels/raccoon-182_jpg.rf.0uW2FD3INY695W6ylKva.txt  \n",
            " extracting: export/labels/raccoon-183_jpg.rf.OB5aIruBsbjNt8ExrR57.txt  \n",
            " extracting: export/labels/raccoon-184_jpg.rf.Jlp4Mc8yigJJHMm2nJ0o.txt  \n",
            " extracting: export/labels/raccoon-185_jpg.rf.BYk3nsCTaMrRw1vlb4Pp.txt  \n",
            " extracting: export/labels/raccoon-186_jpg.rf.Qszb5mCxtPOpTk0ZK7HU.txt  \n",
            " extracting: export/labels/raccoon-187_jpg.rf.nzeEH0LYtGfw3iO4Ee5T.txt  \n",
            " extracting: export/labels/raccoon-188_jpg.rf.JcGxRHcszaDQhuOMBaa1.txt  \n",
            " extracting: export/labels/raccoon-189_jpg.rf.9ARgm1yqSl1ae84rLngN.txt  \n",
            " extracting: export/labels/raccoon-18_jpg.rf.V2oz98hhPoNa0IUhd1mo.txt  \n",
            " extracting: export/labels/raccoon-190_jpg.rf.wa3dpHcSJzHEx7D6nePq.txt  \n",
            " extracting: export/labels/raccoon-191_jpg.rf.ymlwf9yvRpSxSpZ9hzUa.txt  \n",
            " extracting: export/labels/raccoon-192_jpg.rf.XZrpaOdOLsftCK06774t.txt  \n",
            " extracting: export/labels/raccoon-193_jpg.rf.YlCQo2ZpBqLMpQDL2Kse.txt  \n",
            " extracting: export/labels/raccoon-194_jpg.rf.ZIvthRxYrcmdkj7oQOPX.txt  \n",
            " extracting: export/labels/raccoon-195_jpg.rf.740NhNOOgSi0w9QomssP.txt  \n",
            " extracting: export/labels/raccoon-196_jpg.rf.5NAUtrxfeBUqpWlCar64.txt  \n",
            " extracting: export/labels/raccoon-197_jpg.rf.ieNMvNPmchNdAEzWg5Fc.txt  \n",
            " extracting: export/labels/raccoon-198_jpg.rf.a8FPzrog2et3M0xInLCx.txt  \n",
            " extracting: export/labels/raccoon-199_jpg.rf.qPwz4cyyVZcPAop72vBf.txt  \n",
            " extracting: export/labels/raccoon-19_jpg.rf.lmoNF5jvYAjMaxN6XdXt.txt  \n",
            " extracting: export/labels/raccoon-1_jpg.rf.sIcWuSUPDjwlVKDOlw6R.txt  \n",
            " extracting: export/labels/raccoon-200_jpg.rf.W3rpJysOHvdOAuEnTNEY.txt  \n",
            " extracting: export/labels/raccoon-20_jpg.rf.4WAs8L29reqeirSqGg9t.txt  \n",
            " extracting: export/labels/raccoon-21_jpg.rf.7XOQqxp8MQwRrVn8xE76.txt  \n",
            " extracting: export/labels/raccoon-22_jpg.rf.OG3Ml7Dolj9c0o4PbJK6.txt  \n",
            " extracting: export/labels/raccoon-23_jpg.rf.gw3KdUyjaP5cQ6zcS40N.txt  \n",
            " extracting: export/labels/raccoon-24_jpg.rf.LT1VC0amKwztEwO6bFvk.txt  \n",
            " extracting: export/labels/raccoon-25_jpg.rf.mV9OK1wVxDSQRZSVIDkT.txt  \n",
            " extracting: export/labels/raccoon-26_jpg.rf.N7Na7mM0dqMA0F31Iz45.txt  \n",
            " extracting: export/labels/raccoon-27_jpg.rf.OMPIn4rBFwNMk7bzedUN.txt  \n",
            " extracting: export/labels/raccoon-28_jpg.rf.BpDylskQoKmQJepcWOr8.txt  \n",
            " extracting: export/labels/raccoon-29_jpg.rf.5UbtcvzGv7KtCxLnBv7z.txt  \n",
            " extracting: export/labels/raccoon-2_jpg.rf.NBPogI6xGeUn9aXAeJC3.txt  \n",
            " extracting: export/labels/raccoon-30_jpg.rf.NPkzKohNa5D2tABfOYQy.txt  \n",
            " extracting: export/labels/raccoon-31_jpg.rf.fMbi4VStxp6mv8tMSqYD.txt  \n",
            " extracting: export/labels/raccoon-32_jpg.rf.A3giRbzBDwzWsCUjxcGU.txt  \n",
            " extracting: export/labels/raccoon-33_jpg.rf.eoVqap7XuMyDd9FbC7eI.txt  \n",
            " extracting: export/labels/raccoon-34_jpg.rf.KgTOGXyzaqjDSUx18u3t.txt  \n",
            " extracting: export/labels/raccoon-35_jpg.rf.gBI37gb6eeIrAdWGNEDK.txt  \n",
            " extracting: export/labels/raccoon-36_jpg.rf.ADOT5Xcrqf2CBQd1liRf.txt  \n",
            " extracting: export/labels/raccoon-37_jpg.rf.aKMbQgz3gKmlAhdWypTl.txt  \n",
            " extracting: export/labels/raccoon-38_jpg.rf.u4NfrBZwWiAr37WnyafY.txt  \n",
            " extracting: export/labels/raccoon-39_jpg.rf.yGhEQLX6DpqWHdSETZB6.txt  \n",
            " extracting: export/labels/raccoon-3_jpg.rf.FehnT1wDKERrv4oXztdm.txt  \n",
            " extracting: export/labels/raccoon-40_jpg.rf.pPYmgP0Dt4W3jAq6cJP7.txt  \n",
            " extracting: export/labels/raccoon-41_jpg.rf.W9dUzr9uz0SR0O6T6LkJ.txt  \n",
            " extracting: export/labels/raccoon-42_jpg.rf.vsqqbnbsZq3Fs6QloNbK.txt  \n",
            " extracting: export/labels/raccoon-43_jpg.rf.chWSNPCd8K64vFDiFtZ9.txt  \n",
            " extracting: export/labels/raccoon-44_jpg.rf.AskpsRiftcZiHcpXbY0L.txt  \n",
            " extracting: export/labels/raccoon-45_jpg.rf.I8Z08N1z5UWSUqPKHZPd.txt  \n",
            " extracting: export/labels/raccoon-46_jpg.rf.HaOZjeMSiYmebkiHgVra.txt  \n",
            " extracting: export/labels/raccoon-47_jpg.rf.phm5uh52g5EiE2hIqM5i.txt  \n",
            " extracting: export/labels/raccoon-48_jpg.rf.SuALG3iAomm4ma3XgKsa.txt  \n",
            " extracting: export/labels/raccoon-49_jpg.rf.ueFRmQOF2DaqGGEBhVhF.txt  \n",
            " extracting: export/labels/raccoon-4_jpg.rf.Lluzl7wf3QOiSmiMiSIj.txt  \n",
            " extracting: export/labels/raccoon-50_jpg.rf.whvFMBzgHg3ts3amHFfP.txt  \n",
            " extracting: export/labels/raccoon-51_jpg.rf.j6jIBivmhDWR5DJcwoIQ.txt  \n",
            " extracting: export/labels/raccoon-53_jpg.rf.h0gjlinfJgoHZJXir7UA.txt  \n",
            " extracting: export/labels/raccoon-54_jpg.rf.MR204FVYc9XDRRDLoAzR.txt  \n",
            " extracting: export/labels/raccoon-55_jpg.rf.iiuBuVwt1FmxfjJuI1TC.txt  \n",
            " extracting: export/labels/raccoon-56_jpg.rf.IR7dpRC8jTsXirB76IrI.txt  \n",
            " extracting: export/labels/raccoon-57_jpg.rf.8yZARYYn68JKxfOa2n4f.txt  \n",
            " extracting: export/labels/raccoon-58_jpg.rf.xkDTDgIa6iTVbYXlECQe.txt  \n",
            " extracting: export/labels/raccoon-59_jpg.rf.6aDJXsBMD9aNCdHNZ5Mu.txt  \n",
            " extracting: export/labels/raccoon-5_jpg.rf.P2kMV71sw3gG2PUfu9Km.txt  \n",
            " extracting: export/labels/raccoon-60_jpg.rf.uFavFoIvkBhCg7I6ZUSC.txt  \n",
            " extracting: export/labels/raccoon-61_jpg.rf.3EbaZ6gnGnQXGoChS06v.txt  \n",
            " extracting: export/labels/raccoon-62_jpg.rf.q5lRDAZbZyb9ibt1NkHA.txt  \n",
            " extracting: export/labels/raccoon-63_jpg.rf.dT1hjklwbAWPVbSj4uKq.txt  \n",
            " extracting: export/labels/raccoon-64_jpg.rf.Mg6mwuhmKMgoUxIlT6jV.txt  \n",
            " extracting: export/labels/raccoon-66_jpg.rf.pDZVWkbZQDCqiA38nh2x.txt  \n",
            " extracting: export/labels/raccoon-67_jpg.rf.kJTJ4Op1CRhIiZciiV3l.txt  \n",
            " extracting: export/labels/raccoon-68_jpg.rf.dV9RLCF9qBirlNmM4QDH.txt  \n",
            " extracting: export/labels/raccoon-69_jpg.rf.GeXNSZJE74xhqy7y93c3.txt  \n",
            " extracting: export/labels/raccoon-6_jpg.rf.w8P1isJRqHWHZaiTZK99.txt  \n",
            " extracting: export/labels/raccoon-70_jpg.rf.Xel5jDFSyCo1scmKTGhY.txt  \n",
            " extracting: export/labels/raccoon-71_jpg.rf.yJWB7DaXkDdrZLhsTo45.txt  \n",
            " extracting: export/labels/raccoon-72_jpg.rf.jefuPY3lQ0BGw1D2Xub8.txt  \n",
            " extracting: export/labels/raccoon-73_jpg.rf.IgPHaS3AuJUHRXQmIhDJ.txt  \n",
            " extracting: export/labels/raccoon-74_jpg.rf.rTU8ZxbtKRF4JHrqvEOq.txt  \n",
            " extracting: export/labels/raccoon-75_jpg.rf.YlMs1n4dZe1fSWKIAsDd.txt  \n",
            " extracting: export/labels/raccoon-76_jpg.rf.FzjkIXRw6gk8NBFEGHI2.txt  \n",
            " extracting: export/labels/raccoon-77_jpg.rf.q9hGI9jrDJ1PpxX1x0rd.txt  \n",
            " extracting: export/labels/raccoon-78_jpg.rf.BbHiKwTi7tIssLj0rum6.txt  \n",
            " extracting: export/labels/raccoon-79_jpg.rf.ktsyolcZVgX1MNcWl2E6.txt  \n",
            " extracting: export/labels/raccoon-7_jpg.rf.lHsAWCnnb1Kzt8rmowxp.txt  \n",
            " extracting: export/labels/raccoon-80_jpg.rf.Ec9UJrEgbAOo9daEs5eV.txt  \n",
            " extracting: export/labels/raccoon-81_jpg.rf.Mq6NXnnLzv34CdUVe76T.txt  \n",
            " extracting: export/labels/raccoon-82_jpg.rf.o9L7wWqW3gUCb5APXKmJ.txt  \n",
            " extracting: export/labels/raccoon-83_jpg.rf.atgkVnBAHbQbfO8tha39.txt  \n",
            " extracting: export/labels/raccoon-84_jpg.rf.EVGCgijizwHBcDHiLCSw.txt  \n",
            " extracting: export/labels/raccoon-85_jpg.rf.u3OeM7EG2WspSHohlsK2.txt  \n",
            " extracting: export/labels/raccoon-86_jpg.rf.qxniBkdMh5L4p6IDfKmJ.txt  \n",
            " extracting: export/labels/raccoon-87_jpg.rf.Mii8qqnFvQSvnNjeka0P.txt  \n",
            " extracting: export/labels/raccoon-88_jpg.rf.4MfWIW6Hrvz1KH1oZ5GZ.txt  \n",
            " extracting: export/labels/raccoon-89_jpg.rf.0LCgtBGqdeteFcGC0806.txt  \n",
            " extracting: export/labels/raccoon-8_jpg.rf.exZsAoVTaPCdKkaYKDNy.txt  \n",
            " extracting: export/labels/raccoon-90_jpg.rf.jUuX6n7D184OJy9gGkVL.txt  \n",
            " extracting: export/labels/raccoon-91_jpg.rf.zdghE2k81QF9RDOjL2Aw.txt  \n",
            " extracting: export/labels/raccoon-92_jpg.rf.spnLudxRSgVmSMlNM46D.txt  \n",
            " extracting: export/labels/raccoon-93_jpg.rf.aLVYqVxq4jhYDW3rLvSl.txt  \n",
            " extracting: export/labels/raccoon-94_jpg.rf.5CNnewuURDkzQIGjJW4K.txt  \n",
            " extracting: export/labels/raccoon-95_jpg.rf.s5mrXnEKqpNE8vSsFhDA.txt  \n",
            " extracting: export/labels/raccoon-96_jpg.rf.HWHEmDz9DkkpkqaaVyPz.txt  \n",
            " extracting: export/labels/raccoon-97_jpg.rf.jiRlV3vZq8y5ywPxxMiU.txt  \n",
            " extracting: export/labels/raccoon-98_jpg.rf.rAeGjNwLevttDW7jAQal.txt  \n",
            " extracting: export/labels/raccoon-99_jpg.rf.r00W7YOUlLNBH5WP07gR.txt  \n",
            " extracting: export/labels/raccoon-9_jpg.rf.lICx86OESVjDaYlcKPYr.txt  \n",
            "   creating: test/\n",
            "   creating: test/images/\n",
            " extracting: test/images/raccoon-57_jpg.rf.26f3fae218f26088f6a7405c58ae8020.jpg  \n",
            " extracting: test/images/raccoon-58_jpg.rf.ff9de9977475e0086e7ab582122c5167.jpg  \n",
            " extracting: test/images/raccoon-59_jpg.rf.388d6dd8c9d5a6fc7ca75790e680c269.jpg  \n",
            " extracting: test/images/raccoon-60_jpg.rf.cff8b797e6b5c9b716b6be70be2b6b33.jpg  \n",
            " extracting: test/images/raccoon-61_jpg.rf.58c4f561336525f59d395ce21508523b.jpg  \n",
            " extracting: test/images/raccoon-62_jpg.rf.e997ede5457f069436178f08065d9a61.jpg  \n",
            " extracting: test/images/raccoon-63_jpg.rf.1b33356e79739a8a1f3676a9f4f9f97a.jpg  \n",
            " extracting: test/images/raccoon-64_jpg.rf.5201bb870708d051100bbbb8c148ecd2.jpg  \n",
            " extracting: test/images/raccoon-66_jpg.rf.447ffe6a6b6cd768de213288bb000418.jpg  \n",
            " extracting: test/images/raccoon-67_jpg.rf.626d83ff044dd4e2b37cbf4b4178eb89.jpg  \n",
            " extracting: test/images/raccoon-68_jpg.rf.f307e4242845e8e03c27271f5b381eb0.jpg  \n",
            " extracting: test/images/raccoon-69_jpg.rf.87d4a574d6f7ab57f5fc39620df291f9.jpg  \n",
            " extracting: test/images/raccoon-6_jpg.rf.e1ef482779f9ef651ec62ed3a9c1e2d7.jpg  \n",
            " extracting: test/images/raccoon-70_jpg.rf.a6800b2698e4aed694cc0c0c8c866909.jpg  \n",
            " extracting: test/images/raccoon-71_jpg.rf.a66c60622f34ad56ff13e712485800ce.jpg  \n",
            " extracting: test/images/raccoon-72_jpg.rf.8179b0a10f21dc1424a7ad48d8ef22f3.jpg  \n",
            " extracting: test/images/raccoon-7_jpg.rf.23286e3ec911b9f6f22c5153d60ec808.jpg  \n",
            "   creating: test/labels/\n",
            " extracting: test/labels/raccoon-57_jpg.rf.26f3fae218f26088f6a7405c58ae8020.txt  \n",
            " extracting: test/labels/raccoon-58_jpg.rf.ff9de9977475e0086e7ab582122c5167.txt  \n",
            " extracting: test/labels/raccoon-59_jpg.rf.388d6dd8c9d5a6fc7ca75790e680c269.txt  \n",
            " extracting: test/labels/raccoon-60_jpg.rf.cff8b797e6b5c9b716b6be70be2b6b33.txt  \n",
            " extracting: test/labels/raccoon-61_jpg.rf.58c4f561336525f59d395ce21508523b.txt  \n",
            " extracting: test/labels/raccoon-62_jpg.rf.e997ede5457f069436178f08065d9a61.txt  \n",
            " extracting: test/labels/raccoon-63_jpg.rf.1b33356e79739a8a1f3676a9f4f9f97a.txt  \n",
            " extracting: test/labels/raccoon-64_jpg.rf.5201bb870708d051100bbbb8c148ecd2.txt  \n",
            " extracting: test/labels/raccoon-66_jpg.rf.447ffe6a6b6cd768de213288bb000418.txt  \n",
            " extracting: test/labels/raccoon-67_jpg.rf.626d83ff044dd4e2b37cbf4b4178eb89.txt  \n",
            " extracting: test/labels/raccoon-68_jpg.rf.f307e4242845e8e03c27271f5b381eb0.txt  \n",
            " extracting: test/labels/raccoon-69_jpg.rf.87d4a574d6f7ab57f5fc39620df291f9.txt  \n",
            " extracting: test/labels/raccoon-6_jpg.rf.e1ef482779f9ef651ec62ed3a9c1e2d7.txt  \n",
            " extracting: test/labels/raccoon-70_jpg.rf.a6800b2698e4aed694cc0c0c8c866909.txt  \n",
            " extracting: test/labels/raccoon-71_jpg.rf.a66c60622f34ad56ff13e712485800ce.txt  \n",
            " extracting: test/labels/raccoon-72_jpg.rf.8179b0a10f21dc1424a7ad48d8ef22f3.txt  \n",
            " extracting: test/labels/raccoon-7_jpg.rf.23286e3ec911b9f6f22c5153d60ec808.txt  \n",
            "   creating: train/\n",
            "   creating: train/images/\n",
            " extracting: train/images/raccoon-100_jpg.rf.e9338202a924dc489ffd94e0291a0f39.jpg  \n",
            " extracting: train/images/raccoon-101_jpg.rf.a9e8a95f51d60d7d3b40d3243aa11afd.jpg  \n",
            " extracting: train/images/raccoon-102_jpg.rf.d140a1fcbfc8d62c7ad37167714f79df.jpg  \n",
            " extracting: train/images/raccoon-103_jpg.rf.7148e5c7d785760fe9cb6b7762180977.jpg  \n",
            " extracting: train/images/raccoon-104_jpg.rf.e5f8de5f977a32d8a7f2223574ff2b72.jpg  \n",
            " extracting: train/images/raccoon-105_jpg.rf.73bb0ca933f4a5d8e47ee57c46617cd7.jpg  \n",
            " extracting: train/images/raccoon-106_jpg.rf.10f11a11172797e1e1a0ab2db39f7f0f.jpg  \n",
            " extracting: train/images/raccoon-107_jpg.rf.fcfeeca4a65ce335eaaf55935489ff4e.jpg  \n",
            " extracting: train/images/raccoon-108_jpg.rf.b1c0928dfe114cfbd882e12141203f21.jpg  \n",
            " extracting: train/images/raccoon-109_jpg.rf.e0306efe98748d0b3b7859fb9b463f26.jpg  \n",
            " extracting: train/images/raccoon-10_jpg.rf.14ba49f1a3c6391580499dff9cabe176.jpg  \n",
            " extracting: train/images/raccoon-110_jpg.rf.eebb2a613d561ef001c0f3b35710c779.jpg  \n",
            " extracting: train/images/raccoon-111_jpg.rf.27a8d7842380860ac1580682e18ee0f2.jpg  \n",
            " extracting: train/images/raccoon-112_jpg.rf.096e4a5594f3bc496cd5d3d7379e97e0.jpg  \n",
            " extracting: train/images/raccoon-113_jpg.rf.44c31e8397cc40b9c2355a406f70f597.jpg  \n",
            " extracting: train/images/raccoon-114_jpg.rf.61a417d19d8044073beb206aa2db9f44.jpg  \n",
            " extracting: train/images/raccoon-115_jpg.rf.053146d585dcd8e8ba423a8c81dd5b0a.jpg  \n",
            " extracting: train/images/raccoon-117_jpg.rf.b05cd921b42a5dda682dcc870518e462.jpg  \n",
            " extracting: train/images/raccoon-118_jpg.rf.c56a49568a139f5ff74c14ae8e460970.jpg  \n",
            " extracting: train/images/raccoon-119_jpg.rf.72a18cd6c7a2b03e30d1088780ddad94.jpg  \n",
            " extracting: train/images/raccoon-11_jpg.rf.2610060ad22fcea7c4ae086f903c5eec.jpg  \n",
            " extracting: train/images/raccoon-121_jpg.rf.f6ebf9b6da4eaafdb71331856fed141e.jpg  \n",
            " extracting: train/images/raccoon-122_jpg.rf.15cffc72b474e63027182cd847834316.jpg  \n",
            " extracting: train/images/raccoon-123_jpg.rf.86bc73224f4a7b91376dd68b12892e3c.jpg  \n",
            " extracting: train/images/raccoon-124_jpg.rf.ddf799871eb7bc5ceca93b4de5665b19.jpg  \n",
            " extracting: train/images/raccoon-125_jpg.rf.095796456c02641f5442fe988b190a32.jpg  \n",
            " extracting: train/images/raccoon-126_jpg.rf.fee7da8bc1d801b76f703372955388a5.jpg  \n",
            " extracting: train/images/raccoon-127_jpg.rf.76bba62c5d0feb6fd7cfa725fc6dfd02.jpg  \n",
            " extracting: train/images/raccoon-128_jpg.rf.d69ad1a11a7823bd0e3818419b1071d8.jpg  \n",
            " extracting: train/images/raccoon-129_jpg.rf.93bae4d33ef5e605e19f822e8847875f.jpg  \n",
            " extracting: train/images/raccoon-12_jpg.rf.f244855efb01c95a0cef0d32b66dcc54.jpg  \n",
            " extracting: train/images/raccoon-130_jpg.rf.25161fc808fcd8453a86271fe596919a.jpg  \n",
            " extracting: train/images/raccoon-131_jpg.rf.abdd5f18ff49a86f887e2de9fb682bfa.jpg  \n",
            " extracting: train/images/raccoon-132_jpg.rf.0b354b87c7cf8e0bbaf011e22bce215b.jpg  \n",
            " extracting: train/images/raccoon-133_jpg.rf.1904a8ef78ba547bae4bf1904d7dcecf.jpg  \n",
            " extracting: train/images/raccoon-134_jpg.rf.17aaee25817c82dcccc9982cf2346af1.jpg  \n",
            " extracting: train/images/raccoon-135_jpg.rf.53470fb941a98a4192e22cff42802563.jpg  \n",
            " extracting: train/images/raccoon-136_jpg.rf.47c7f0f51edf22d75682fe3c49dd074a.jpg  \n",
            " extracting: train/images/raccoon-137_jpg.rf.a67b07d859ac058643915ff7161e6c90.jpg  \n",
            " extracting: train/images/raccoon-138_jpg.rf.e8bafcdbf762d97f0236f84c2d08295d.jpg  \n",
            " extracting: train/images/raccoon-139_jpg.rf.069e8c7f0a7485402ef0ad5813b743b9.jpg  \n",
            " extracting: train/images/raccoon-13_jpg.rf.b553d6d2cc3f79ec70af325742125e41.jpg  \n",
            " extracting: train/images/raccoon-140_jpg.rf.021c5b27b8cf2e2734530a035d7a3646.jpg  \n",
            " extracting: train/images/raccoon-141_jpg.rf.07e56dba92bd912066d0cf7a54e20290.jpg  \n",
            " extracting: train/images/raccoon-142_jpg.rf.c3f459d88a59381fcfee3677549778c7.jpg  \n",
            " extracting: train/images/raccoon-143_jpg.rf.d75bca7db247c692bfacd20a587832da.jpg  \n",
            " extracting: train/images/raccoon-144_jpg.rf.20b9bea695b9d1ed719968c1f41a0d62.jpg  \n",
            " extracting: train/images/raccoon-145_jpg.rf.94d190d1aa954302de0f4a18cac2bc96.jpg  \n",
            " extracting: train/images/raccoon-146_jpg.rf.8a125f9145d9522094fe8a2e16067397.jpg  \n",
            " extracting: train/images/raccoon-147_jpg.rf.548e3735d38bfacd279dad5e8d9578a1.jpg  \n",
            " extracting: train/images/raccoon-148_jpg.rf.93538e05d17b33d08bde474a425b5b2d.jpg  \n",
            " extracting: train/images/raccoon-149_jpg.rf.70664e11725b4721cc466510f117e48e.jpg  \n",
            " extracting: train/images/raccoon-14_jpg.rf.ccd41578e4ad987071fdc014304b74f4.jpg  \n",
            " extracting: train/images/raccoon-150_jpg.rf.330597265393c690c4fbff7edf595381.jpg  \n",
            " extracting: train/images/raccoon-151_jpg.rf.63bf95faedb0eb9e67960f1c0c43f60a.jpg  \n",
            " extracting: train/images/raccoon-152_jpg.rf.dcee9be6791185d580a7c06474e1e206.jpg  \n",
            " extracting: train/images/raccoon-153_jpg.rf.2a07e150eaf34de78982919f926f6cc4.jpg  \n",
            " extracting: train/images/raccoon-154_jpg.rf.09b18118aa2799acb05daa90de6a7e60.jpg  \n",
            " extracting: train/images/raccoon-155_jpg.rf.601b4d9d26e96479d26202797f1f1fa9.jpg  \n",
            " extracting: train/images/raccoon-156_jpg.rf.bf2e87941fc09d382617f414d3c3f6cc.jpg  \n",
            " extracting: train/images/raccoon-157_jpg.rf.42e9b274a066a55cee4aadbf3e610f97.jpg  \n",
            " extracting: train/images/raccoon-158_jpg.rf.f55a14ab6a3f4b94626a909bd6c829d4.jpg  \n",
            " extracting: train/images/raccoon-159_jpg.rf.f00562bbdf4852182fce5c33b9831501.jpg  \n",
            " extracting: train/images/raccoon-15_jpg.rf.32c1c6da4b613bddace4a4ebb4a2be44.jpg  \n",
            " extracting: train/images/raccoon-160_jpg.rf.07d8ec8df1a81403c9bab454dbdb494d.jpg  \n",
            " extracting: train/images/raccoon-161_jpg.rf.e8ff1acd5614eb0c53fe51d4c38db3cd.jpg  \n",
            " extracting: train/images/raccoon-162_jpg.rf.d2840607abbe025e9e81d523133f137d.jpg  \n",
            " extracting: train/images/raccoon-163_jpg.rf.f2a2ca26f88d90a5d82142c377f40154.jpg  \n",
            " extracting: train/images/raccoon-164_jpg.rf.b668f55ca2ffd629f8fd4298981104f1.jpg  \n",
            " extracting: train/images/raccoon-165_jpg.rf.cc8c1c4c613c5cb96148f31f64b0a738.jpg  \n",
            " extracting: train/images/raccoon-166_jpg.rf.c9c73f9a211869c92d3412c60cceac81.jpg  \n",
            " extracting: train/images/raccoon-167_jpg.rf.f10d27f483841a478c526980439c79d8.jpg  \n",
            " extracting: train/images/raccoon-168_jpg.rf.6409e77ba490144d3c4ccb0fb53f2c9d.jpg  \n",
            " extracting: train/images/raccoon-169_jpg.rf.fcaebc6d02b2e9af8e353c1b5bae8244.jpg  \n",
            " extracting: train/images/raccoon-16_jpg.rf.2910e438d93b6c4ee7a49aaaf63a1f4c.jpg  \n",
            " extracting: train/images/raccoon-170_jpg.rf.87c5e9d7e0bd78397063846b0ad329c7.jpg  \n",
            " extracting: train/images/raccoon-171_jpg.rf.e00ec73c6a64a07c1bc0035fa0fbca18.jpg  \n",
            " extracting: train/images/raccoon-172_jpg.rf.fe8d3321da448a533f6e3dde44ddda8c.jpg  \n",
            " extracting: train/images/raccoon-173_jpg.rf.b1235c6a96f98374990c70d9434000c2.jpg  \n",
            " extracting: train/images/raccoon-174_jpg.rf.05815e0d7dc378ed8188d368ccc857ce.jpg  \n",
            " extracting: train/images/raccoon-175_jpg.rf.5c172ad47029edf77be38f333f49c6cd.jpg  \n",
            " extracting: train/images/raccoon-176_jpg.rf.710df90ee6b4d97ad62923a0a38517f5.jpg  \n",
            " extracting: train/images/raccoon-177_jpg.rf.1ffe2bcc19c2311f8c8d4ace8932a88d.jpg  \n",
            " extracting: train/images/raccoon-178_jpg.rf.8c07568eb5114c00e77b073cccc719c6.jpg  \n",
            " extracting: train/images/raccoon-179_jpg.rf.0994f94900ca15a0c638076e40122ff4.jpg  \n",
            " extracting: train/images/raccoon-17_jpg.rf.9a6f703c15e45c2d8e7beb2672336e90.jpg  \n",
            " extracting: train/images/raccoon-180_jpg.rf.2a518477d077cb8a36c1af37d3b9a215.jpg  \n",
            " extracting: train/images/raccoon-181_jpg.rf.ae3fcbba8b7e2408d045a865027c34fc.jpg  \n",
            " extracting: train/images/raccoon-182_jpg.rf.0ee4a4d4fa828093cffc43bc3ea07a8e.jpg  \n",
            " extracting: train/images/raccoon-183_jpg.rf.ec95835ea04533da42d4d959d6707f20.jpg  \n",
            " extracting: train/images/raccoon-184_jpg.rf.43059125d060a4ed8ffcf96e9fd11182.jpg  \n",
            " extracting: train/images/raccoon-185_jpg.rf.53089cc4bbef76a8aea5a70b56e56a65.jpg  \n",
            " extracting: train/images/raccoon-186_jpg.rf.45717b7fa9e2864677cc082bd988f35f.jpg  \n",
            " extracting: train/images/raccoon-187_jpg.rf.d8fc7a310b84d7776c66507634446811.jpg  \n",
            " extracting: train/images/raccoon-188_jpg.rf.f994d290893cde25fcb152b2f3cdecf0.jpg  \n",
            " extracting: train/images/raccoon-189_jpg.rf.3dde48ace4f382d50088d9cf494f8d21.jpg  \n",
            " extracting: train/images/raccoon-18_jpg.rf.a89b15cc2d03110d1c2503a6ff5dedb4.jpg  \n",
            " extracting: train/images/raccoon-190_jpg.rf.18c3f6bf1a7b1cd3288edc357d75af5b.jpg  \n",
            " extracting: train/images/raccoon-191_jpg.rf.1eff00dfe69cf22ac7d5b71d9ad82093.jpg  \n",
            " extracting: train/images/raccoon-192_jpg.rf.54d1fc9c2cc03814000b6071ba37e9ab.jpg  \n",
            " extracting: train/images/raccoon-193_jpg.rf.0f4308408dd14204f9abf6a365fb6f8e.jpg  \n",
            " extracting: train/images/raccoon-194_jpg.rf.73825ff9c38622c80dc729027cc27d34.jpg  \n",
            " extracting: train/images/raccoon-195_jpg.rf.438757fc784e4d9f04d8c257fa103283.jpg  \n",
            " extracting: train/images/raccoon-196_jpg.rf.a6da7cedce59b51c62f6ab91cf3c953b.jpg  \n",
            " extracting: train/images/raccoon-197_jpg.rf.feeda892bbf59049f5db5eecfb476ffd.jpg  \n",
            " extracting: train/images/raccoon-198_jpg.rf.6911aef3b0e22d84a8b6c19e1b504136.jpg  \n",
            " extracting: train/images/raccoon-199_jpg.rf.827e00d23cc83c841e24e17399268364.jpg  \n",
            " extracting: train/images/raccoon-19_jpg.rf.4b877f79c13c17fa218923084773ec00.jpg  \n",
            " extracting: train/images/raccoon-1_jpg.rf.4735f8b019bd0bfa86593b474aa7a5fa.jpg  \n",
            " extracting: train/images/raccoon-200_jpg.rf.4d4cf20c6490045c87cadf8bd468bd8f.jpg  \n",
            " extracting: train/images/raccoon-20_jpg.rf.fb19aa368c074a61eed8829617ed6b7c.jpg  \n",
            " extracting: train/images/raccoon-21_jpg.rf.1a912c8d6424050610135e493cfb5181.jpg  \n",
            " extracting: train/images/raccoon-22_jpg.rf.61a989ae36b537bf441a2c519bfc2791.jpg  \n",
            " extracting: train/images/raccoon-23_jpg.rf.69d0e4ab322789ad3e2bfdcd933233ad.jpg  \n",
            " extracting: train/images/raccoon-24_jpg.rf.0778be28363352e342bd9494e7976a7e.jpg  \n",
            " extracting: train/images/raccoon-25_jpg.rf.dada3d74aa39089ede4d16414c45fffa.jpg  \n",
            " extracting: train/images/raccoon-26_jpg.rf.ab207a81a546038c33a728a96bf86d14.jpg  \n",
            " extracting: train/images/raccoon-27_jpg.rf.316935b020d5fd007d7268a72769ae9d.jpg  \n",
            " extracting: train/images/raccoon-28_jpg.rf.7b2be1128d5b1d3d43776e878d595a10.jpg  \n",
            " extracting: train/images/raccoon-29_jpg.rf.3789fab26d5503e529af0b5bb132ab91.jpg  \n",
            " extracting: train/images/raccoon-2_jpg.rf.1d070475673b53b1880a4b5551dae643.jpg  \n",
            " extracting: train/images/raccoon-30_jpg.rf.3d7fec82876cd7ff6f7396c93a59a396.jpg  \n",
            " extracting: train/images/raccoon-31_jpg.rf.2e8fd57b2645856e968e01b729ab0c53.jpg  \n",
            " extracting: train/images/raccoon-32_jpg.rf.b41a8efc0d66b3b2810bc90e15385817.jpg  \n",
            " extracting: train/images/raccoon-33_jpg.rf.85235043b0e7fe2f572c7e8939c99024.jpg  \n",
            " extracting: train/images/raccoon-34_jpg.rf.918c55f154c1b2ef39a41e6085be2434.jpg  \n",
            " extracting: train/images/raccoon-35_jpg.rf.412f8d6d90c7ea71ea9f6d5f5c7c39c7.jpg  \n",
            " extracting: train/images/raccoon-36_jpg.rf.95f61a0a202157751bc93616034b171d.jpg  \n",
            " extracting: train/images/raccoon-37_jpg.rf.7d902e8083bbdfc7d78c99ec0690019f.jpg  \n",
            " extracting: train/images/raccoon-38_jpg.rf.d72bfc74df002a90d04736fa40265fd9.jpg  \n",
            " extracting: train/images/raccoon-39_jpg.rf.e3e19cc56f672e57edb42749564d2a3d.jpg  \n",
            " extracting: train/images/raccoon-3_jpg.rf.f876204db5f3b5622bc9e53f65b3452e.jpg  \n",
            " extracting: train/images/raccoon-40_jpg.rf.535961124b91d43679aea1bf572ed169.jpg  \n",
            " extracting: train/images/raccoon-41_jpg.rf.3e59f7f51aa762bcb23caefb60a8974f.jpg  \n",
            " extracting: train/images/raccoon-42_jpg.rf.ba5583e11220792d39341e7eed4f9385.jpg  \n",
            " extracting: train/images/raccoon-43_jpg.rf.bc4e3f1c9c25487418260300964e2180.jpg  \n",
            " extracting: train/images/raccoon-44_jpg.rf.76519fa3d01a9d19c4e022e98292c60e.jpg  \n",
            " extracting: train/images/raccoon-45_jpg.rf.fa6b0fabef2ed4f9e9dd6b164792d373.jpg  \n",
            " extracting: train/images/raccoon-46_jpg.rf.30eb23c3a2cb5e17bbae0aa6cac707e3.jpg  \n",
            " extracting: train/images/raccoon-47_jpg.rf.768641c75d43f2db6ff435e7e2a4bd3d.jpg  \n",
            " extracting: train/images/raccoon-48_jpg.rf.99c91ae214e78cb740bfd2bca7b82cfe.jpg  \n",
            " extracting: train/images/raccoon-49_jpg.rf.0c7ec1e43e783a62a23ab81b96aa7366.jpg  \n",
            " extracting: train/images/raccoon-4_jpg.rf.87f15f7e193eba4c63363a9e8f698cc7.jpg  \n",
            " extracting: train/images/raccoon-50_jpg.rf.43389448512823c509aa0a11e769e7e8.jpg  \n",
            " extracting: train/images/raccoon-51_jpg.rf.20fce1e2bf1e589e1d6bc69221a2160b.jpg  \n",
            " extracting: train/images/raccoon-53_jpg.rf.3372db4c1f0fa75805262eaad064a3f7.jpg  \n",
            " extracting: train/images/raccoon-54_jpg.rf.7499d29f80c5747ee957116f25592ae0.jpg  \n",
            " extracting: train/images/raccoon-55_jpg.rf.5b221bf351955c14e80459a380fa2da0.jpg  \n",
            " extracting: train/images/raccoon-56_jpg.rf.48fecf103e4a4c814569b50facecf288.jpg  \n",
            " extracting: train/images/raccoon-5_jpg.rf.aada59e008ebcd0aa1300d27a9539feb.jpg  \n",
            "   creating: train/labels/\n",
            " extracting: train/labels/raccoon-100_jpg.rf.e9338202a924dc489ffd94e0291a0f39.txt  \n",
            " extracting: train/labels/raccoon-101_jpg.rf.a9e8a95f51d60d7d3b40d3243aa11afd.txt  \n",
            " extracting: train/labels/raccoon-102_jpg.rf.d140a1fcbfc8d62c7ad37167714f79df.txt  \n",
            " extracting: train/labels/raccoon-103_jpg.rf.7148e5c7d785760fe9cb6b7762180977.txt  \n",
            " extracting: train/labels/raccoon-104_jpg.rf.e5f8de5f977a32d8a7f2223574ff2b72.txt  \n",
            " extracting: train/labels/raccoon-105_jpg.rf.73bb0ca933f4a5d8e47ee57c46617cd7.txt  \n",
            " extracting: train/labels/raccoon-106_jpg.rf.10f11a11172797e1e1a0ab2db39f7f0f.txt  \n",
            " extracting: train/labels/raccoon-107_jpg.rf.fcfeeca4a65ce335eaaf55935489ff4e.txt  \n",
            " extracting: train/labels/raccoon-108_jpg.rf.b1c0928dfe114cfbd882e12141203f21.txt  \n",
            " extracting: train/labels/raccoon-109_jpg.rf.e0306efe98748d0b3b7859fb9b463f26.txt  \n",
            " extracting: train/labels/raccoon-10_jpg.rf.14ba49f1a3c6391580499dff9cabe176.txt  \n",
            " extracting: train/labels/raccoon-110_jpg.rf.eebb2a613d561ef001c0f3b35710c779.txt  \n",
            " extracting: train/labels/raccoon-111_jpg.rf.27a8d7842380860ac1580682e18ee0f2.txt  \n",
            " extracting: train/labels/raccoon-112_jpg.rf.096e4a5594f3bc496cd5d3d7379e97e0.txt  \n",
            " extracting: train/labels/raccoon-113_jpg.rf.44c31e8397cc40b9c2355a406f70f597.txt  \n",
            " extracting: train/labels/raccoon-114_jpg.rf.61a417d19d8044073beb206aa2db9f44.txt  \n",
            " extracting: train/labels/raccoon-115_jpg.rf.053146d585dcd8e8ba423a8c81dd5b0a.txt  \n",
            " extracting: train/labels/raccoon-117_jpg.rf.b05cd921b42a5dda682dcc870518e462.txt  \n",
            " extracting: train/labels/raccoon-118_jpg.rf.c56a49568a139f5ff74c14ae8e460970.txt  \n",
            " extracting: train/labels/raccoon-119_jpg.rf.72a18cd6c7a2b03e30d1088780ddad94.txt  \n",
            " extracting: train/labels/raccoon-11_jpg.rf.2610060ad22fcea7c4ae086f903c5eec.txt  \n",
            " extracting: train/labels/raccoon-121_jpg.rf.f6ebf9b6da4eaafdb71331856fed141e.txt  \n",
            " extracting: train/labels/raccoon-122_jpg.rf.15cffc72b474e63027182cd847834316.txt  \n",
            " extracting: train/labels/raccoon-123_jpg.rf.86bc73224f4a7b91376dd68b12892e3c.txt  \n",
            " extracting: train/labels/raccoon-124_jpg.rf.ddf799871eb7bc5ceca93b4de5665b19.txt  \n",
            " extracting: train/labels/raccoon-125_jpg.rf.095796456c02641f5442fe988b190a32.txt  \n",
            " extracting: train/labels/raccoon-126_jpg.rf.fee7da8bc1d801b76f703372955388a5.txt  \n",
            " extracting: train/labels/raccoon-127_jpg.rf.76bba62c5d0feb6fd7cfa725fc6dfd02.txt  \n",
            " extracting: train/labels/raccoon-128_jpg.rf.d69ad1a11a7823bd0e3818419b1071d8.txt  \n",
            " extracting: train/labels/raccoon-129_jpg.rf.93bae4d33ef5e605e19f822e8847875f.txt  \n",
            " extracting: train/labels/raccoon-12_jpg.rf.f244855efb01c95a0cef0d32b66dcc54.txt  \n",
            " extracting: train/labels/raccoon-130_jpg.rf.25161fc808fcd8453a86271fe596919a.txt  \n",
            " extracting: train/labels/raccoon-131_jpg.rf.abdd5f18ff49a86f887e2de9fb682bfa.txt  \n",
            " extracting: train/labels/raccoon-132_jpg.rf.0b354b87c7cf8e0bbaf011e22bce215b.txt  \n",
            " extracting: train/labels/raccoon-133_jpg.rf.1904a8ef78ba547bae4bf1904d7dcecf.txt  \n",
            " extracting: train/labels/raccoon-134_jpg.rf.17aaee25817c82dcccc9982cf2346af1.txt  \n",
            " extracting: train/labels/raccoon-135_jpg.rf.53470fb941a98a4192e22cff42802563.txt  \n",
            " extracting: train/labels/raccoon-136_jpg.rf.47c7f0f51edf22d75682fe3c49dd074a.txt  \n",
            " extracting: train/labels/raccoon-137_jpg.rf.a67b07d859ac058643915ff7161e6c90.txt  \n",
            " extracting: train/labels/raccoon-138_jpg.rf.e8bafcdbf762d97f0236f84c2d08295d.txt  \n",
            " extracting: train/labels/raccoon-139_jpg.rf.069e8c7f0a7485402ef0ad5813b743b9.txt  \n",
            " extracting: train/labels/raccoon-13_jpg.rf.b553d6d2cc3f79ec70af325742125e41.txt  \n",
            " extracting: train/labels/raccoon-140_jpg.rf.021c5b27b8cf2e2734530a035d7a3646.txt  \n",
            " extracting: train/labels/raccoon-141_jpg.rf.07e56dba92bd912066d0cf7a54e20290.txt  \n",
            " extracting: train/labels/raccoon-142_jpg.rf.c3f459d88a59381fcfee3677549778c7.txt  \n",
            " extracting: train/labels/raccoon-143_jpg.rf.d75bca7db247c692bfacd20a587832da.txt  \n",
            " extracting: train/labels/raccoon-144_jpg.rf.20b9bea695b9d1ed719968c1f41a0d62.txt  \n",
            " extracting: train/labels/raccoon-145_jpg.rf.94d190d1aa954302de0f4a18cac2bc96.txt  \n",
            " extracting: train/labels/raccoon-146_jpg.rf.8a125f9145d9522094fe8a2e16067397.txt  \n",
            " extracting: train/labels/raccoon-147_jpg.rf.548e3735d38bfacd279dad5e8d9578a1.txt  \n",
            " extracting: train/labels/raccoon-148_jpg.rf.93538e05d17b33d08bde474a425b5b2d.txt  \n",
            " extracting: train/labels/raccoon-149_jpg.rf.70664e11725b4721cc466510f117e48e.txt  \n",
            " extracting: train/labels/raccoon-14_jpg.rf.ccd41578e4ad987071fdc014304b74f4.txt  \n",
            " extracting: train/labels/raccoon-150_jpg.rf.330597265393c690c4fbff7edf595381.txt  \n",
            " extracting: train/labels/raccoon-151_jpg.rf.63bf95faedb0eb9e67960f1c0c43f60a.txt  \n",
            " extracting: train/labels/raccoon-152_jpg.rf.dcee9be6791185d580a7c06474e1e206.txt  \n",
            " extracting: train/labels/raccoon-153_jpg.rf.2a07e150eaf34de78982919f926f6cc4.txt  \n",
            " extracting: train/labels/raccoon-154_jpg.rf.09b18118aa2799acb05daa90de6a7e60.txt  \n",
            " extracting: train/labels/raccoon-155_jpg.rf.601b4d9d26e96479d26202797f1f1fa9.txt  \n",
            " extracting: train/labels/raccoon-156_jpg.rf.bf2e87941fc09d382617f414d3c3f6cc.txt  \n",
            " extracting: train/labels/raccoon-157_jpg.rf.42e9b274a066a55cee4aadbf3e610f97.txt  \n",
            " extracting: train/labels/raccoon-158_jpg.rf.f55a14ab6a3f4b94626a909bd6c829d4.txt  \n",
            " extracting: train/labels/raccoon-159_jpg.rf.f00562bbdf4852182fce5c33b9831501.txt  \n",
            " extracting: train/labels/raccoon-15_jpg.rf.32c1c6da4b613bddace4a4ebb4a2be44.txt  \n",
            " extracting: train/labels/raccoon-160_jpg.rf.07d8ec8df1a81403c9bab454dbdb494d.txt  \n",
            " extracting: train/labels/raccoon-161_jpg.rf.e8ff1acd5614eb0c53fe51d4c38db3cd.txt  \n",
            " extracting: train/labels/raccoon-162_jpg.rf.d2840607abbe025e9e81d523133f137d.txt  \n",
            " extracting: train/labels/raccoon-163_jpg.rf.f2a2ca26f88d90a5d82142c377f40154.txt  \n",
            " extracting: train/labels/raccoon-164_jpg.rf.b668f55ca2ffd629f8fd4298981104f1.txt  \n",
            " extracting: train/labels/raccoon-165_jpg.rf.cc8c1c4c613c5cb96148f31f64b0a738.txt  \n",
            " extracting: train/labels/raccoon-166_jpg.rf.c9c73f9a211869c92d3412c60cceac81.txt  \n",
            " extracting: train/labels/raccoon-167_jpg.rf.f10d27f483841a478c526980439c79d8.txt  \n",
            " extracting: train/labels/raccoon-168_jpg.rf.6409e77ba490144d3c4ccb0fb53f2c9d.txt  \n",
            " extracting: train/labels/raccoon-169_jpg.rf.fcaebc6d02b2e9af8e353c1b5bae8244.txt  \n",
            " extracting: train/labels/raccoon-16_jpg.rf.2910e438d93b6c4ee7a49aaaf63a1f4c.txt  \n",
            " extracting: train/labels/raccoon-170_jpg.rf.87c5e9d7e0bd78397063846b0ad329c7.txt  \n",
            " extracting: train/labels/raccoon-171_jpg.rf.e00ec73c6a64a07c1bc0035fa0fbca18.txt  \n",
            " extracting: train/labels/raccoon-172_jpg.rf.fe8d3321da448a533f6e3dde44ddda8c.txt  \n",
            " extracting: train/labels/raccoon-173_jpg.rf.b1235c6a96f98374990c70d9434000c2.txt  \n",
            " extracting: train/labels/raccoon-174_jpg.rf.05815e0d7dc378ed8188d368ccc857ce.txt  \n",
            " extracting: train/labels/raccoon-175_jpg.rf.5c172ad47029edf77be38f333f49c6cd.txt  \n",
            " extracting: train/labels/raccoon-176_jpg.rf.710df90ee6b4d97ad62923a0a38517f5.txt  \n",
            " extracting: train/labels/raccoon-177_jpg.rf.1ffe2bcc19c2311f8c8d4ace8932a88d.txt  \n",
            " extracting: train/labels/raccoon-178_jpg.rf.8c07568eb5114c00e77b073cccc719c6.txt  \n",
            " extracting: train/labels/raccoon-179_jpg.rf.0994f94900ca15a0c638076e40122ff4.txt  \n",
            " extracting: train/labels/raccoon-17_jpg.rf.9a6f703c15e45c2d8e7beb2672336e90.txt  \n",
            " extracting: train/labels/raccoon-180_jpg.rf.2a518477d077cb8a36c1af37d3b9a215.txt  \n",
            " extracting: train/labels/raccoon-181_jpg.rf.ae3fcbba8b7e2408d045a865027c34fc.txt  \n",
            " extracting: train/labels/raccoon-182_jpg.rf.0ee4a4d4fa828093cffc43bc3ea07a8e.txt  \n",
            " extracting: train/labels/raccoon-183_jpg.rf.ec95835ea04533da42d4d959d6707f20.txt  \n",
            " extracting: train/labels/raccoon-184_jpg.rf.43059125d060a4ed8ffcf96e9fd11182.txt  \n",
            " extracting: train/labels/raccoon-185_jpg.rf.53089cc4bbef76a8aea5a70b56e56a65.txt  \n",
            " extracting: train/labels/raccoon-186_jpg.rf.45717b7fa9e2864677cc082bd988f35f.txt  \n",
            " extracting: train/labels/raccoon-187_jpg.rf.d8fc7a310b84d7776c66507634446811.txt  \n",
            " extracting: train/labels/raccoon-188_jpg.rf.f994d290893cde25fcb152b2f3cdecf0.txt  \n",
            " extracting: train/labels/raccoon-189_jpg.rf.3dde48ace4f382d50088d9cf494f8d21.txt  \n",
            " extracting: train/labels/raccoon-18_jpg.rf.a89b15cc2d03110d1c2503a6ff5dedb4.txt  \n",
            " extracting: train/labels/raccoon-190_jpg.rf.18c3f6bf1a7b1cd3288edc357d75af5b.txt  \n",
            " extracting: train/labels/raccoon-191_jpg.rf.1eff00dfe69cf22ac7d5b71d9ad82093.txt  \n",
            " extracting: train/labels/raccoon-192_jpg.rf.54d1fc9c2cc03814000b6071ba37e9ab.txt  \n",
            " extracting: train/labels/raccoon-193_jpg.rf.0f4308408dd14204f9abf6a365fb6f8e.txt  \n",
            " extracting: train/labels/raccoon-194_jpg.rf.73825ff9c38622c80dc729027cc27d34.txt  \n",
            " extracting: train/labels/raccoon-195_jpg.rf.438757fc784e4d9f04d8c257fa103283.txt  \n",
            " extracting: train/labels/raccoon-196_jpg.rf.a6da7cedce59b51c62f6ab91cf3c953b.txt  \n",
            " extracting: train/labels/raccoon-197_jpg.rf.feeda892bbf59049f5db5eecfb476ffd.txt  \n",
            " extracting: train/labels/raccoon-198_jpg.rf.6911aef3b0e22d84a8b6c19e1b504136.txt  \n",
            " extracting: train/labels/raccoon-199_jpg.rf.827e00d23cc83c841e24e17399268364.txt  \n",
            " extracting: train/labels/raccoon-19_jpg.rf.4b877f79c13c17fa218923084773ec00.txt  \n",
            " extracting: train/labels/raccoon-1_jpg.rf.4735f8b019bd0bfa86593b474aa7a5fa.txt  \n",
            " extracting: train/labels/raccoon-200_jpg.rf.4d4cf20c6490045c87cadf8bd468bd8f.txt  \n",
            " extracting: train/labels/raccoon-20_jpg.rf.fb19aa368c074a61eed8829617ed6b7c.txt  \n",
            " extracting: train/labels/raccoon-21_jpg.rf.1a912c8d6424050610135e493cfb5181.txt  \n",
            " extracting: train/labels/raccoon-22_jpg.rf.61a989ae36b537bf441a2c519bfc2791.txt  \n",
            " extracting: train/labels/raccoon-23_jpg.rf.69d0e4ab322789ad3e2bfdcd933233ad.txt  \n",
            " extracting: train/labels/raccoon-24_jpg.rf.0778be28363352e342bd9494e7976a7e.txt  \n",
            " extracting: train/labels/raccoon-25_jpg.rf.dada3d74aa39089ede4d16414c45fffa.txt  \n",
            " extracting: train/labels/raccoon-26_jpg.rf.ab207a81a546038c33a728a96bf86d14.txt  \n",
            " extracting: train/labels/raccoon-27_jpg.rf.316935b020d5fd007d7268a72769ae9d.txt  \n",
            " extracting: train/labels/raccoon-28_jpg.rf.7b2be1128d5b1d3d43776e878d595a10.txt  \n",
            " extracting: train/labels/raccoon-29_jpg.rf.3789fab26d5503e529af0b5bb132ab91.txt  \n",
            " extracting: train/labels/raccoon-2_jpg.rf.1d070475673b53b1880a4b5551dae643.txt  \n",
            " extracting: train/labels/raccoon-30_jpg.rf.3d7fec82876cd7ff6f7396c93a59a396.txt  \n",
            " extracting: train/labels/raccoon-31_jpg.rf.2e8fd57b2645856e968e01b729ab0c53.txt  \n",
            " extracting: train/labels/raccoon-32_jpg.rf.b41a8efc0d66b3b2810bc90e15385817.txt  \n",
            " extracting: train/labels/raccoon-33_jpg.rf.85235043b0e7fe2f572c7e8939c99024.txt  \n",
            " extracting: train/labels/raccoon-34_jpg.rf.918c55f154c1b2ef39a41e6085be2434.txt  \n",
            " extracting: train/labels/raccoon-35_jpg.rf.412f8d6d90c7ea71ea9f6d5f5c7c39c7.txt  \n",
            " extracting: train/labels/raccoon-36_jpg.rf.95f61a0a202157751bc93616034b171d.txt  \n",
            " extracting: train/labels/raccoon-37_jpg.rf.7d902e8083bbdfc7d78c99ec0690019f.txt  \n",
            " extracting: train/labels/raccoon-38_jpg.rf.d72bfc74df002a90d04736fa40265fd9.txt  \n",
            " extracting: train/labels/raccoon-39_jpg.rf.e3e19cc56f672e57edb42749564d2a3d.txt  \n",
            " extracting: train/labels/raccoon-3_jpg.rf.f876204db5f3b5622bc9e53f65b3452e.txt  \n",
            " extracting: train/labels/raccoon-40_jpg.rf.535961124b91d43679aea1bf572ed169.txt  \n",
            " extracting: train/labels/raccoon-41_jpg.rf.3e59f7f51aa762bcb23caefb60a8974f.txt  \n",
            " extracting: train/labels/raccoon-42_jpg.rf.ba5583e11220792d39341e7eed4f9385.txt  \n",
            " extracting: train/labels/raccoon-43_jpg.rf.bc4e3f1c9c25487418260300964e2180.txt  \n",
            " extracting: train/labels/raccoon-44_jpg.rf.76519fa3d01a9d19c4e022e98292c60e.txt  \n",
            " extracting: train/labels/raccoon-45_jpg.rf.fa6b0fabef2ed4f9e9dd6b164792d373.txt  \n",
            " extracting: train/labels/raccoon-46_jpg.rf.30eb23c3a2cb5e17bbae0aa6cac707e3.txt  \n",
            " extracting: train/labels/raccoon-47_jpg.rf.768641c75d43f2db6ff435e7e2a4bd3d.txt  \n",
            " extracting: train/labels/raccoon-48_jpg.rf.99c91ae214e78cb740bfd2bca7b82cfe.txt  \n",
            " extracting: train/labels/raccoon-49_jpg.rf.0c7ec1e43e783a62a23ab81b96aa7366.txt  \n",
            " extracting: train/labels/raccoon-4_jpg.rf.87f15f7e193eba4c63363a9e8f698cc7.txt  \n",
            " extracting: train/labels/raccoon-50_jpg.rf.43389448512823c509aa0a11e769e7e8.txt  \n",
            " extracting: train/labels/raccoon-51_jpg.rf.20fce1e2bf1e589e1d6bc69221a2160b.txt  \n",
            " extracting: train/labels/raccoon-53_jpg.rf.3372db4c1f0fa75805262eaad064a3f7.txt  \n",
            " extracting: train/labels/raccoon-54_jpg.rf.7499d29f80c5747ee957116f25592ae0.txt  \n",
            " extracting: train/labels/raccoon-55_jpg.rf.5b221bf351955c14e80459a380fa2da0.txt  \n",
            " extracting: train/labels/raccoon-56_jpg.rf.48fecf103e4a4c814569b50facecf288.txt  \n",
            " extracting: train/labels/raccoon-5_jpg.rf.aada59e008ebcd0aa1300d27a9539feb.txt  \n",
            "   creating: valid/\n",
            "   creating: valid/images/\n",
            " extracting: valid/images/raccoon-73_jpg.rf.8b19ae0bb7646bcaac6f8df04aee44d6.jpg  \n",
            " extracting: valid/images/raccoon-74_jpg.rf.f659e9e55813f64171049e9f03ed6f11.jpg  \n",
            " extracting: valid/images/raccoon-75_jpg.rf.5e193e4f8bf7f785e771f8fdc819cd33.jpg  \n",
            " extracting: valid/images/raccoon-76_jpg.rf.18108811a0eff493af52df8999de85f0.jpg  \n",
            " extracting: valid/images/raccoon-77_jpg.rf.638583ea08f3043d3691359e149f59c2.jpg  \n",
            " extracting: valid/images/raccoon-78_jpg.rf.5436f171ab5a7b4fbcdad1946a086374.jpg  \n",
            " extracting: valid/images/raccoon-79_jpg.rf.f133cb7a619420f00681d1326ac28a1b.jpg  \n",
            " extracting: valid/images/raccoon-80_jpg.rf.72b3c7ca78af0a414822f9bedfce3b76.jpg  \n",
            " extracting: valid/images/raccoon-81_jpg.rf.b9a99cbb08868ce21d94005799814c7c.jpg  \n",
            " extracting: valid/images/raccoon-82_jpg.rf.00ff88031083cd95bc62294500428bb0.jpg  \n",
            " extracting: valid/images/raccoon-83_jpg.rf.9111bbd932a9eb3c0eb73a602d89eb02.jpg  \n",
            " extracting: valid/images/raccoon-84_jpg.rf.db2f14c407e076ffd7e11583bad40776.jpg  \n",
            " extracting: valid/images/raccoon-85_jpg.rf.a4bc400ea0b0e9922a4cffbbaf741896.jpg  \n",
            " extracting: valid/images/raccoon-86_jpg.rf.a3a11438be66477d5bbab57d14f521d9.jpg  \n",
            " extracting: valid/images/raccoon-87_jpg.rf.e7776389ffd8c5a4c4f783cfb56d949f.jpg  \n",
            " extracting: valid/images/raccoon-88_jpg.rf.c3f2a39f336897da05cb3acb9d42ec54.jpg  \n",
            " extracting: valid/images/raccoon-89_jpg.rf.3b601aaa576fac99f5f24284383f91a3.jpg  \n",
            " extracting: valid/images/raccoon-8_jpg.rf.57a522ab175810aa5b9e7bb1c419515d.jpg  \n",
            " extracting: valid/images/raccoon-90_jpg.rf.50b2f1ed0bc307e1e94817b5e2bb361b.jpg  \n",
            " extracting: valid/images/raccoon-91_jpg.rf.92ca467a6f01e432d7f6229cd36f9194.jpg  \n",
            " extracting: valid/images/raccoon-92_jpg.rf.c44dd4194e36aac1d6e0503f77250862.jpg  \n",
            " extracting: valid/images/raccoon-93_jpg.rf.fb72a1011090148ce6b441b66c669d9f.jpg  \n",
            " extracting: valid/images/raccoon-94_jpg.rf.7461ff11199cb973c6561ae95c4f9c01.jpg  \n",
            " extracting: valid/images/raccoon-95_jpg.rf.f8c8616fc565907a66c86128839a766b.jpg  \n",
            " extracting: valid/images/raccoon-96_jpg.rf.33d6d03799ded7d79958e82ee1452a9b.jpg  \n",
            " extracting: valid/images/raccoon-97_jpg.rf.0528c87b29187d5357486708076b9a6d.jpg  \n",
            " extracting: valid/images/raccoon-98_jpg.rf.020093caa31f6973a7aeabcc1cc913bd.jpg  \n",
            " extracting: valid/images/raccoon-99_jpg.rf.73d8e87470d5efa929835067b2a9a391.jpg  \n",
            " extracting: valid/images/raccoon-9_jpg.rf.c0e98d97af41882fc44f994bb6c89052.jpg  \n",
            "   creating: valid/labels/\n",
            " extracting: valid/labels/raccoon-73_jpg.rf.8b19ae0bb7646bcaac6f8df04aee44d6.txt  \n",
            " extracting: valid/labels/raccoon-74_jpg.rf.f659e9e55813f64171049e9f03ed6f11.txt  \n",
            " extracting: valid/labels/raccoon-75_jpg.rf.5e193e4f8bf7f785e771f8fdc819cd33.txt  \n",
            " extracting: valid/labels/raccoon-76_jpg.rf.18108811a0eff493af52df8999de85f0.txt  \n",
            " extracting: valid/labels/raccoon-77_jpg.rf.638583ea08f3043d3691359e149f59c2.txt  \n",
            " extracting: valid/labels/raccoon-78_jpg.rf.5436f171ab5a7b4fbcdad1946a086374.txt  \n",
            " extracting: valid/labels/raccoon-79_jpg.rf.f133cb7a619420f00681d1326ac28a1b.txt  \n",
            " extracting: valid/labels/raccoon-80_jpg.rf.72b3c7ca78af0a414822f9bedfce3b76.txt  \n",
            " extracting: valid/labels/raccoon-81_jpg.rf.b9a99cbb08868ce21d94005799814c7c.txt  \n",
            " extracting: valid/labels/raccoon-82_jpg.rf.00ff88031083cd95bc62294500428bb0.txt  \n",
            " extracting: valid/labels/raccoon-83_jpg.rf.9111bbd932a9eb3c0eb73a602d89eb02.txt  \n",
            " extracting: valid/labels/raccoon-84_jpg.rf.db2f14c407e076ffd7e11583bad40776.txt  \n",
            " extracting: valid/labels/raccoon-85_jpg.rf.a4bc400ea0b0e9922a4cffbbaf741896.txt  \n",
            " extracting: valid/labels/raccoon-86_jpg.rf.a3a11438be66477d5bbab57d14f521d9.txt  \n",
            " extracting: valid/labels/raccoon-87_jpg.rf.e7776389ffd8c5a4c4f783cfb56d949f.txt  \n",
            " extracting: valid/labels/raccoon-88_jpg.rf.c3f2a39f336897da05cb3acb9d42ec54.txt  \n",
            " extracting: valid/labels/raccoon-89_jpg.rf.3b601aaa576fac99f5f24284383f91a3.txt  \n",
            " extracting: valid/labels/raccoon-8_jpg.rf.57a522ab175810aa5b9e7bb1c419515d.txt  \n",
            " extracting: valid/labels/raccoon-90_jpg.rf.50b2f1ed0bc307e1e94817b5e2bb361b.txt  \n",
            " extracting: valid/labels/raccoon-91_jpg.rf.92ca467a6f01e432d7f6229cd36f9194.txt  \n",
            " extracting: valid/labels/raccoon-92_jpg.rf.c44dd4194e36aac1d6e0503f77250862.txt  \n",
            " extracting: valid/labels/raccoon-93_jpg.rf.fb72a1011090148ce6b441b66c669d9f.txt  \n",
            " extracting: valid/labels/raccoon-94_jpg.rf.7461ff11199cb973c6561ae95c4f9c01.txt  \n",
            " extracting: valid/labels/raccoon-95_jpg.rf.f8c8616fc565907a66c86128839a766b.txt  \n",
            " extracting: valid/labels/raccoon-96_jpg.rf.33d6d03799ded7d79958e82ee1452a9b.txt  \n",
            " extracting: valid/labels/raccoon-97_jpg.rf.0528c87b29187d5357486708076b9a6d.txt  \n",
            " extracting: valid/labels/raccoon-98_jpg.rf.020093caa31f6973a7aeabcc1cc913bd.txt  \n",
            " extracting: valid/labels/raccoon-99_jpg.rf.73d8e87470d5efa929835067b2a9a391.txt  \n",
            " extracting: valid/labels/raccoon-9_jpg.rf.c0e98d97af41882fc44f994bb6c89052.txt  \n"
          ]
        }
      ]
    },
    {
      "cell_type": "markdown",
      "source": [
        "## model 가져오기"
      ],
      "metadata": {
        "id": "nBd2qihnAscq"
      }
    },
    {
      "cell_type": "code",
      "source": [
        "!pwd"
      ],
      "metadata": {
        "colab": {
          "base_uri": "https://localhost:8080/"
        },
        "id": "hkEt9PxqB1kC",
        "outputId": "1d28064a-0ec0-4489-b9f9-206a0e40997e"
      },
      "execution_count": 86,
      "outputs": [
        {
          "output_type": "stream",
          "name": "stdout",
          "text": [
            "/content\n"
          ]
        }
      ]
    },
    {
      "cell_type": "code",
      "source": [
        "!git clone https://github.com/ultralytics/yolov5.git"
      ],
      "metadata": {
        "colab": {
          "base_uri": "https://localhost:8080/"
        },
        "id": "UdZdpNTTBtAB",
        "outputId": "766cadec-53cc-479c-d77b-f9488be1023a"
      },
      "execution_count": 90,
      "outputs": [
        {
          "output_type": "stream",
          "name": "stdout",
          "text": [
            "Cloning into 'yolov5'...\n",
            "remote: Enumerating objects: 15814, done.\u001b[K\n",
            "remote: Counting objects: 100% (45/45), done.\u001b[K\n",
            "remote: Compressing objects: 100% (43/43), done.\u001b[K\n",
            "remote: Total 15814 (delta 9), reused 26 (delta 2), pack-reused 15769\u001b[K\n",
            "Receiving objects: 100% (15814/15814), 14.59 MiB | 17.23 MiB/s, done.\n",
            "Resolving deltas: 100% (10823/10823), done.\n"
          ]
        }
      ]
    },
    {
      "cell_type": "code",
      "source": [
        "%cd /content/yolov5"
      ],
      "metadata": {
        "colab": {
          "base_uri": "https://localhost:8080/"
        },
        "id": "AWBpdYGuCC3E",
        "outputId": "400efaba-8028-46d6-8bc8-5e404ef69f7e"
      },
      "execution_count": 91,
      "outputs": [
        {
          "output_type": "stream",
          "name": "stdout",
          "text": [
            "/content/yolov5\n"
          ]
        }
      ]
    },
    {
      "cell_type": "code",
      "source": [
        "!pip install -r /content/yolov5/requirements.txt"
      ],
      "metadata": {
        "colab": {
          "base_uri": "https://localhost:8080/"
        },
        "id": "m4f4Mq5rCVCI",
        "outputId": "027e6764-b13a-46e2-d376-f358f4caff54"
      },
      "execution_count": 93,
      "outputs": [
        {
          "output_type": "stream",
          "name": "stdout",
          "text": [
            "Collecting gitpython>=3.1.30 (from -r /content/yolov5/requirements.txt (line 5))\n",
            "  Downloading GitPython-3.1.31-py3-none-any.whl (184 kB)\n",
            "\u001b[?25l     \u001b[90m━━━━━━━━━━━━━━━━━━━━━━━━━━━━━━━━━━━━━━━━\u001b[0m \u001b[32m0.0/184.3 kB\u001b[0m \u001b[31m?\u001b[0m eta \u001b[36m-:--:--\u001b[0m\r\u001b[2K     \u001b[90m━━━━━━━━━━━━━━━━━━━━━━━━━━━━━━━━━━━━━━━\u001b[0m \u001b[32m184.3/184.3 kB\u001b[0m \u001b[31m7.0 MB/s\u001b[0m eta \u001b[36m0:00:00\u001b[0m\n",
            "\u001b[?25hRequirement already satisfied: matplotlib>=3.3 in /usr/local/lib/python3.10/dist-packages (from -r /content/yolov5/requirements.txt (line 6)) (3.7.1)\n",
            "Requirement already satisfied: numpy>=1.18.5 in /usr/local/lib/python3.10/dist-packages (from -r /content/yolov5/requirements.txt (line 7)) (1.22.4)\n",
            "Requirement already satisfied: opencv-python>=4.1.1 in /usr/local/lib/python3.10/dist-packages (from -r /content/yolov5/requirements.txt (line 8)) (4.7.0.72)\n",
            "Requirement already satisfied: Pillow>=7.1.2 in /usr/local/lib/python3.10/dist-packages (from -r /content/yolov5/requirements.txt (line 9)) (8.4.0)\n",
            "Requirement already satisfied: psutil in /usr/local/lib/python3.10/dist-packages (from -r /content/yolov5/requirements.txt (line 10)) (5.9.5)\n",
            "Requirement already satisfied: PyYAML>=5.3.1 in /usr/local/lib/python3.10/dist-packages (from -r /content/yolov5/requirements.txt (line 11)) (6.0)\n",
            "Requirement already satisfied: requests>=2.23.0 in /usr/local/lib/python3.10/dist-packages (from -r /content/yolov5/requirements.txt (line 12)) (2.27.1)\n",
            "Requirement already satisfied: scipy>=1.4.1 in /usr/local/lib/python3.10/dist-packages (from -r /content/yolov5/requirements.txt (line 13)) (1.10.1)\n",
            "Collecting thop>=0.1.1 (from -r /content/yolov5/requirements.txt (line 14))\n",
            "  Downloading thop-0.1.1.post2209072238-py3-none-any.whl (15 kB)\n",
            "Requirement already satisfied: torch>=1.7.0 in /usr/local/lib/python3.10/dist-packages (from -r /content/yolov5/requirements.txt (line 15)) (2.0.1+cu118)\n",
            "Requirement already satisfied: torchvision>=0.8.1 in /usr/local/lib/python3.10/dist-packages (from -r /content/yolov5/requirements.txt (line 16)) (0.15.2+cu118)\n",
            "Requirement already satisfied: tqdm>=4.64.0 in /usr/local/lib/python3.10/dist-packages (from -r /content/yolov5/requirements.txt (line 17)) (4.65.0)\n",
            "Collecting ultralytics>=8.0.111 (from -r /content/yolov5/requirements.txt (line 18))\n",
            "  Downloading ultralytics-8.0.128-py3-none-any.whl (625 kB)\n",
            "\u001b[2K     \u001b[90m━━━━━━━━━━━━━━━━━━━━━━━━━━━━━━━━━━━━━━\u001b[0m \u001b[32m625.9/625.9 kB\u001b[0m \u001b[31m24.8 MB/s\u001b[0m eta \u001b[36m0:00:00\u001b[0m\n",
            "\u001b[?25hRequirement already satisfied: pandas>=1.1.4 in /usr/local/lib/python3.10/dist-packages (from -r /content/yolov5/requirements.txt (line 27)) (1.5.3)\n",
            "Requirement already satisfied: seaborn>=0.11.0 in /usr/local/lib/python3.10/dist-packages (from -r /content/yolov5/requirements.txt (line 28)) (0.12.2)\n",
            "Requirement already satisfied: setuptools>=65.5.1 in /usr/local/lib/python3.10/dist-packages (from -r /content/yolov5/requirements.txt (line 42)) (67.7.2)\n",
            "Collecting gitdb<5,>=4.0.1 (from gitpython>=3.1.30->-r /content/yolov5/requirements.txt (line 5))\n",
            "  Downloading gitdb-4.0.10-py3-none-any.whl (62 kB)\n",
            "\u001b[2K     \u001b[90m━━━━━━━━━━━━━━━━━━━━━━━━━━━━━━━━━━━━━━━━\u001b[0m \u001b[32m62.7/62.7 kB\u001b[0m \u001b[31m7.6 MB/s\u001b[0m eta \u001b[36m0:00:00\u001b[0m\n",
            "\u001b[?25hRequirement already satisfied: contourpy>=1.0.1 in /usr/local/lib/python3.10/dist-packages (from matplotlib>=3.3->-r /content/yolov5/requirements.txt (line 6)) (1.1.0)\n",
            "Requirement already satisfied: cycler>=0.10 in /usr/local/lib/python3.10/dist-packages (from matplotlib>=3.3->-r /content/yolov5/requirements.txt (line 6)) (0.11.0)\n",
            "Requirement already satisfied: fonttools>=4.22.0 in /usr/local/lib/python3.10/dist-packages (from matplotlib>=3.3->-r /content/yolov5/requirements.txt (line 6)) (4.40.0)\n",
            "Requirement already satisfied: kiwisolver>=1.0.1 in /usr/local/lib/python3.10/dist-packages (from matplotlib>=3.3->-r /content/yolov5/requirements.txt (line 6)) (1.4.4)\n",
            "Requirement already satisfied: packaging>=20.0 in /usr/local/lib/python3.10/dist-packages (from matplotlib>=3.3->-r /content/yolov5/requirements.txt (line 6)) (23.1)\n",
            "Requirement already satisfied: pyparsing>=2.3.1 in /usr/local/lib/python3.10/dist-packages (from matplotlib>=3.3->-r /content/yolov5/requirements.txt (line 6)) (3.1.0)\n",
            "Requirement already satisfied: python-dateutil>=2.7 in /usr/local/lib/python3.10/dist-packages (from matplotlib>=3.3->-r /content/yolov5/requirements.txt (line 6)) (2.8.2)\n",
            "Requirement already satisfied: urllib3<1.27,>=1.21.1 in /usr/local/lib/python3.10/dist-packages (from requests>=2.23.0->-r /content/yolov5/requirements.txt (line 12)) (1.26.16)\n",
            "Requirement already satisfied: certifi>=2017.4.17 in /usr/local/lib/python3.10/dist-packages (from requests>=2.23.0->-r /content/yolov5/requirements.txt (line 12)) (2023.5.7)\n",
            "Requirement already satisfied: charset-normalizer~=2.0.0 in /usr/local/lib/python3.10/dist-packages (from requests>=2.23.0->-r /content/yolov5/requirements.txt (line 12)) (2.0.12)\n",
            "Requirement already satisfied: idna<4,>=2.5 in /usr/local/lib/python3.10/dist-packages (from requests>=2.23.0->-r /content/yolov5/requirements.txt (line 12)) (3.4)\n",
            "Requirement already satisfied: filelock in /usr/local/lib/python3.10/dist-packages (from torch>=1.7.0->-r /content/yolov5/requirements.txt (line 15)) (3.12.2)\n",
            "Requirement already satisfied: typing-extensions in /usr/local/lib/python3.10/dist-packages (from torch>=1.7.0->-r /content/yolov5/requirements.txt (line 15)) (4.6.3)\n",
            "Requirement already satisfied: sympy in /usr/local/lib/python3.10/dist-packages (from torch>=1.7.0->-r /content/yolov5/requirements.txt (line 15)) (1.11.1)\n",
            "Requirement already satisfied: networkx in /usr/local/lib/python3.10/dist-packages (from torch>=1.7.0->-r /content/yolov5/requirements.txt (line 15)) (3.1)\n",
            "Requirement already satisfied: jinja2 in /usr/local/lib/python3.10/dist-packages (from torch>=1.7.0->-r /content/yolov5/requirements.txt (line 15)) (3.1.2)\n",
            "Requirement already satisfied: triton==2.0.0 in /usr/local/lib/python3.10/dist-packages (from torch>=1.7.0->-r /content/yolov5/requirements.txt (line 15)) (2.0.0)\n",
            "Requirement already satisfied: cmake in /usr/local/lib/python3.10/dist-packages (from triton==2.0.0->torch>=1.7.0->-r /content/yolov5/requirements.txt (line 15)) (3.25.2)\n",
            "Requirement already satisfied: lit in /usr/local/lib/python3.10/dist-packages (from triton==2.0.0->torch>=1.7.0->-r /content/yolov5/requirements.txt (line 15)) (16.0.6)\n",
            "Requirement already satisfied: pytz>=2020.1 in /usr/local/lib/python3.10/dist-packages (from pandas>=1.1.4->-r /content/yolov5/requirements.txt (line 27)) (2022.7.1)\n",
            "Collecting smmap<6,>=3.0.1 (from gitdb<5,>=4.0.1->gitpython>=3.1.30->-r /content/yolov5/requirements.txt (line 5))\n",
            "  Downloading smmap-5.0.0-py3-none-any.whl (24 kB)\n",
            "Requirement already satisfied: six>=1.5 in /usr/local/lib/python3.10/dist-packages (from python-dateutil>=2.7->matplotlib>=3.3->-r /content/yolov5/requirements.txt (line 6)) (1.16.0)\n",
            "Requirement already satisfied: MarkupSafe>=2.0 in /usr/local/lib/python3.10/dist-packages (from jinja2->torch>=1.7.0->-r /content/yolov5/requirements.txt (line 15)) (2.1.3)\n",
            "Requirement already satisfied: mpmath>=0.19 in /usr/local/lib/python3.10/dist-packages (from sympy->torch>=1.7.0->-r /content/yolov5/requirements.txt (line 15)) (1.3.0)\n",
            "Installing collected packages: smmap, gitdb, gitpython, ultralytics, thop\n",
            "Successfully installed gitdb-4.0.10 gitpython-3.1.31 smmap-5.0.0 thop-0.1.1.post2209072238 ultralytics-8.0.128\n"
          ]
        }
      ]
    },
    {
      "cell_type": "code",
      "source": [
        "%cd /"
      ],
      "metadata": {
        "colab": {
          "base_uri": "https://localhost:8080/"
        },
        "id": "5YXP_EqgCmlJ",
        "outputId": "3e3c98b3-17f5-419f-ec54-6b243ef5da65"
      },
      "execution_count": 94,
      "outputs": [
        {
          "output_type": "stream",
          "name": "stdout",
          "text": [
            "/\n"
          ]
        }
      ]
    },
    {
      "cell_type": "code",
      "source": [
        "from glob import glob\n",
        "\n",
        "img_list = glob('/content/dataset/export/images/*.jpg')"
      ],
      "metadata": {
        "id": "QaNziE9WCqV4"
      },
      "execution_count": 95,
      "outputs": []
    },
    {
      "cell_type": "code",
      "source": [
        "img_list[:10]"
      ],
      "metadata": {
        "colab": {
          "base_uri": "https://localhost:8080/"
        },
        "id": "2FllOLuSDCUR",
        "outputId": "e4791668-783a-41d6-ce35-265db8e61a35"
      },
      "execution_count": 96,
      "outputs": [
        {
          "output_type": "execute_result",
          "data": {
            "text/plain": [
              "['/content/dataset/export/images/raccoon-87_jpg.rf.Mii8qqnFvQSvnNjeka0P.jpg',\n",
              " '/content/dataset/export/images/raccoon-144_jpg.rf.BsojHoPGoxD11h7QIylE.jpg',\n",
              " '/content/dataset/export/images/raccoon-50_jpg.rf.whvFMBzgHg3ts3amHFfP.jpg',\n",
              " '/content/dataset/export/images/raccoon-106_jpg.rf.UCuMtEoBFF5lvbYSErKC.jpg',\n",
              " '/content/dataset/export/images/raccoon-151_jpg.rf.5QM6WsoL5TPMyAnE0exp.jpg',\n",
              " '/content/dataset/export/images/raccoon-20_jpg.rf.4WAs8L29reqeirSqGg9t.jpg',\n",
              " '/content/dataset/export/images/raccoon-157_jpg.rf.sFXF3Byt99UCrAC39stv.jpg',\n",
              " '/content/dataset/export/images/raccoon-143_jpg.rf.MJwGepEt8iJgbqjol0sN.jpg',\n",
              " '/content/dataset/export/images/raccoon-86_jpg.rf.qxniBkdMh5L4p6IDfKmJ.jpg',\n",
              " '/content/dataset/export/images/raccoon-16_jpg.rf.B7mRyX2zKgmj4GfdTHCu.jpg']"
            ]
          },
          "metadata": {},
          "execution_count": 96
        }
      ]
    },
    {
      "cell_type": "code",
      "source": [
        "from sklearn.model_selection import train_test_split\n",
        "\n",
        "train_img, val_img = train_test_split(img_list, test_size=0.2)"
      ],
      "metadata": {
        "id": "XUKx6ZSLDEy6"
      },
      "execution_count": 97,
      "outputs": []
    },
    {
      "cell_type": "code",
      "source": [
        "# 파일 이릠나 들어있는 txt파일만들기\n",
        "with open('/content/dataset/train.txt', 'w') as f:\n",
        "  f.write('\\n'.join(train_img) + '\\n')"
      ],
      "metadata": {
        "id": "asNrPnZsDcVM"
      },
      "execution_count": 98,
      "outputs": []
    },
    {
      "cell_type": "code",
      "source": [
        "with open('/content/dataset/val.txt', 'w') as f:\n",
        "  f.write('\\n'.join(train_img) + '\\n')"
      ],
      "metadata": {
        "id": "QtIIjbPeGP7Q"
      },
      "execution_count": 99,
      "outputs": []
    },
    {
      "cell_type": "code",
      "source": [
        "# data.yaml 수정\n",
        "import yaml\n",
        "\n",
        "with open('/content/dataset/data.yaml', 'r') as f:\n",
        "  data = yaml.load(f, Loader=yaml.FullLoader)\n",
        "\n",
        "print(data)"
      ],
      "metadata": {
        "colab": {
          "base_uri": "https://localhost:8080/"
        },
        "id": "bzItC0sxGeXI",
        "outputId": "a7ade9aa-b7bd-4721-f9bf-3012db14faf6"
      },
      "execution_count": 100,
      "outputs": [
        {
          "output_type": "stream",
          "name": "stdout",
          "text": [
            "{'train': '../train/images', 'val': '../valid/images', 'nc': 1, 'names': ['raccoon']}\n"
          ]
        }
      ]
    },
    {
      "cell_type": "code",
      "source": [
        "data['train'] = '/content/dataset/train.txt'\n",
        "data['val'] = '/content/dataset/val.txt'"
      ],
      "metadata": {
        "id": "QokWzZ0ZHGL6"
      },
      "execution_count": 101,
      "outputs": []
    },
    {
      "cell_type": "code",
      "source": [
        "with open('/content/dataset/data.yaml', 'w') as f:\n",
        "  yaml.dump(data, f)"
      ],
      "metadata": {
        "id": "y9Y8U1hAHRGm"
      },
      "execution_count": 102,
      "outputs": []
    },
    {
      "cell_type": "code",
      "source": [
        "%cd /content/yolov5"
      ],
      "metadata": {
        "colab": {
          "base_uri": "https://localhost:8080/"
        },
        "id": "kI9lroKjHYIH",
        "outputId": "c854802c-4aa4-4006-8bbd-16f11e9e381b"
      },
      "execution_count": 103,
      "outputs": [
        {
          "output_type": "stream",
          "name": "stdout",
          "text": [
            "/content/yolov5\n"
          ]
        }
      ]
    },
    {
      "cell_type": "code",
      "source": [
        "%%time\n",
        "\n",
        "!python train.py --img 416 --batch 16 --epochs 50 --data /content/dataset/data.yaml --cfg /content/yolov5/models/yolov5s.yaml --weight yolov5s.pt --name racoon_yolov5s"
      ],
      "metadata": {
        "colab": {
          "base_uri": "https://localhost:8080/"
        },
        "id": "IDA7t_XEHpLs",
        "outputId": "7ad0fb51-8854-471a-dec0-c743bd8089b6"
      },
      "execution_count": 104,
      "outputs": [
        {
          "output_type": "stream",
          "name": "stdout",
          "text": [
            "\u001b[34m\u001b[1mtrain: \u001b[0mweights=yolov5s.pt, cfg=/content/yolov5/models/yolov5s.yaml, data=/content/dataset/data.yaml, hyp=data/hyps/hyp.scratch-low.yaml, epochs=50, batch_size=16, imgsz=416, rect=False, resume=False, nosave=False, noval=False, noautoanchor=False, noplots=False, evolve=None, bucket=, cache=None, image_weights=False, device=, multi_scale=False, single_cls=False, optimizer=SGD, sync_bn=False, workers=8, project=runs/train, name=racoon_yolov5s, exist_ok=False, quad=False, cos_lr=False, label_smoothing=0.0, patience=100, freeze=[0], save_period=-1, seed=0, local_rank=-1, entity=None, upload_dataset=False, bbox_interval=-1, artifact_alias=latest\n",
            "\u001b[34m\u001b[1mgithub: \u001b[0mup to date with https://github.com/ultralytics/yolov5 ✅\n",
            "YOLOv5 🚀 v7.0-193-g485da42 Python-3.10.12 torch-2.0.1+cu118 CPU\n",
            "\n",
            "\u001b[34m\u001b[1mhyperparameters: \u001b[0mlr0=0.01, lrf=0.01, momentum=0.937, weight_decay=0.0005, warmup_epochs=3.0, warmup_momentum=0.8, warmup_bias_lr=0.1, box=0.05, cls=0.5, cls_pw=1.0, obj=1.0, obj_pw=1.0, iou_t=0.2, anchor_t=4.0, fl_gamma=0.0, hsv_h=0.015, hsv_s=0.7, hsv_v=0.4, degrees=0.0, translate=0.1, scale=0.5, shear=0.0, perspective=0.0, flipud=0.0, fliplr=0.5, mosaic=1.0, mixup=0.0, copy_paste=0.0\n",
            "\u001b[34m\u001b[1mComet: \u001b[0mrun 'pip install comet_ml' to automatically track and visualize YOLOv5 🚀 runs in Comet\n",
            "\u001b[34m\u001b[1mTensorBoard: \u001b[0mStart with 'tensorboard --logdir runs/train', view at http://localhost:6006/\n",
            "Downloading https://ultralytics.com/assets/Arial.ttf to /root/.config/Ultralytics/Arial.ttf...\n",
            "100% 755k/755k [00:00<00:00, 23.4MB/s]\n",
            "Downloading https://github.com/ultralytics/yolov5/releases/download/v7.0/yolov5s.pt to yolov5s.pt...\n",
            "100% 14.1M/14.1M [00:00<00:00, 69.5MB/s]\n",
            "\n",
            "Overriding model.yaml nc=80 with nc=1\n",
            "\n",
            "                 from  n    params  module                                  arguments                     \n",
            "  0                -1  1      3520  models.common.Conv                      [3, 32, 6, 2, 2]              \n",
            "  1                -1  1     18560  models.common.Conv                      [32, 64, 3, 2]                \n",
            "  2                -1  1     18816  models.common.C3                        [64, 64, 1]                   \n",
            "  3                -1  1     73984  models.common.Conv                      [64, 128, 3, 2]               \n",
            "  4                -1  2    115712  models.common.C3                        [128, 128, 2]                 \n",
            "  5                -1  1    295424  models.common.Conv                      [128, 256, 3, 2]              \n",
            "  6                -1  3    625152  models.common.C3                        [256, 256, 3]                 \n",
            "  7                -1  1   1180672  models.common.Conv                      [256, 512, 3, 2]              \n",
            "  8                -1  1   1182720  models.common.C3                        [512, 512, 1]                 \n",
            "  9                -1  1    656896  models.common.SPPF                      [512, 512, 5]                 \n",
            " 10                -1  1    131584  models.common.Conv                      [512, 256, 1, 1]              \n",
            " 11                -1  1         0  torch.nn.modules.upsampling.Upsample    [None, 2, 'nearest']          \n",
            " 12           [-1, 6]  1         0  models.common.Concat                    [1]                           \n",
            " 13                -1  1    361984  models.common.C3                        [512, 256, 1, False]          \n",
            " 14                -1  1     33024  models.common.Conv                      [256, 128, 1, 1]              \n",
            " 15                -1  1         0  torch.nn.modules.upsampling.Upsample    [None, 2, 'nearest']          \n",
            " 16           [-1, 4]  1         0  models.common.Concat                    [1]                           \n",
            " 17                -1  1     90880  models.common.C3                        [256, 128, 1, False]          \n",
            " 18                -1  1    147712  models.common.Conv                      [128, 128, 3, 2]              \n",
            " 19          [-1, 14]  1         0  models.common.Concat                    [1]                           \n",
            " 20                -1  1    296448  models.common.C3                        [256, 256, 1, False]          \n",
            " 21                -1  1    590336  models.common.Conv                      [256, 256, 3, 2]              \n",
            " 22          [-1, 10]  1         0  models.common.Concat                    [1]                           \n",
            " 23                -1  1   1182720  models.common.C3                        [512, 512, 1, False]          \n",
            " 24      [17, 20, 23]  1     16182  models.yolo.Detect                      [1, [[10, 13, 16, 30, 33, 23], [30, 61, 62, 45, 59, 119], [116, 90, 156, 198, 373, 326]], [128, 256, 512]]\n",
            "YOLOv5s summary: 214 layers, 7022326 parameters, 7022326 gradients, 15.9 GFLOPs\n",
            "\n",
            "Transferred 342/349 items from yolov5s.pt\n",
            "\u001b[34m\u001b[1moptimizer:\u001b[0m SGD(lr=0.01) with parameter groups 57 weight(decay=0.0), 60 weight(decay=0.0005), 60 bias\n",
            "\u001b[34m\u001b[1malbumentations: \u001b[0mBlur(p=0.01, blur_limit=(3, 7)), MedianBlur(p=0.01, blur_limit=(3, 7)), ToGray(p=0.01), CLAHE(p=0.01, clip_limit=(1, 4.0), tile_grid_size=(8, 8))\n",
            "\u001b[34m\u001b[1mtrain: \u001b[0mScanning /content/dataset/train... 156 images, 0 backgrounds, 0 corrupt: 100% 156/156 [00:00<00:00, 1188.29it/s]\n",
            "\u001b[34m\u001b[1mtrain: \u001b[0mNew cache created: /content/dataset/train.cache\n",
            "\u001b[34m\u001b[1mval: \u001b[0mScanning /content/dataset/val... 156 images, 0 backgrounds, 0 corrupt: 100% 156/156 [00:00<00:00, 568.82it/s]\n",
            "\u001b[34m\u001b[1mval: \u001b[0mNew cache created: /content/dataset/val.cache\n",
            "\n",
            "\u001b[34m\u001b[1mAutoAnchor: \u001b[0m3.28 anchors/target, 1.000 Best Possible Recall (BPR). Current anchors are a good fit to dataset ✅\n",
            "Plotting labels to runs/train/racoon_yolov5s/labels.jpg... \n",
            "Image sizes 416 train, 416 val\n",
            "Using 2 dataloader workers\n",
            "Logging results to \u001b[1mruns/train/racoon_yolov5s\u001b[0m\n",
            "Starting training for 50 epochs...\n",
            "\n",
            "      Epoch    GPU_mem   box_loss   obj_loss   cls_loss  Instances       Size\n",
            "       0/49         0G      0.121    0.02152          0         35        416: 100% 10/10 [01:37<00:00,  9.77s/it]\n",
            "                 Class     Images  Instances          P          R      mAP50   mAP50-95:   0% 0/5 [00:00<?, ?it/s]WARNING ⚠️ NMS time limit 2.100s exceeded\n",
            "                 Class     Images  Instances          P          R      mAP50   mAP50-95:  20% 1/5 [00:07<00:31,  7.94s/it]WARNING ⚠️ NMS time limit 2.100s exceeded\n",
            "                 Class     Images  Instances          P          R      mAP50   mAP50-95:  40% 2/5 [00:17<00:26,  8.67s/it]WARNING ⚠️ NMS time limit 2.100s exceeded\n",
            "                 Class     Images  Instances          P          R      mAP50   mAP50-95:  60% 3/5 [00:26<00:18,  9.04s/it]WARNING ⚠️ NMS time limit 2.100s exceeded\n",
            "                 Class     Images  Instances          P          R      mAP50   mAP50-95:  80% 4/5 [00:36<00:09,  9.19s/it]WARNING ⚠️ NMS time limit 1.900s exceeded\n",
            "                 Class     Images  Instances          P          R      mAP50   mAP50-95: 100% 5/5 [00:43<00:00,  8.76s/it]\n",
            "                   all        156        173     0.0258     0.0578    0.00987    0.00248\n",
            "\n",
            "      Epoch    GPU_mem   box_loss   obj_loss   cls_loss  Instances       Size\n",
            "       1/49         0G     0.1035    0.02351          0         30        416: 100% 10/10 [01:24<00:00,  8.49s/it]\n",
            "                 Class     Images  Instances          P          R      mAP50   mAP50-95:   0% 0/5 [00:00<?, ?it/s]WARNING ⚠️ NMS time limit 2.100s exceeded\n",
            "                 Class     Images  Instances          P          R      mAP50   mAP50-95:  20% 1/5 [00:09<00:36,  9.16s/it]WARNING ⚠️ NMS time limit 2.100s exceeded\n",
            "                 Class     Images  Instances          P          R      mAP50   mAP50-95:  40% 2/5 [00:18<00:28,  9.49s/it]WARNING ⚠️ NMS time limit 2.100s exceeded\n",
            "                 Class     Images  Instances          P          R      mAP50   mAP50-95:  60% 3/5 [00:27<00:17,  8.94s/it]WARNING ⚠️ NMS time limit 2.100s exceeded\n",
            "                 Class     Images  Instances          P          R      mAP50   mAP50-95:  80% 4/5 [00:36<00:08,  8.95s/it]WARNING ⚠️ NMS time limit 1.900s exceeded\n",
            "                 Class     Images  Instances          P          R      mAP50   mAP50-95: 100% 5/5 [00:44<00:00,  8.89s/it]\n",
            "                   all        156        173     0.0925     0.0809     0.0341    0.00842\n",
            "\n",
            "      Epoch    GPU_mem   box_loss   obj_loss   cls_loss  Instances       Size\n",
            "       2/49         0G    0.08504    0.02422          0         31        416: 100% 10/10 [01:25<00:00,  8.52s/it]\n",
            "                 Class     Images  Instances          P          R      mAP50   mAP50-95:   0% 0/5 [00:00<?, ?it/s]WARNING ⚠️ NMS time limit 2.100s exceeded\n",
            "                 Class     Images  Instances          P          R      mAP50   mAP50-95:  20% 1/5 [00:09<00:36,  9.24s/it]WARNING ⚠️ NMS time limit 2.100s exceeded\n",
            "                 Class     Images  Instances          P          R      mAP50   mAP50-95:  40% 2/5 [00:18<00:27,  9.04s/it]WARNING ⚠️ NMS time limit 2.100s exceeded\n",
            "                 Class     Images  Instances          P          R      mAP50   mAP50-95:  60% 3/5 [00:26<00:17,  8.60s/it]WARNING ⚠️ NMS time limit 2.100s exceeded\n",
            "                 Class     Images  Instances          P          R      mAP50   mAP50-95:  80% 4/5 [00:35<00:08,  8.86s/it]WARNING ⚠️ NMS time limit 1.900s exceeded\n",
            "                 Class     Images  Instances          P          R      mAP50   mAP50-95: 100% 5/5 [00:42<00:00,  8.52s/it]\n",
            "                   all        156        173      0.138      0.104     0.0901     0.0275\n",
            "\n",
            "      Epoch    GPU_mem   box_loss   obj_loss   cls_loss  Instances       Size\n",
            "       3/49         0G     0.0701    0.02555          0         22        416: 100% 10/10 [01:23<00:00,  8.31s/it]\n",
            "                 Class     Images  Instances          P          R      mAP50   mAP50-95:   0% 0/5 [00:00<?, ?it/s]WARNING ⚠️ NMS time limit 2.100s exceeded\n",
            "                 Class     Images  Instances          P          R      mAP50   mAP50-95:  80% 4/5 [00:35<00:09,  9.08s/it]WARNING ⚠️ NMS time limit 1.900s exceeded\n",
            "                 Class     Images  Instances          P          R      mAP50   mAP50-95: 100% 5/5 [00:43<00:00,  8.70s/it]\n",
            "                   all        156        173      0.416      0.353      0.363      0.154\n",
            "\n",
            "      Epoch    GPU_mem   box_loss   obj_loss   cls_loss  Instances       Size\n",
            "       4/49         0G    0.06622    0.02626          0         36        416: 100% 10/10 [01:25<00:00,  8.52s/it]\n",
            "                 Class     Images  Instances          P          R      mAP50   mAP50-95: 100% 5/5 [00:39<00:00,  7.90s/it]\n",
            "                   all        156        173      0.623      0.659      0.659      0.269\n",
            "\n",
            "      Epoch    GPU_mem   box_loss   obj_loss   cls_loss  Instances       Size\n",
            "       5/49         0G    0.06205    0.02369          0         33        416: 100% 10/10 [01:25<00:00,  8.57s/it]\n",
            "                 Class     Images  Instances          P          R      mAP50   mAP50-95: 100% 5/5 [00:37<00:00,  7.60s/it]\n",
            "                   all        156        173      0.558      0.647      0.595      0.252\n",
            "\n",
            "      Epoch    GPU_mem   box_loss   obj_loss   cls_loss  Instances       Size\n",
            "       6/49         0G    0.06339    0.02294          0         36        416: 100% 10/10 [01:24<00:00,  8.40s/it]\n",
            "                 Class     Images  Instances          P          R      mAP50   mAP50-95: 100% 5/5 [00:38<00:00,  7.71s/it]\n",
            "                   all        156        173      0.401      0.618      0.425      0.186\n",
            "\n",
            "      Epoch    GPU_mem   box_loss   obj_loss   cls_loss  Instances       Size\n",
            "       7/49         0G    0.06206    0.02208          0         33        416: 100% 10/10 [01:23<00:00,  8.38s/it]\n",
            "                 Class     Images  Instances          P          R      mAP50   mAP50-95: 100% 5/5 [00:36<00:00,  7.35s/it]\n",
            "                   all        156        173      0.455      0.685      0.488      0.217\n",
            "\n",
            "      Epoch    GPU_mem   box_loss   obj_loss   cls_loss  Instances       Size\n",
            "       8/49         0G      0.064    0.02167          0         34        416: 100% 10/10 [01:25<00:00,  8.58s/it]\n",
            "                 Class     Images  Instances          P          R      mAP50   mAP50-95: 100% 5/5 [00:37<00:00,  7.42s/it]\n",
            "                   all        156        173      0.275       0.59      0.316      0.143\n",
            "\n",
            "      Epoch    GPU_mem   box_loss   obj_loss   cls_loss  Instances       Size\n",
            "       9/49         0G    0.05991    0.02256          0         29        416: 100% 10/10 [01:23<00:00,  8.39s/it]\n",
            "                 Class     Images  Instances          P          R      mAP50   mAP50-95: 100% 5/5 [00:35<00:00,  7.05s/it]\n",
            "                   all        156        173      0.414      0.659      0.455      0.183\n",
            "\n",
            "      Epoch    GPU_mem   box_loss   obj_loss   cls_loss  Instances       Size\n",
            "      10/49         0G     0.0621    0.02097          0         26        416: 100% 10/10 [01:26<00:00,  8.69s/it]\n",
            "                 Class     Images  Instances          P          R      mAP50   mAP50-95: 100% 5/5 [00:35<00:00,  7.19s/it]\n",
            "                   all        156        173      0.641      0.723      0.718      0.338\n",
            "\n",
            "      Epoch    GPU_mem   box_loss   obj_loss   cls_loss  Instances       Size\n",
            "      11/49         0G    0.04956    0.02216          0         34        416: 100% 10/10 [01:25<00:00,  8.55s/it]\n",
            "                 Class     Images  Instances          P          R      mAP50   mAP50-95: 100% 5/5 [00:34<00:00,  6.95s/it]\n",
            "                   all        156        173      0.778      0.688      0.764      0.346\n",
            "\n",
            "      Epoch    GPU_mem   box_loss   obj_loss   cls_loss  Instances       Size\n",
            "      12/49         0G    0.05957    0.02182          0         31        416: 100% 10/10 [01:25<00:00,  8.55s/it]\n",
            "                 Class     Images  Instances          P          R      mAP50   mAP50-95: 100% 5/5 [00:34<00:00,  6.93s/it]\n",
            "                   all        156        173      0.615      0.728      0.704      0.302\n",
            "\n",
            "      Epoch    GPU_mem   box_loss   obj_loss   cls_loss  Instances       Size\n",
            "      13/49         0G    0.04869    0.02148          0         27        416: 100% 10/10 [01:25<00:00,  8.59s/it]\n",
            "                 Class     Images  Instances          P          R      mAP50   mAP50-95: 100% 5/5 [00:36<00:00,  7.29s/it]\n",
            "                   all        156        173      0.612      0.721       0.69      0.319\n",
            "\n",
            "      Epoch    GPU_mem   box_loss   obj_loss   cls_loss  Instances       Size\n",
            "      14/49         0G    0.05374    0.01979          0         36        416: 100% 10/10 [01:23<00:00,  8.32s/it]\n",
            "                 Class     Images  Instances          P          R      mAP50   mAP50-95: 100% 5/5 [00:33<00:00,  6.74s/it]\n",
            "                   all        156        173      0.632      0.757      0.709      0.329\n",
            "\n",
            "      Epoch    GPU_mem   box_loss   obj_loss   cls_loss  Instances       Size\n",
            "      15/49         0G    0.04853     0.0199          0         32        416: 100% 10/10 [01:25<00:00,  8.60s/it]\n",
            "                 Class     Images  Instances          P          R      mAP50   mAP50-95: 100% 5/5 [00:31<00:00,  6.40s/it]\n",
            "                   all        156        173      0.546       0.75      0.654      0.336\n",
            "\n",
            "      Epoch    GPU_mem   box_loss   obj_loss   cls_loss  Instances       Size\n",
            "      16/49         0G    0.04731    0.01965          0         38        416: 100% 10/10 [01:25<00:00,  8.58s/it]\n",
            "                 Class     Images  Instances          P          R      mAP50   mAP50-95: 100% 5/5 [00:35<00:00,  7.14s/it]\n",
            "                   all        156        173      0.794      0.821      0.845      0.391\n",
            "\n",
            "      Epoch    GPU_mem   box_loss   obj_loss   cls_loss  Instances       Size\n",
            "      17/49         0G    0.04554    0.01957          0         39        416: 100% 10/10 [01:25<00:00,  8.57s/it]\n",
            "                 Class     Images  Instances          P          R      mAP50   mAP50-95: 100% 5/5 [00:33<00:00,  6.68s/it]\n",
            "                   all        156        173      0.846      0.809      0.881      0.435\n",
            "\n",
            "      Epoch    GPU_mem   box_loss   obj_loss   cls_loss  Instances       Size\n",
            "      18/49         0G    0.04276    0.02003          0         41        416: 100% 10/10 [01:27<00:00,  8.76s/it]\n",
            "                 Class     Images  Instances          P          R      mAP50   mAP50-95: 100% 5/5 [00:34<00:00,  6.89s/it]\n",
            "                   all        156        173      0.659      0.771      0.785      0.435\n",
            "\n",
            "      Epoch    GPU_mem   box_loss   obj_loss   cls_loss  Instances       Size\n",
            "      19/49         0G    0.04415    0.01895          0         35        416: 100% 10/10 [01:23<00:00,  8.39s/it]\n",
            "                 Class     Images  Instances          P          R      mAP50   mAP50-95: 100% 5/5 [00:36<00:00,  7.34s/it]\n",
            "                   all        156        173      0.849      0.845      0.887      0.495\n",
            "\n",
            "      Epoch    GPU_mem   box_loss   obj_loss   cls_loss  Instances       Size\n",
            "      20/49         0G    0.04177    0.01927          0         38        416: 100% 10/10 [01:28<00:00,  8.82s/it]\n",
            "                 Class     Images  Instances          P          R      mAP50   mAP50-95: 100% 5/5 [00:31<00:00,  6.38s/it]\n",
            "                   all        156        173      0.753      0.827      0.849      0.465\n",
            "\n",
            "      Epoch    GPU_mem   box_loss   obj_loss   cls_loss  Instances       Size\n",
            "      21/49         0G    0.04734    0.01837          0         35        416: 100% 10/10 [01:23<00:00,  8.40s/it]\n",
            "                 Class     Images  Instances          P          R      mAP50   mAP50-95: 100% 5/5 [00:37<00:00,  7.42s/it]\n",
            "                   all        156        173      0.877      0.864      0.909      0.476\n",
            "\n",
            "      Epoch    GPU_mem   box_loss   obj_loss   cls_loss  Instances       Size\n",
            "      22/49         0G    0.04368    0.01773          0         40        416: 100% 10/10 [01:23<00:00,  8.34s/it]\n",
            "                 Class     Images  Instances          P          R      mAP50   mAP50-95: 100% 5/5 [00:34<00:00,  6.93s/it]\n",
            "                   all        156        173      0.887      0.904      0.933       0.49\n",
            "\n",
            "      Epoch    GPU_mem   box_loss   obj_loss   cls_loss  Instances       Size\n",
            "      23/49         0G    0.04627    0.01881          0         34        416: 100% 10/10 [01:24<00:00,  8.46s/it]\n",
            "                 Class     Images  Instances          P          R      mAP50   mAP50-95: 100% 5/5 [00:35<00:00,  7.07s/it]\n",
            "                   all        156        173      0.923      0.897      0.947      0.535\n",
            "\n",
            "      Epoch    GPU_mem   box_loss   obj_loss   cls_loss  Instances       Size\n",
            "      24/49         0G     0.0421    0.01871          0         34        416: 100% 10/10 [01:23<00:00,  8.40s/it]\n",
            "                 Class     Images  Instances          P          R      mAP50   mAP50-95: 100% 5/5 [00:35<00:00,  7.06s/it]\n",
            "                   all        156        173      0.957      0.895      0.955      0.521\n",
            "\n",
            "      Epoch    GPU_mem   box_loss   obj_loss   cls_loss  Instances       Size\n",
            "      25/49         0G    0.03794    0.01682          0         31        416: 100% 10/10 [01:25<00:00,  8.53s/it]\n",
            "                 Class     Images  Instances          P          R      mAP50   mAP50-95: 100% 5/5 [00:35<00:00,  7.19s/it]\n",
            "                   all        156        173      0.906      0.948       0.97       0.56\n",
            "\n",
            "      Epoch    GPU_mem   box_loss   obj_loss   cls_loss  Instances       Size\n",
            "      26/49         0G    0.04248    0.01786          0         36        416: 100% 10/10 [01:25<00:00,  8.51s/it]\n",
            "                 Class     Images  Instances          P          R      mAP50   mAP50-95: 100% 5/5 [00:35<00:00,  7.13s/it]\n",
            "                   all        156        173      0.959      0.936      0.966      0.596\n",
            "\n",
            "      Epoch    GPU_mem   box_loss   obj_loss   cls_loss  Instances       Size\n",
            "      27/49         0G    0.03812    0.01868          0         31        416: 100% 10/10 [01:23<00:00,  8.35s/it]\n",
            "                 Class     Images  Instances          P          R      mAP50   mAP50-95: 100% 5/5 [00:35<00:00,  7.19s/it]\n",
            "                   all        156        173      0.958      0.933      0.977      0.646\n",
            "\n",
            "      Epoch    GPU_mem   box_loss   obj_loss   cls_loss  Instances       Size\n",
            "      28/49         0G    0.03537    0.01691          0         33        416: 100% 10/10 [01:24<00:00,  8.47s/it]\n",
            "                 Class     Images  Instances          P          R      mAP50   mAP50-95: 100% 5/5 [00:34<00:00,  6.82s/it]\n",
            "                   all        156        173      0.922      0.958      0.979      0.651\n",
            "\n",
            "      Epoch    GPU_mem   box_loss   obj_loss   cls_loss  Instances       Size\n",
            "      29/49         0G     0.0362    0.01618          0         30        416: 100% 10/10 [01:25<00:00,  8.56s/it]\n",
            "                 Class     Images  Instances          P          R      mAP50   mAP50-95: 100% 5/5 [00:37<00:00,  7.41s/it]\n",
            "                   all        156        173      0.971      0.962      0.983      0.676\n",
            "\n",
            "      Epoch    GPU_mem   box_loss   obj_loss   cls_loss  Instances       Size\n",
            "      30/49         0G    0.03701    0.01708          0         25        416: 100% 10/10 [01:24<00:00,  8.43s/it]\n",
            "                 Class     Images  Instances          P          R      mAP50   mAP50-95: 100% 5/5 [00:31<00:00,  6.27s/it]\n",
            "                   all        156        173       0.97      0.948      0.981      0.677\n",
            "\n",
            "      Epoch    GPU_mem   box_loss   obj_loss   cls_loss  Instances       Size\n",
            "      31/49         0G     0.0335    0.01546          0         29        416: 100% 10/10 [01:28<00:00,  8.80s/it]\n",
            "                 Class     Images  Instances          P          R      mAP50   mAP50-95: 100% 5/5 [00:34<00:00,  6.85s/it]\n",
            "                   all        156        173      0.977       0.96      0.984      0.658\n",
            "\n",
            "      Epoch    GPU_mem   box_loss   obj_loss   cls_loss  Instances       Size\n",
            "      32/49         0G    0.03721    0.01658          0         30        416: 100% 10/10 [01:27<00:00,  8.71s/it]\n",
            "                 Class     Images  Instances          P          R      mAP50   mAP50-95: 100% 5/5 [00:34<00:00,  6.83s/it]\n",
            "                   all        156        173      0.994      0.965      0.987      0.714\n",
            "\n",
            "      Epoch    GPU_mem   box_loss   obj_loss   cls_loss  Instances       Size\n",
            "      33/49         0G    0.03445    0.01516          0         30        416: 100% 10/10 [01:27<00:00,  8.70s/it]\n",
            "                 Class     Images  Instances          P          R      mAP50   mAP50-95: 100% 5/5 [00:34<00:00,  6.84s/it]\n",
            "                   all        156        173      0.982       0.95      0.987      0.693\n",
            "\n",
            "      Epoch    GPU_mem   box_loss   obj_loss   cls_loss  Instances       Size\n",
            "      34/49         0G    0.03582    0.01747          0         29        416: 100% 10/10 [01:25<00:00,  8.54s/it]\n",
            "                 Class     Images  Instances          P          R      mAP50   mAP50-95: 100% 5/5 [00:34<00:00,  6.81s/it]\n",
            "                   all        156        173      0.986       0.96       0.99      0.709\n",
            "\n",
            "      Epoch    GPU_mem   box_loss   obj_loss   cls_loss  Instances       Size\n",
            "      35/49         0G    0.03223    0.01704          0         31        416: 100% 10/10 [01:24<00:00,  8.45s/it]\n",
            "                 Class     Images  Instances          P          R      mAP50   mAP50-95: 100% 5/5 [00:31<00:00,  6.26s/it]\n",
            "                   all        156        173      0.982      0.971      0.992      0.656\n",
            "\n",
            "      Epoch    GPU_mem   box_loss   obj_loss   cls_loss  Instances       Size\n",
            "      36/49         0G    0.03397    0.01659          0         35        416: 100% 10/10 [01:25<00:00,  8.52s/it]\n",
            "                 Class     Images  Instances          P          R      mAP50   mAP50-95: 100% 5/5 [00:35<00:00,  7.06s/it]\n",
            "                   all        156        173      0.985      0.983      0.993      0.715\n",
            "\n",
            "      Epoch    GPU_mem   box_loss   obj_loss   cls_loss  Instances       Size\n",
            "      37/49         0G    0.03382    0.01676          0         35        416: 100% 10/10 [01:23<00:00,  8.35s/it]\n",
            "                 Class     Images  Instances          P          R      mAP50   mAP50-95: 100% 5/5 [00:35<00:00,  7.10s/it]\n",
            "                   all        156        173      0.981      0.977      0.993      0.711\n",
            "\n",
            "      Epoch    GPU_mem   box_loss   obj_loss   cls_loss  Instances       Size\n",
            "      38/49         0G    0.03637    0.01646          0         43        416: 100% 10/10 [01:25<00:00,  8.53s/it]\n",
            "                 Class     Images  Instances          P          R      mAP50   mAP50-95: 100% 5/5 [00:34<00:00,  6.88s/it]\n",
            "                   all        156        173      0.996      0.971      0.994      0.735\n",
            "\n",
            "      Epoch    GPU_mem   box_loss   obj_loss   cls_loss  Instances       Size\n",
            "      39/49         0G    0.03021    0.01553          0         30        416: 100% 10/10 [01:23<00:00,  8.39s/it]\n",
            "                 Class     Images  Instances          P          R      mAP50   mAP50-95: 100% 5/5 [00:32<00:00,  6.50s/it]\n",
            "                   all        156        173       0.97      0.983      0.994      0.762\n",
            "\n",
            "      Epoch    GPU_mem   box_loss   obj_loss   cls_loss  Instances       Size\n",
            "      40/49         0G    0.03005    0.01553          0         33        416: 100% 10/10 [01:24<00:00,  8.45s/it]\n",
            "                 Class     Images  Instances          P          R      mAP50   mAP50-95: 100% 5/5 [00:31<00:00,  6.28s/it]\n",
            "                   all        156        173      0.984      0.983      0.994      0.753\n",
            "\n",
            "      Epoch    GPU_mem   box_loss   obj_loss   cls_loss  Instances       Size\n",
            "      41/49         0G     0.0265     0.0162          0         35        416: 100% 10/10 [01:30<00:00,  9.10s/it]\n",
            "                 Class     Images  Instances          P          R      mAP50   mAP50-95: 100% 5/5 [00:33<00:00,  6.72s/it]\n",
            "                   all        156        173      0.986      0.988      0.995      0.748\n",
            "\n",
            "      Epoch    GPU_mem   box_loss   obj_loss   cls_loss  Instances       Size\n",
            "      42/49         0G     0.0291    0.01644          0         41        416: 100% 10/10 [01:24<00:00,  8.48s/it]\n",
            "                 Class     Images  Instances          P          R      mAP50   mAP50-95: 100% 5/5 [00:34<00:00,  6.82s/it]\n",
            "                   all        156        173      0.981      0.994      0.995      0.744\n",
            "\n",
            "      Epoch    GPU_mem   box_loss   obj_loss   cls_loss  Instances       Size\n",
            "      43/49         0G    0.02487    0.01395          0         29        416: 100% 10/10 [01:25<00:00,  8.50s/it]\n",
            "                 Class     Images  Instances          P          R      mAP50   mAP50-95: 100% 5/5 [00:34<00:00,  6.92s/it]\n",
            "                   all        156        173      0.988      0.987      0.995      0.775\n",
            "\n",
            "      Epoch    GPU_mem   box_loss   obj_loss   cls_loss  Instances       Size\n",
            "      44/49         0G    0.03106    0.01571          0         24        416: 100% 10/10 [01:22<00:00,  8.22s/it]\n",
            "                 Class     Images  Instances          P          R      mAP50   mAP50-95: 100% 5/5 [00:32<00:00,  6.60s/it]\n",
            "                   all        156        173      0.983      0.986      0.994      0.777\n",
            "\n",
            "      Epoch    GPU_mem   box_loss   obj_loss   cls_loss  Instances       Size\n",
            "      45/49         0G    0.03078    0.01505          0         29        416: 100% 10/10 [01:24<00:00,  8.48s/it]\n",
            "                 Class     Images  Instances          P          R      mAP50   mAP50-95: 100% 5/5 [00:34<00:00,  6.98s/it]\n",
            "                   all        156        173          1       0.97      0.995       0.78\n",
            "\n",
            "      Epoch    GPU_mem   box_loss   obj_loss   cls_loss  Instances       Size\n",
            "      46/49         0G    0.03213    0.01595          0         32        416: 100% 10/10 [01:24<00:00,  8.47s/it]\n",
            "                 Class     Images  Instances          P          R      mAP50   mAP50-95: 100% 5/5 [00:42<00:00,  8.45s/it]\n",
            "                   all        156        173      0.973      0.988      0.994      0.777\n",
            "\n",
            "      Epoch    GPU_mem   box_loss   obj_loss   cls_loss  Instances       Size\n",
            "      47/49         0G    0.02552    0.01466          0         30        416: 100% 10/10 [01:24<00:00,  8.41s/it]\n",
            "                 Class     Images  Instances          P          R      mAP50   mAP50-95: 100% 5/5 [00:33<00:00,  6.62s/it]\n",
            "                   all        156        173      0.983      0.982      0.994      0.778\n",
            "\n",
            "      Epoch    GPU_mem   box_loss   obj_loss   cls_loss  Instances       Size\n",
            "      48/49         0G    0.03093    0.01512          0         39        416: 100% 10/10 [01:24<00:00,  8.44s/it]\n",
            "                 Class     Images  Instances          P          R      mAP50   mAP50-95: 100% 5/5 [00:34<00:00,  6.84s/it]\n",
            "                   all        156        173      0.977      0.984      0.994      0.779\n",
            "\n",
            "      Epoch    GPU_mem   box_loss   obj_loss   cls_loss  Instances       Size\n",
            "      49/49         0G    0.02679    0.01298          0         31        416: 100% 10/10 [01:23<00:00,  8.36s/it]\n",
            "                 Class     Images  Instances          P          R      mAP50   mAP50-95: 100% 5/5 [00:32<00:00,  6.45s/it]\n",
            "                   all        156        173       0.97      0.988      0.994       0.78\n",
            "\n",
            "50 epochs completed in 1.692 hours.\n",
            "Optimizer stripped from runs/train/racoon_yolov5s/weights/last.pt, 14.3MB\n",
            "Optimizer stripped from runs/train/racoon_yolov5s/weights/best.pt, 14.3MB\n",
            "\n",
            "Validating runs/train/racoon_yolov5s/weights/best.pt...\n",
            "Fusing layers... \n",
            "YOLOv5s summary: 157 layers, 7012822 parameters, 0 gradients, 15.8 GFLOPs\n",
            "                 Class     Images  Instances          P          R      mAP50   mAP50-95: 100% 5/5 [00:32<00:00,  6.48s/it]\n",
            "                   all        156        173      0.971      0.988      0.994       0.78\n",
            "Results saved to \u001b[1mruns/train/racoon_yolov5s\u001b[0m\n",
            "CPU times: user 45.3 s, sys: 5.1 s, total: 50.4 s\n",
            "Wall time: 1h 42min 42s\n"
          ]
        }
      ]
    },
    {
      "cell_type": "code",
      "source": [
        "# /content/dataset/export/images/raccoon-64_jpg.rf.Mg6mwuhmKMgoUxIlT6jV.jpg\n",
        "import PIL\n",
        "import matplotlib.pyplot as plt\n",
        "\n",
        "image_path = '/content/dataset/test/images/raccoon-58_jpg.rf.ff9de9977475e0086e7ab582122c5167.jpg'\n",
        "image = PIL.Image.open(image_path)\n",
        "plt.imshow(image)\n",
        "plt.show()"
      ],
      "metadata": {
        "colab": {
          "base_uri": "https://localhost:8080/",
          "height": 435
        },
        "id": "0tXr0d5BIxLS",
        "outputId": "4fe13ceb-09f5-4960-db99-42d96ddebc9b"
      },
      "execution_count": 105,
      "outputs": [
        {
          "output_type": "display_data",
          "data": {
            "text/plain": [
              "<Figure size 640x480 with 1 Axes>"
            ],
            "image/png": "[encoded data removed]"
          },
          "metadata": {}
        }
      ]
    },
    {
      "cell_type": "code",
      "source": [
        "!python detect.py  --weights /content/yolov5/runs/train/racoon_yolov5s/weights/best.pt --save-txt --img 416 --conf 0.5 --source \"{image_path}\""
      ],
      "metadata": {
        "colab": {
          "base_uri": "https://localhost:8080/"
        },
        "id": "rKAZdKIMJAOl",
        "outputId": "ae909598-2aad-4f1b-d0af-c3bae29dd617"
      },
      "execution_count": 106,
      "outputs": [
        {
          "output_type": "stream",
          "name": "stdout",
          "text": [
            "\u001b[34m\u001b[1mdetect: \u001b[0mweights=['/content/yolov5/runs/train/racoon_yolov5s/weights/best.pt'], source=/content/dataset/test/images/raccoon-58_jpg.rf.ff9de9977475e0086e7ab582122c5167.jpg, data=data/coco128.yaml, imgsz=[416, 416], conf_thres=0.5, iou_thres=0.45, max_det=1000, device=, view_img=False, save_txt=True, save_conf=False, save_crop=False, nosave=False, classes=None, agnostic_nms=False, augment=False, visualize=False, update=False, project=runs/detect, name=exp, exist_ok=False, line_thickness=3, hide_labels=False, hide_conf=False, half=False, dnn=False, vid_stride=1\n",
            "YOLOv5 🚀 v7.0-193-g485da42 Python-3.10.12 torch-2.0.1+cu118 CPU\n",
            "\n",
            "Fusing layers... \n",
            "YOLOv5s summary: 157 layers, 7012822 parameters, 0 gradients, 15.8 GFLOPs\n",
            "image 1/1 /content/dataset/test/images/raccoon-58_jpg.rf.ff9de9977475e0086e7ab582122c5167.jpg: 416x416 1 raccoon, 160.9ms\n",
            "Speed: 3.4ms pre-process, 160.9ms inference, 1.2ms NMS per image at shape (1, 3, 416, 416)\n",
            "Results saved to \u001b[1mruns/detect/exp\u001b[0m\n",
            "1 labels saved to runs/detect/exp/labels\n"
          ]
        }
      ]
    },
    {
      "cell_type": "code",
      "source": [],
      "metadata": {
        "id": "cUq4suSjRG_l"
      },
      "execution_count": null,
      "outputs": []
    }
  ]
}