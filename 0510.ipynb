{
 "cells": [
  {
   "cell_type": "markdown",
   "id": "8851ac95",
   "metadata": {},
   "source": [
    "# 1."
   ]
  },
  {
   "cell_type": "code",
   "execution_count": 2,
   "id": "5a4be4e7",
   "metadata": {},
   "outputs": [
    {
     "data": {
      "text/plain": [
       "['abc1Ad', 'dfggg4', '556b']"
      ]
     },
     "execution_count": 2,
     "metadata": {},
     "output_type": "execute_result"
    }
   ],
   "source": [
    "def solution(my_str, n):\n",
    "    answer = []\n",
    "    a = ''\n",
    "    for i in range(len(my_str)):\n",
    "        a += my_str[i]\n",
    "        if i == len(my_str)-1:\n",
    "            answer.append(a)\n",
    "        elif (i+1)%n == 0 and (i+1)//n >0:\n",
    "            answer.append(a)\n",
    "            a = ''\n",
    "    return answer\n",
    "solution(\"abc1Addfggg4556b\", 6)"
   ]
  },
  {
   "cell_type": "markdown",
   "id": "a8e72e5b",
   "metadata": {},
   "source": [
    "# 2."
   ]
  },
  {
   "cell_type": "code",
   "execution_count": 22,
   "id": "7bc34230",
   "metadata": {},
   "outputs": [
    {
     "data": {
      "text/plain": [
       "18"
      ]
     },
     "execution_count": 22,
     "metadata": {},
     "output_type": "execute_result"
    }
   ],
   "source": [
    "def solution(my_string):\n",
    "    a = []\n",
    "    m = my_string.split()\n",
    "    for i in m:\n",
    "        if i == '+':\n",
    "            a.append(i)\n",
    "        elif i == '-':\n",
    "            a.append(i)\n",
    "        else:\n",
    "            i = int(i)\n",
    "            a.append(i)\n",
    "    answer = a[0]\n",
    "    for i in range(1,len(a)):\n",
    "        if a[i] == '+':\n",
    "            answer = answer + a[i+1]\n",
    "        elif a[i] == '-':\n",
    "            answer = answer - a[i+1]\n",
    "    return answer\n",
    "solution('31 + 1 - 14')"
   ]
  },
  {
   "cell_type": "markdown",
   "id": "228b8e80",
   "metadata": {},
   "source": [
    "# 3."
   ]
  },
  {
   "cell_type": "code",
   "execution_count": null,
   "id": "a607a61f",
   "metadata": {},
   "outputs": [],
   "source": []
  }
 ],
 "metadata": {
  "kernelspec": {
   "display_name": "myenv",
   "language": "python",
   "name": "myenv"
  },
  "language_info": {
   "codemirror_mode": {
    "name": "ipython",
    "version": 3
   },
   "file_extension": ".py",
   "mimetype": "text/x-python",
   "name": "python",
   "nbconvert_exporter": "python",
   "pygments_lexer": "ipython3",
   "version": "3.9.7"
  }
 },
 "nbformat": 4,
 "nbformat_minor": 5
}
