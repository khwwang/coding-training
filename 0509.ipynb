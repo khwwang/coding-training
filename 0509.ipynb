{
 "cells": [
  {
   "cell_type": "markdown",
   "id": "6a0602b2",
   "metadata": {},
   "source": [
    "# 1."
   ]
  },
  {
   "cell_type": "code",
   "execution_count": 3,
   "id": "5bc31704",
   "metadata": {},
   "outputs": [
    {
     "data": {
      "text/plain": [
       "5"
      ]
     },
     "execution_count": 3,
     "metadata": {},
     "output_type": "execute_result"
    }
   ],
   "source": [
    "def solution(i, j, k):\n",
    "    answer = 0\n",
    "    for a in range(i,j+1):\n",
    "        for b in str(a):\n",
    "            if b == str(k):\n",
    "                answer += 1\n",
    "    return answer\n",
    "solution(10,50,5)"
   ]
  },
  {
   "cell_type": "markdown",
   "id": "5fbc82e1",
   "metadata": {},
   "source": [
    "# 2."
   ]
  },
  {
   "cell_type": "code",
   "execution_count": 7,
   "id": "bc7ba4c3",
   "metadata": {},
   "outputs": [
    {
     "name": "stdout",
     "output_type": "stream",
     "text": [
      "3\n",
      "10\n",
      "28\n"
     ]
    }
   ],
   "source": [
    "a = [3, 10, 28]\n",
    "for i in a:\n",
    "    print(i)"
   ]
  },
  {
   "cell_type": "markdown",
   "id": "70ec2526",
   "metadata": {},
   "source": [
    "# 3."
   ]
  },
  {
   "cell_type": "code",
   "execution_count": 10,
   "id": "b3aff469",
   "metadata": {},
   "outputs": [
    {
     "data": {
      "text/plain": [
       "12"
      ]
     },
     "execution_count": 10,
     "metadata": {},
     "output_type": "execute_result"
    }
   ],
   "source": [
    "def solution(array, n):\n",
    "    answer = []\n",
    "    for i in array:\n",
    "        if n - i <0:\n",
    "            a = i-n\n",
    "        else:\n",
    "            a = n-i\n",
    "        answer.append((a,i))\n",
    "    answer.sort()\n",
    "    return answer[0][1]\n",
    "solution([10, 11, 12], 13)"
   ]
  },
  {
   "cell_type": "markdown",
   "id": "92536b3b",
   "metadata": {},
   "source": [
    "# 4."
   ]
  },
  {
   "cell_type": "code",
   "execution_count": 14,
   "id": "2f47346b",
   "metadata": {},
   "outputs": [
    {
     "data": {
      "text/plain": [
       "[2, 4, 3, 5, 1]"
      ]
     },
     "execution_count": 14,
     "metadata": {},
     "output_type": "execute_result"
    }
   ],
   "source": [
    "def solution(emergency):\n",
    "    answer = []\n",
    "    k = emergency.copy()\n",
    "    for i in emergency:\n",
    "        k.sort(reverse=True)\n",
    "        answer.append(k.index(i)+1)\n",
    "    return answer\n",
    "solution([30, 10, 23, 6, 100])"
   ]
  },
  {
   "cell_type": "markdown",
   "id": "4ef8ee66",
   "metadata": {},
   "source": [
    "# 5."
   ]
  },
  {
   "cell_type": "code",
   "execution_count": 30,
   "id": "8dcaf749",
   "metadata": {},
   "outputs": [],
   "source": [
    "def solution(my_string):\n",
    "    n = ['1','2','3','4','5','6','7','8','9']\n",
    "    answer = []\n",
    "    a = ''\n",
    "    b = []\n",
    "    k = 0\n",
    "    for i in range(len(my_string)):\n",
    "        if my_string[i] in n:\n",
    "            answer.append((i,my_string[i]))\n",
    "    for i in range(len(answer)-1):\n",
    "        if int(answer[i+1][0]) -int(answer[i][0]) ==1:\n",
    "            a += answer[i][1]\n",
    "        else:\n",
    "            b.append(answer[i][1])\n",
    "    for i in b:\n",
    "        k += int(i)\n",
    "    return k + int(a)"
   ]
  },
  {
   "cell_type": "code",
   "execution_count": 23,
   "id": "80dd039b",
   "metadata": {},
   "outputs": [
    {
     "data": {
      "text/plain": [
       "37"
      ]
     },
     "execution_count": 23,
     "metadata": {},
     "output_type": "execute_result"
    }
   ],
   "source": [
    "def solution(my_string):\n",
    "    sum_of_numbers = 0\n",
    "    current_number = ''\n",
    "    for char in my_string:\n",
    "        if char.isdigit():\n",
    "            current_number += char\n",
    "        else:\n",
    "            if current_number != '':\n",
    "                sum_of_numbers += int(current_number)\n",
    "                current_number = ''\n",
    "    if current_number != '':\n",
    "        sum_of_numbers += int(current_number)\n",
    "    return sum_of_numbers\n",
    "solution(\"aAb1B2cC34oOp\")"
   ]
  },
  {
   "cell_type": "markdown",
   "id": "ffd8e7c2",
   "metadata": {},
   "source": [
    "# 6."
   ]
  },
  {
   "cell_type": "code",
   "execution_count": 31,
   "id": "0840b93d",
   "metadata": {},
   "outputs": [],
   "source": [
    "def solution(s):\n",
    "    answer = ''\n",
    "    k = ''\n",
    "    for i in s:\n",
    "        if i not in answer:\n",
    "            answer += i\n",
    "        else:\n",
    "            answer -= i\n",
    "    a = sorted(answer)\n",
    "    for i in a:\n",
    "        k += i\n",
    "    return k"
   ]
  },
  {
   "cell_type": "code",
   "execution_count": 29,
   "id": "17797795",
   "metadata": {},
   "outputs": [
    {
     "data": {
      "text/plain": [
       "'d'"
      ]
     },
     "execution_count": 29,
     "metadata": {},
     "output_type": "execute_result"
    }
   ],
   "source": [
    "def solution(s):\n",
    "    answer = []\n",
    "    for i in set(s):\n",
    "        if s.count(i) == 1:\n",
    "            answer.append(i)\n",
    "    answer.sort()\n",
    "    return ''.join(answer)\n",
    "solution(\"abcabcadc\")"
   ]
  },
  {
   "cell_type": "markdown",
   "id": "4ef803e4",
   "metadata": {},
   "source": [
    "# 7."
   ]
  },
  {
   "cell_type": "code",
   "execution_count": 14,
   "id": "5585f2b8",
   "metadata": {},
   "outputs": [
    {
     "data": {
      "text/plain": [
       "[2, 3]"
      ]
     },
     "execution_count": 14,
     "metadata": {},
     "output_type": "execute_result"
    }
   ],
   "source": [
    "def solution(n):\n",
    "    ans = []\n",
    "    a = []\n",
    "    for i in range(2,n+1):\n",
    "        if n%i == 0: #n의 1을 제외한 약수들\n",
    "            ans.append(i)\n",
    "    for k in ans:\n",
    "        answer = []\n",
    "        for j in range(1,k+1):# 약수들중에 약수가 자기밖에 없는 소수만\n",
    "            if k%j ==0:\n",
    "                answer.append(j)\n",
    "        if len(answer) == 2: #약수가 1과 자신뿐 2개\n",
    "            a.append(k)\n",
    "    return a\n",
    "solution(12)"
   ]
  },
  {
   "cell_type": "markdown",
   "id": "863492f7",
   "metadata": {},
   "source": [
    "# 8."
   ]
  },
  {
   "cell_type": "code",
   "execution_count": 15,
   "id": "c0fcfcec",
   "metadata": {},
   "outputs": [
    {
     "data": {
      "text/plain": [
       "2"
      ]
     },
     "execution_count": 15,
     "metadata": {},
     "output_type": "execute_result"
    }
   ],
   "source": [
    "def solution(numbers, k):\n",
    "    answer = 0\n",
    "    for i in range(1,k):\n",
    "        answer += 2\n",
    "        if len(numbers) < answer:\n",
    "            answer -= len(numbers)\n",
    "    return numbers[answer]\n",
    "solution([1, 2, 3],3)"
   ]
  },
  {
   "cell_type": "markdown",
   "id": "0e1d50f5",
   "metadata": {},
   "source": [
    "# 9."
   ]
  },
  {
   "cell_type": "code",
   "execution_count": 16,
   "id": "9bd6c664",
   "metadata": {},
   "outputs": [
    {
     "data": {
      "text/plain": [
       "4"
      ]
     },
     "execution_count": 16,
     "metadata": {},
     "output_type": "execute_result"
    }
   ],
   "source": [
    "def solution(array):\n",
    "    answer = 0\n",
    "    for i in array:\n",
    "        for k in str(i):\n",
    "            if k == '7':\n",
    "                answer += 1\n",
    "    return answer\n",
    "solution([7, 77, 17])"
   ]
  },
  {
   "cell_type": "markdown",
   "id": "87798341",
   "metadata": {},
   "source": [
    "# 10."
   ]
  },
  {
   "cell_type": "code",
   "execution_count": 21,
   "id": "2eb0f8d4",
   "metadata": {},
   "outputs": [
    {
     "data": {
      "text/plain": [
       "14067"
      ]
     },
     "execution_count": 21,
     "metadata": {},
     "output_type": "execute_result"
    }
   ],
   "source": [
    "def solution(numbers):\n",
    "    answer = ''\n",
    "    a = ''\n",
    "    number = {\"zero\":'0', \"one\":'1', \"two\":'2', \"three\":'3', \"four\":'4', \"five\":'5', \"six\":'6', \"seven\":'7', \"eight\":'8', \"nine\":'9'}\n",
    "    for i in numbers:\n",
    "        a += i\n",
    "        if a in number:\n",
    "            answer += number[a]\n",
    "            a = ''\n",
    "    return int(answer)\n",
    "solution(\"onefourzerosixseven\")"
   ]
  }
 ],
 "metadata": {
  "kernelspec": {
   "display_name": "myenv",
   "language": "python",
   "name": "myenv"
  },
  "language_info": {
   "codemirror_mode": {
    "name": "ipython",
    "version": 3
   },
   "file_extension": ".py",
   "mimetype": "text/x-python",
   "name": "python",
   "nbconvert_exporter": "python",
   "pygments_lexer": "ipython3",
   "version": "3.9.7"
  }
 },
 "nbformat": 4,
 "nbformat_minor": 5
}
