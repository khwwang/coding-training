{
 "cells": [
  {
   "cell_type": "markdown",
   "id": "0245e6c4",
   "metadata": {},
   "source": [
    "# 1."
   ]
  },
  {
   "cell_type": "code",
   "execution_count": 1,
   "id": "aad79385",
   "metadata": {},
   "outputs": [
    {
     "data": {
      "text/plain": [
       "[1, 2, 3, 4, 6, 8, 12, 24]"
      ]
     },
     "execution_count": 1,
     "metadata": {},
     "output_type": "execute_result"
    }
   ],
   "source": [
    "def solution(n):\n",
    "    answer = []\n",
    "    for i in range(1,n+1):\n",
    "        if n%i == 0:\n",
    "            answer.append(i)\n",
    "    return answer\n",
    "solution(24)"
   ]
  },
  {
   "cell_type": "markdown",
   "id": "03531a21",
   "metadata": {},
   "source": [
    "# 2."
   ]
  },
  {
   "cell_type": "code",
   "execution_count": 4,
   "id": "4766f2ca",
   "metadata": {},
   "outputs": [
    {
     "data": {
      "text/plain": [
       "4"
      ]
     },
     "execution_count": 4,
     "metadata": {},
     "output_type": "execute_result"
    }
   ],
   "source": [
    "def solution(num, k):\n",
    "    answer = 0\n",
    "    for i in str(num):\n",
    "        if i == str(k):\n",
    "            return str(num).index(i)+1\n",
    "        else:\n",
    "            answer = -1\n",
    "    return answer\n",
    "solution(232443, 4)"
   ]
  },
  {
   "cell_type": "markdown",
   "id": "a263d893",
   "metadata": {},
   "source": [
    "# 3."
   ]
  },
  {
   "cell_type": "code",
   "execution_count": 4,
   "id": "9ed057ee",
   "metadata": {},
   "outputs": [
    {
     "data": {
      "text/plain": [
       "8"
      ]
     },
     "execution_count": 4,
     "metadata": {},
     "output_type": "execute_result"
    }
   ],
   "source": [
    "def solution(n):\n",
    "    answer = 0\n",
    "    for i in range(1,n+1):\n",
    "        k = 0\n",
    "        for j in range(1,i+1):\n",
    "            if i%j == 0:\n",
    "                k += 1\n",
    "        if k >= 3:\n",
    "            answer += 1\n",
    "    return answer\n",
    "solution(15)"
   ]
  },
  {
   "cell_type": "markdown",
   "id": "54d93536",
   "metadata": {},
   "source": [
    "# 4."
   ]
  },
  {
   "cell_type": "code",
   "execution_count": 5,
   "id": "87d22734",
   "metadata": {},
   "outputs": [
    {
     "data": {
      "text/plain": [
       "'abcd'"
      ]
     },
     "execution_count": 5,
     "metadata": {},
     "output_type": "execute_result"
    }
   ],
   "source": [
    "def solution(my_string):\n",
    "    answer = ''\n",
    "    s = my_string.lower()\n",
    "    for i in sorted(s):\n",
    "        answer += i\n",
    "    return answer\n",
    "solution(\"Bcad\")"
   ]
  },
  {
   "cell_type": "markdown",
   "id": "99d816be",
   "metadata": {},
   "source": [
    "# 5."
   ]
  },
  {
   "cell_type": "code",
   "execution_count": 6,
   "id": "53398598",
   "metadata": {},
   "outputs": [
    {
     "data": {
      "text/plain": [
       "'peol'"
      ]
     },
     "execution_count": 6,
     "metadata": {},
     "output_type": "execute_result"
    }
   ],
   "source": [
    "def solution(my_string):\n",
    "    answer = ''\n",
    "    for i in my_string:\n",
    "        if i not in answer:\n",
    "            answer += i\n",
    "    return answer\n",
    "solution('people')"
   ]
  },
  {
   "cell_type": "markdown",
   "id": "f75bcbb3",
   "metadata": {},
   "source": [
    "# 6."
   ]
  },
  {
   "cell_type": "code",
   "execution_count": 9,
   "id": "f7b8a8b5",
   "metadata": {},
   "outputs": [
    {
     "data": {
      "text/plain": [
       "'python'"
      ]
     },
     "execution_count": 9,
     "metadata": {},
     "output_type": "execute_result"
    }
   ],
   "source": [
    "def solution(letter):\n",
    "    answer = ''\n",
    "    morse = { \n",
    "    '.-':'a','-...':'b','-.-.':'c','-..':'d','.':'e','..-.':'f',\n",
    "    '--.':'g','....':'h','..':'i','.---':'j','-.-':'k','.-..':'l',\n",
    "    '--':'m','-.':'n','---':'o','.--.':'p','--.-':'q','.-.':'r',\n",
    "    '...':'s','-':'t','..-':'u','...-':'v','.--':'w','-..-':'x',\n",
    "    '-.--':'y','--..':'z'\n",
    "}\n",
    "    le = letter.split()\n",
    "    for i in le:\n",
    "        for m in morse:\n",
    "            if i == m:\n",
    "                answer += morse[m]\n",
    "    return answer\n",
    "solution(\".--. -.-- - .... --- -.\")"
   ]
  },
  {
   "cell_type": "markdown",
   "id": "f6171bfd",
   "metadata": {},
   "source": [
    "# 7."
   ]
  },
  {
   "cell_type": "code",
   "execution_count": 11,
   "id": "c18db5f6",
   "metadata": {},
   "outputs": [
    {
     "data": {
      "text/plain": [
       "0"
      ]
     },
     "execution_count": 11,
     "metadata": {},
     "output_type": "execute_result"
    }
   ],
   "source": [
    "def solution(before, after):\n",
    "    a = sorted(after)\n",
    "    b = sorted(before)\n",
    "    if a == b:\n",
    "        return 1\n",
    "    else:\n",
    "        return 0\n",
    "solution(\"allpe\", \"apple\")"
   ]
  },
  {
   "cell_type": "markdown",
   "id": "81be91e9",
   "metadata": {},
   "source": [
    "# 8."
   ]
  },
  {
   "cell_type": "code",
   "execution_count": 13,
   "id": "ed3c2c54",
   "metadata": {},
   "outputs": [
    {
     "data": {
      "text/plain": [
       "[[100, 95, 2], [4, 5, 6], [18, 33, 948]]"
      ]
     },
     "execution_count": 13,
     "metadata": {},
     "output_type": "execute_result"
    }
   ],
   "source": [
    "def solution(num_list, n):\n",
    "    answer = []\n",
    "    for i in range(0, len(num_list), n):\n",
    "        answer.append(num_list[i:i+n])\n",
    "    return answer\n",
    "solution([100, 95, 2, 4, 5, 6, 18, 33, 948], 3)"
   ]
  },
  {
   "cell_type": "markdown",
   "id": "e6a90357",
   "metadata": {},
   "source": [
    "# 9."
   ]
  },
  {
   "cell_type": "code",
   "execution_count": 15,
   "id": "c7687f8b",
   "metadata": {},
   "outputs": [
    {
     "data": {
      "text/plain": [
       "10"
      ]
     },
     "execution_count": 15,
     "metadata": {},
     "output_type": "execute_result"
    }
   ],
   "source": [
    "def solution(n):\n",
    "    answer = 1\n",
    "    k = 1\n",
    "    while n >= k:\n",
    "        answer += 1\n",
    "        k *= answer\n",
    "    return answer - 1\n",
    "solution(3628800)"
   ]
  }
 ],
 "metadata": {
  "kernelspec": {
   "display_name": "myenv",
   "language": "python",
   "name": "myenv"
  },
  "language_info": {
   "codemirror_mode": {
    "name": "ipython",
    "version": 3
   },
   "file_extension": ".py",
   "mimetype": "text/x-python",
   "name": "python",
   "nbconvert_exporter": "python",
   "pygments_lexer": "ipython3",
   "version": "3.9.7"
  }
 },
 "nbformat": 4,
 "nbformat_minor": 5
}
