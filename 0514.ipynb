{
 "cells": [
  {
   "cell_type": "markdown",
   "id": "f81a023b",
   "metadata": {},
   "source": [
    "# 1."
   ]
  },
  {
   "cell_type": "code",
   "execution_count": 1,
   "id": "2e32eb92",
   "metadata": {},
   "outputs": [
    {
     "data": {
      "text/plain": [
       "3"
      ]
     },
     "execution_count": 1,
     "metadata": {},
     "output_type": "execute_result"
    }
   ],
   "source": [
    "def solution(array):\n",
    "    answer = []\n",
    "    a= []\n",
    "    for i in array:\n",
    "        answer.append(array.count(i))#answer은 값이 나온 횟수\n",
    "    for i in range(len(answer)):\n",
    "        if answer[i] == max(answer):\n",
    "            a.append(i)#최빈값이 있는 인덱스\n",
    "    if max(answer) != len(a):\n",
    "        return -1\n",
    "    else:\n",
    "        return max(answer)\n",
    "solution([1, 2, 3, 3, 3, 4])"
   ]
  },
  {
   "cell_type": "markdown",
   "id": "4f39684c",
   "metadata": {},
   "source": [
    "# 2."
   ]
  },
  {
   "cell_type": "code",
   "execution_count": 4,
   "id": "6c092439",
   "metadata": {},
   "outputs": [
    {
     "data": {
      "text/plain": [
       "['O', 'O', 'X', 'O']"
      ]
     },
     "execution_count": 4,
     "metadata": {},
     "output_type": "execute_result"
    }
   ],
   "source": [
    "def solution(quiz):\n",
    "    answer = []\n",
    "    for i in quiz:\n",
    "        j = i.split()\n",
    "        if j[1] == '+':\n",
    "            if int(j[0]) + int(j[2]) == int(j[4]):\n",
    "                answer.append('O')\n",
    "            else:\n",
    "                answer.append('X')\n",
    "        if j[1] == '-':\n",
    "            if int(j[0]) - int(j[2]) == int(j[4]):\n",
    "                answer.append('O')\n",
    "            else:\n",
    "                answer.append('X')\n",
    "    return answer\n",
    "solution([\"19 - 6 = 13\", \"5 + 66 = 71\", \"5 - 15 = 63\", \"3 - 1 = 2\"])"
   ]
  },
  {
   "cell_type": "markdown",
   "id": "96dce166",
   "metadata": {},
   "source": [
    "# 3."
   ]
  },
  {
   "cell_type": "code",
   "execution_count": 7,
   "id": "ce0095ab",
   "metadata": {},
   "outputs": [
    {
     "data": {
      "text/plain": [
       "[5.0, 4.0]"
      ]
     },
     "execution_count": 7,
     "metadata": {},
     "output_type": "execute_result"
    }
   ],
   "source": [
    "def solution(number1, denom1, number2, denom2):\n",
    "    answer = []\n",
    "    a = denom1 * denom2 #분모는 각각의 곱이다\n",
    "    b = denom2*number1 +denom1*number2 #분자는 서로의 분모와 분자의 합이다\n",
    "    a1 = []#a의 약수 모음\n",
    "    b1 = []#b의 약수 모음\n",
    "    c = []#a와 b의 공약수\n",
    "    for i in range(1,a+1):#약수찾기\n",
    "        if a%i == 0:\n",
    "            a1.append(i)\n",
    "    for i in range(1,b+1):\n",
    "        if b%i == 0:\n",
    "            b1.append(i)\n",
    "    for i in a1:\n",
    "        if i in b1:\n",
    "            c.append(i)\n",
    "    answer.append(b/max(c))#분자 먼저\n",
    "    answer.append(a/max(c))\n",
    "    return answer\n",
    "solution(1,2,3,4)"
   ]
  },
  {
   "cell_type": "markdown",
   "id": "7f841385",
   "metadata": {},
   "source": [
    "# 4."
   ]
  },
  {
   "cell_type": "code",
   "execution_count": 8,
   "id": "8d08c142",
   "metadata": {},
   "outputs": [
    {
     "data": {
      "text/plain": [
       "16.0"
      ]
     },
     "execution_count": 8,
     "metadata": {},
     "output_type": "execute_result"
    }
   ],
   "source": [
    "def solution(common):\n",
    "    answer = 0\n",
    "    if common[1] - common[0] == common[2] - common[1]:\n",
    "        return common[len(common)-1] + (common[1] - common[0])\n",
    "    else:\n",
    "        return common[len(common)-1] * (common[1] / common[0])\n",
    "solution([2, 4, 8])"
   ]
  },
  {
   "cell_type": "markdown",
   "id": "6540f46f",
   "metadata": {},
   "source": [
    "# 5."
   ]
  },
  {
   "cell_type": "code",
   "execution_count": 9,
   "id": "d0a87a5f",
   "metadata": {},
   "outputs": [
    {
     "data": {
      "text/plain": [
       "[2, 3, 4, 5]"
      ]
     },
     "execution_count": 9,
     "metadata": {},
     "output_type": "execute_result"
    }
   ],
   "source": [
    "def solution(num, total):\n",
    "    answer = []\n",
    "    if num%2 == 0:#num이 짝수일때\n",
    "        for i in range(1,num+1):\n",
    "            answer.append(total//num - num//2 + i)\n",
    "    else:#num이 홀수일때\n",
    "        for i in range(num):\n",
    "            answer.append(total//num - num//2 + i)\n",
    "    return answer\n",
    "solution(4,14)"
   ]
  }
 ],
 "metadata": {
  "kernelspec": {
   "display_name": "myenv",
   "language": "python",
   "name": "myenv"
  },
  "language_info": {
   "codemirror_mode": {
    "name": "ipython",
    "version": 3
   },
   "file_extension": ".py",
   "mimetype": "text/x-python",
   "name": "python",
   "nbconvert_exporter": "python",
   "pygments_lexer": "ipython3",
   "version": "3.9.7"
  }
 },
 "nbformat": 4,
 "nbformat_minor": 5
}
