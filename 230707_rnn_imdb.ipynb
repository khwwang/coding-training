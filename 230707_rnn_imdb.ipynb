{
  "nbformat": 4,
  "nbformat_minor": 0,
  "metadata": {
    "colab": {
      "provenance": [],
      "authorship_tag": "ABX9TyPUD5IJUspjfRPfMnoMRAsh",
      "include_colab_link": true
    },
    "kernelspec": {
      "name": "python3",
      "display_name": "Python 3"
    },
    "language_info": {
      "name": "python"
    }
  },
  "cells": [
    {
      "cell_type": "markdown",
      "metadata": {
        "id": "view-in-github",
        "colab_type": "text"
      },
      "source": [
        "<a href=\"https://colab.research.google.com/github/khwwang/coding-training/blob/master/230707_rnn_imdb.ipynb\" target=\"_parent\"><img src=\"https://colab.research.google.com/assets/colab-badge.svg\" alt=\"Open In Colab\"/></a>"
      ]
    },
    {
      "cell_type": "markdown",
      "source": [
        "# IMDB 긍정/부정 분류"
      ],
      "metadata": {
        "id": "yg52MdMkEuQ6"
      }
    },
    {
      "cell_type": "code",
      "execution_count": 1,
      "metadata": {
        "id": "KFd2Pfc2El7r"
      },
      "outputs": [],
      "source": [
        "import seaborn as sns\n",
        "import numpy as np\n",
        "import pandas as pd\n",
        "import matplotlib.pyplot as plt\n",
        "import tensorflow as tf\n",
        "from tensorflow import keras\n",
        "from keras import layers\n",
        "from keras.models import Sequential\n",
        "from keras.layers import Conv2D, MaxPooling2D, Flatten, Dense, Dropout\n",
        "from keras.optimizers import Adam\n",
        "from keras.callbacks import EarlyStopping, ModelCheckpoint"
      ]
    },
    {
      "cell_type": "code",
      "source": [
        "from tensorflow.keras.datasets import imdb\n",
        "\n",
        "(train_input, train_target), (_,_) = imdb.load_data(num_words=500)"
      ],
      "metadata": {
        "id": "TxjOVHGcEymC"
      },
      "execution_count": 2,
      "outputs": []
    },
    {
      "cell_type": "code",
      "source": [
        "train_input.shape, train_target.shape"
      ],
      "metadata": {
        "colab": {
          "base_uri": "https://localhost:8080/"
        },
        "id": "4FdV9g4HF13d",
        "outputId": "a750c31c-33df-4d36-a79e-bf608ea13c75"
      },
      "execution_count": 3,
      "outputs": [
        {
          "output_type": "execute_result",
          "data": {
            "text/plain": [
              "((25000,), (25000,))"
            ]
          },
          "metadata": {},
          "execution_count": 3
        }
      ]
    },
    {
      "cell_type": "code",
      "source": [
        "from sklearn.model_selection import train_test_split\n",
        "\n",
        "train_input, test_input, train_target, test_target = train_test_split(train_input, train_target, test_size=0.2)"
      ],
      "metadata": {
        "id": "neiAY2oFF2CI"
      },
      "execution_count": 4,
      "outputs": []
    },
    {
      "cell_type": "code",
      "source": [
        "train_input.shape, test_input.shape, train_target.shape, test_target.shape"
      ],
      "metadata": {
        "colab": {
          "base_uri": "https://localhost:8080/"
        },
        "id": "I5xEDzq5GaTY",
        "outputId": "42531125-d0fe-4c50-9141-e2b553f6f737"
      },
      "execution_count": 5,
      "outputs": [
        {
          "output_type": "execute_result",
          "data": {
            "text/plain": [
              "((20000,), (5000,), (20000,), (5000,))"
            ]
          },
          "metadata": {},
          "execution_count": 5
        }
      ]
    },
    {
      "cell_type": "code",
      "source": [
        "np.array(train_input[0])"
      ],
      "metadata": {
        "colab": {
          "base_uri": "https://localhost:8080/"
        },
        "id": "SUXLa1w0Jz8k",
        "outputId": "b9926250-0ff7-40df-9672-0b1ccb5d63d4"
      },
      "execution_count": 6,
      "outputs": [
        {
          "output_type": "execute_result",
          "data": {
            "text/plain": [
              "array([  1,   6,   2,   2, 346,   2,  10,  10,  12,  70,  79,   2,   2,\n",
              "        33,   2,   2,   2,  54,   4,   2,   2,   7,   2,   2, 325,   2,\n",
              "       216,  11,  18,  68,   2,   2,   2,  10,  10,  14,   2, 117,  22,\n",
              "         6,   2,   7,   2, 102,   2,   6, 171,   2,  21, 117, 334,   2,\n",
              "         2,   2,   2,  70,   2,   8,   2,  11,   6, 346,  58,   2,   2,\n",
              "       395,   6,   2,   2,   2,   2,   2,   2,  76,   8,  81,  11,  14,\n",
              "         2,   2, 239,   2,   4, 147,   2,   7,   2,   2,  54,   6, 171,\n",
              "         7,   4,   2,   2,  79,  73, 371,   2,  19,   2,  10,  10, 400,\n",
              "         2,  42,   2,   2,   4,  31,   5, 107,   2, 346,   2,  71,   2,\n",
              "         8,   4,   2,  17,   2,   2,   2,  18, 162,  42,   2,   2, 199,\n",
              "        11,   2, 496,   4, 370,   4,   2,  18,   2,   6,   2, 346,   2,\n",
              "        16, 340, 275,  39,  15,   7,   6,   2,   2,  22, 142,   2,   8,\n",
              "       487,   6,   2, 346,  65, 247,  74,   6,   2,   2,   8,   2,  11,\n",
              "         2,   7, 199, 352,   2,   5,   2,   7,   2,   6,   2,   2,   7,\n",
              "         2, 346,   2,  71,   4, 404,   2,   8,   4,   2,   2, 108])"
            ]
          },
          "metadata": {},
          "execution_count": 6
        }
      ]
    },
    {
      "cell_type": "code",
      "source": [
        "review_len=np.array([len(x) for x in train_input])\n",
        "review_len[:20]"
      ],
      "metadata": {
        "colab": {
          "base_uri": "https://localhost:8080/"
        },
        "id": "ueGddRvdNXOE",
        "outputId": "31516a3b-eb2d-428e-8855-17e588d9c80c"
      },
      "execution_count": 8,
      "outputs": [
        {
          "output_type": "execute_result",
          "data": {
            "text/plain": [
              "array([194, 674, 109, 145, 279, 399, 184, 246, 256, 124, 188, 297,  26,\n",
              "       313,  78, 190,  60, 139, 190,  41])"
            ]
          },
          "metadata": {},
          "execution_count": 8
        }
      ]
    },
    {
      "cell_type": "code",
      "source": [
        "plt.hist(review_len)\n",
        "plt.xlabel('len')\n",
        "plt.ylabel('count')\n",
        "plt.show()"
      ],
      "metadata": {
        "colab": {
          "base_uri": "https://localhost:8080/",
          "height": 449
        },
        "id": "SEGAG1ciLoxH",
        "outputId": "d69038b6-1b00-489b-afc9-9ef93f7b8750"
      },
      "execution_count": 9,
      "outputs": [
        {
          "output_type": "display_data",
          "data": {
            "text/plain": [
              "<Figure size 640x480 with 1 Axes>"
            ],
            "image/png": "[encoded data removed]"
          },
          "metadata": {}
        }
      ]
    },
    {
      "cell_type": "code",
      "source": [
        "from tensorflow.keras.preprocessing.sequence import pad_sequences\n",
        "\n",
        "train_seq = pad_sequences(train_input, maxlen=200, padding='pre')\n",
        "train_seq.shape"
      ],
      "metadata": {
        "colab": {
          "base_uri": "https://localhost:8080/"
        },
        "id": "2iPhKXpSLc39",
        "outputId": "ecc3a0ab-46ea-4395-9290-6d3de382e57b"
      },
      "execution_count": 10,
      "outputs": [
        {
          "output_type": "execute_result",
          "data": {
            "text/plain": [
              "(20000, 200)"
            ]
          },
          "metadata": {},
          "execution_count": 10
        }
      ]
    },
    {
      "cell_type": "code",
      "source": [
        "from tensorflow.keras.utils import to_categorical\n",
        "train_oh = to_categorical(train_seq)\n",
        "train_oh.shape"
      ],
      "metadata": {
        "colab": {
          "base_uri": "https://localhost:8080/"
        },
        "id": "x5LMdeYeMhRW",
        "outputId": "888f2339-5796-4829-a9aa-2c9867e125ce"
      },
      "execution_count": 11,
      "outputs": [
        {
          "output_type": "execute_result",
          "data": {
            "text/plain": [
              "(20000, 200, 500)"
            ]
          },
          "metadata": {},
          "execution_count": 11
        }
      ]
    },
    {
      "cell_type": "code",
      "source": [
        "from keras import layers\n",
        "\n",
        "model = keras.Sequential()\n",
        "model.add(layers.LSTM(32, activation='tanh', return_sequences=True, input_shape=(200,500)))\n",
        "model.add(layers.LSTM(32, activation='tanh'))\n",
        "model.add(layers.Dense(1, activation='sigmoid'))"
      ],
      "metadata": {
        "id": "QnuiOKGGM-9s"
      },
      "execution_count": null,
      "outputs": []
    },
    {
      "cell_type": "code",
      "source": [
        "model.compile(\n",
        "    loss='bianry_crossentropy',\n",
        "    optimizer='adam',\n",
        "    metrics=['acuuracy']\n",
        ")"
      ],
      "metadata": {
        "id": "9eGpl7DfOI36"
      },
      "execution_count": null,
      "outputs": []
    },
    {
      "cell_type": "code",
      "source": [
        "Epochs = 100\n",
        "Batch = 32\n",
        "\n",
        "history = model.fit(\n",
        "    train_oh, train_target,\n",
        "    epochs=Epochs,\n",
        "    batch_size=Batch,\n",
        "    validation_split=0.2,\n",
        "    verbose=1\n",
        ")"
      ],
      "metadata": {
        "id": "vvFqaf7UOOSv"
      },
      "execution_count": null,
      "outputs": []
    },
    {
      "cell_type": "code",
      "source": [
        "test_seq = pad_sequences(test_input, maxlen=200, padding='pre')\n",
        "test_oh = to_categorical(test_seq)\n",
        "\n",
        "y_pred = model.predict(test_oh)"
      ],
      "metadata": {
        "id": "WQYwrSmVPhqB"
      },
      "execution_count": null,
      "outputs": []
    },
    {
      "cell_type": "code",
      "source": [
        "y_pred = y_pred.reshape(-1)\n",
        "y_pred = (y_pred > 0.5).astype('int')"
      ],
      "metadata": {
        "id": "c8qYlbyPQIrb"
      },
      "execution_count": null,
      "outputs": []
    },
    {
      "cell_type": "code",
      "source": [
        "(y_pred == test_target).sum()/len(y_pred)"
      ],
      "metadata": {
        "id": "l8UFe543Quez"
      },
      "execution_count": null,
      "outputs": []
    },
    {
      "cell_type": "markdown",
      "source": [
        "## embedding layer사용"
      ],
      "metadata": {
        "id": "lcHr8pSDV64b"
      }
    },
    {
      "cell_type": "code",
      "source": [
        "from keras import layers\n",
        "\n",
        "model = keras.Sequential()\n",
        "model.add(layers.Embedding(500, 16, input_length=200)),\n",
        "model.add(layers.LSTM(32, activation='tanh', return_sequences=True))\n",
        "model.add(layers.LSTM(32, activation='tanh'))\n",
        "model.add(layers.Dense(1, activation='sigmoid'))\n",
        "\n",
        "model.summary()"
      ],
      "metadata": {
        "colab": {
          "base_uri": "https://localhost:8080/"
        },
        "id": "U8xa_mNqWpzq",
        "outputId": "199ff1b0-b2cb-4e43-9392-bb62f32dbc63"
      },
      "execution_count": 12,
      "outputs": [
        {
          "output_type": "stream",
          "name": "stdout",
          "text": [
            "Model: \"sequential\"\n",
            "_________________________________________________________________\n",
            " Layer (type)                Output Shape              Param #   \n",
            "=================================================================\n",
            " embedding (Embedding)       (None, 200, 16)           8000      \n",
            "                                                                 \n",
            " lstm (LSTM)                 (None, 200, 32)           6272      \n",
            "                                                                 \n",
            " lstm_1 (LSTM)               (None, 32)                8320      \n",
            "                                                                 \n",
            " dense (Dense)               (None, 1)                 33        \n",
            "                                                                 \n",
            "=================================================================\n",
            "Total params: 22,625\n",
            "Trainable params: 22,625\n",
            "Non-trainable params: 0\n",
            "_________________________________________________________________\n"
          ]
        }
      ]
    },
    {
      "cell_type": "code",
      "source": [
        "opti = keras.optimizers.RMSprop(learning_rate=0.001)\n",
        "model.compile(\n",
        "    optimizer= opti,\n",
        "    loss='binary_crossentropy',\n",
        "    metrics=['accuracy']\n",
        ")\n",
        "\n",
        "model.summary()"
      ],
      "metadata": {
        "colab": {
          "base_uri": "https://localhost:8080/"
        },
        "id": "lBA01SUgXvAK",
        "outputId": "2277b79e-5063-4683-f320-c44ce2298671"
      },
      "execution_count": 13,
      "outputs": [
        {
          "output_type": "stream",
          "name": "stdout",
          "text": [
            "Model: \"sequential\"\n",
            "_________________________________________________________________\n",
            " Layer (type)                Output Shape              Param #   \n",
            "=================================================================\n",
            " embedding (Embedding)       (None, 200, 16)           8000      \n",
            "                                                                 \n",
            " lstm (LSTM)                 (None, 200, 32)           6272      \n",
            "                                                                 \n",
            " lstm_1 (LSTM)               (None, 32)                8320      \n",
            "                                                                 \n",
            " dense (Dense)               (None, 1)                 33        \n",
            "                                                                 \n",
            "=================================================================\n",
            "Total params: 22,625\n",
            "Trainable params: 22,625\n",
            "Non-trainable params: 0\n",
            "_________________________________________________________________\n"
          ]
        }
      ]
    },
    {
      "cell_type": "code",
      "source": [
        "%%time\n",
        "\n",
        "EPOCHS = 10\n",
        "BATCH_SIZE = 32\n",
        "\n",
        "history = model.fit(\n",
        "    train_seq, train_target,\n",
        "    epochs = EPOCHS,\n",
        "    batch_size=BATCH_SIZE,\n",
        "    validation_split=0.2,\n",
        "    verbose= 1\n",
        ")"
      ],
      "metadata": {
        "colab": {
          "base_uri": "https://localhost:8080/"
        },
        "id": "UYr9MyBWXvPD",
        "outputId": "12bb79f0-2361-489e-8c48-9ab2e786932f"
      },
      "execution_count": 14,
      "outputs": [
        {
          "output_type": "stream",
          "name": "stdout",
          "text": [
            "Epoch 1/10\n",
            "500/500 [==============================] - 79s 152ms/step - loss: 0.5844 - accuracy: 0.6594 - val_loss: 0.4659 - val_accuracy: 0.7793\n",
            "Epoch 2/10\n",
            "500/500 [==============================] - 78s 157ms/step - loss: 0.4351 - accuracy: 0.8064 - val_loss: 0.4237 - val_accuracy: 0.8060\n",
            "Epoch 3/10\n",
            "500/500 [==============================] - 79s 158ms/step - loss: 0.4098 - accuracy: 0.8186 - val_loss: 0.4296 - val_accuracy: 0.8012\n",
            "Epoch 4/10\n",
            "500/500 [==============================] - 72s 145ms/step - loss: 0.3967 - accuracy: 0.8280 - val_loss: 0.4049 - val_accuracy: 0.8200\n",
            "Epoch 5/10\n",
            "500/500 [==============================] - 78s 157ms/step - loss: 0.3838 - accuracy: 0.8346 - val_loss: 0.4085 - val_accuracy: 0.8152\n",
            "Epoch 6/10\n",
            "500/500 [==============================] - 78s 155ms/step - loss: 0.3777 - accuracy: 0.8352 - val_loss: 0.3986 - val_accuracy: 0.8215\n",
            "Epoch 7/10\n",
            "500/500 [==============================] - 77s 154ms/step - loss: 0.3685 - accuracy: 0.8427 - val_loss: 0.3974 - val_accuracy: 0.8192\n",
            "Epoch 8/10\n",
            "500/500 [==============================] - 73s 147ms/step - loss: 0.3616 - accuracy: 0.8454 - val_loss: 0.3995 - val_accuracy: 0.8167\n",
            "Epoch 9/10\n",
            "500/500 [==============================] - 73s 147ms/step - loss: 0.3586 - accuracy: 0.8446 - val_loss: 0.4012 - val_accuracy: 0.8173\n",
            "Epoch 10/10\n",
            "500/500 [==============================] - 73s 147ms/step - loss: 0.3517 - accuracy: 0.8519 - val_loss: 0.4102 - val_accuracy: 0.8173\n",
            "CPU times: user 18min 42s, sys: 20.1 s, total: 19min 2s\n",
            "Wall time: 12min 42s\n"
          ]
        }
      ]
    }
  ]
}