{
 "cells": [
  {
   "cell_type": "markdown",
   "id": "8f172f13",
   "metadata": {},
   "source": [
    "# 1."
   ]
  },
  {
   "cell_type": "code",
   "execution_count": 1,
   "id": "295ad483",
   "metadata": {},
   "outputs": [
    {
     "data": {
      "text/plain": [
       "10.0"
      ]
     },
     "execution_count": 1,
     "metadata": {},
     "output_type": "execute_result"
    }
   ],
   "source": [
    "def solution(balls, share):\n",
    "    answer = []\n",
    "    a = 1\n",
    "    b = 1\n",
    "    for i in range(1,balls+1):\n",
    "        answer.append(i)\n",
    "    for k in range(share):\n",
    "        a *= answer[len(answer)-1-k]\n",
    "    for j in range(1,share+1):\n",
    "        b *= j\n",
    "    return a/b\n",
    "solution(5,3)"
   ]
  },
  {
   "cell_type": "markdown",
   "id": "63d42e03",
   "metadata": {},
   "source": [
    "# 2."
   ]
  },
  {
   "cell_type": "code",
   "execution_count": 34,
   "id": "254cc189",
   "metadata": {},
   "outputs": [
    {
     "data": {
      "text/plain": [
       "13"
      ]
     },
     "execution_count": 34,
     "metadata": {},
     "output_type": "execute_result"
    }
   ],
   "source": [
    "def solution(sides):\n",
    "    answer = []\n",
    "    a = max(sides) - min(sides) +1\n",
    "    while min(sides) + a >max(sides) and a < sum(sides):\n",
    "        answer.append(a)\n",
    "        a += 1\n",
    "    return len(answer)\n",
    "solution([11,7])"
   ]
  },
  {
   "cell_type": "markdown",
   "id": "f9946bd0",
   "metadata": {},
   "source": [
    "# 3."
   ]
  },
  {
   "cell_type": "code",
   "execution_count": 42,
   "id": "4b1d2a76",
   "metadata": {},
   "outputs": [
    {
     "data": {
      "text/plain": [
       "2"
      ]
     },
     "execution_count": 42,
     "metadata": {},
     "output_type": "execute_result"
    }
   ],
   "source": [
    "def solution(spell, dic):\n",
    "    answer = 0\n",
    "    for i in dic:\n",
    "        a = 0\n",
    "        for j in spell:\n",
    "            if j in i:\n",
    "                a += 1\n",
    "        if a == len(spell):\n",
    "            answer += 1\n",
    "    if answer >= 1:\n",
    "        return 1\n",
    "    else:\n",
    "        return 2\n",
    "solution([\"p\", \"o\", \"s\"],[\"sod\", \"eocd\", \"qixm\", \"adio\", \"soo\"])"
   ]
  },
  {
   "cell_type": "markdown",
   "id": "1acef136",
   "metadata": {},
   "source": [
    "# 4."
   ]
  },
  {
   "cell_type": "code",
   "execution_count": 68,
   "id": "2fdb4b29",
   "metadata": {},
   "outputs": [
    {
     "data": {
      "text/plain": [
       "[0, -4]"
      ]
     },
     "execution_count": 68,
     "metadata": {},
     "output_type": "execute_result"
    }
   ],
   "source": [
    "def solution(keyinput, board):\n",
    "    answer = [0,0]\n",
    "    for i in keyinput:\n",
    "        if i == 'left':\n",
    "            answer = answer[0]-1,answer[1]\n",
    "        elif i == 'right':\n",
    "            answer = answer[0]+1,answer[1]\n",
    "        elif i == 'up':\n",
    "            answer = answer[0], answer[1]+1\n",
    "        elif i == 'down':\n",
    "            answer = answer[0], answer[1]-1\n",
    "        answer = list(answer)\n",
    "        if answer[0] > board[0]//2:\n",
    "            answer[0] = board[0]//2\n",
    "        elif answer[0] < -(board[0]//2):\n",
    "            answer[0] = -(board[0]//2)\n",
    "        elif answer[1] > board[1]//2:\n",
    "            answer[1] = board[1]//2\n",
    "        elif answer[1] < -(board[1]//2):\n",
    "            answer[1] = -(board[1]//2)\n",
    "    return answer\n",
    "solution([\"down\", \"down\", \"down\", \"down\", \"down\"], [7,9])"
   ]
  },
  {
   "cell_type": "markdown",
   "id": "444c6fdf",
   "metadata": {},
   "source": [
    "# 5."
   ]
  },
  {
   "cell_type": "code",
   "execution_count": 82,
   "id": "85951fc9",
   "metadata": {},
   "outputs": [
    {
     "data": {
      "text/plain": [
       "4.0"
      ]
     },
     "execution_count": 82,
     "metadata": {},
     "output_type": "execute_result"
    }
   ],
   "source": [
    "def solution(dots):\n",
    "    answer = 1\n",
    "    k = []\n",
    "    for i in range(1,4):\n",
    "        a = dots[0][0] - dots[i][0]\n",
    "        b = dots[0][1] - dots[i][1]\n",
    "        k.append((a**2 + b**2)**(1/2))\n",
    "    k.pop(k.index(max(k)))\n",
    "    for j in k:\n",
    "        answer *= j\n",
    "    return answer\n",
    "solution([[-1, -1], [1, 1], [1, -1], [-1, 1]])"
   ]
  },
  {
   "cell_type": "markdown",
   "id": "b282f99c",
   "metadata": {},
   "source": [
    "# 6."
   ]
  },
  {
   "cell_type": "code",
   "execution_count": 83,
   "id": "9b36c871",
   "metadata": {},
   "outputs": [
    {
     "data": {
      "text/plain": [
       "44"
      ]
     },
     "execution_count": 83,
     "metadata": {},
     "output_type": "execute_result"
    }
   ],
   "source": [
    "# 크기가 MxN인 종이를 1x1인 크기로 자를때 자른 횟수\n",
    "def solution(M, N):\n",
    "    answer = M * N - 1\n",
    "    return answer\n",
    "solution(5,9)"
   ]
  },
  {
   "cell_type": "markdown",
   "id": "5cb6da7c",
   "metadata": {},
   "source": [
    "# 7."
   ]
  },
  {
   "cell_type": "code",
   "execution_count": 84,
   "id": "4b30fc82",
   "metadata": {},
   "outputs": [
    {
     "data": {
      "text/plain": [
       "3"
      ]
     },
     "execution_count": 84,
     "metadata": {},
     "output_type": "execute_result"
    }
   ],
   "source": [
    "a = [[\"rardss\", \"123\"], [\"yyoom\", \"1234\"], [\"meosseugi\", \"1234\"]]\n",
    "len(a)"
   ]
  },
  {
   "cell_type": "markdown",
   "id": "f9b16baa",
   "metadata": {},
   "source": [
    "# 8."
   ]
  },
  {
   "cell_type": "code",
   "execution_count": 93,
   "id": "2747754a",
   "metadata": {},
   "outputs": [
    {
     "data": {
      "text/plain": [
       "'wrong pw'"
      ]
     },
     "execution_count": 93,
     "metadata": {},
     "output_type": "execute_result"
    }
   ],
   "source": [
    "def solution(id_pw, db):\n",
    "    answer = []\n",
    "    for i in range(len(db)):\n",
    "        if id_pw[0] == db[i][0] and id_pw[1] == db[i][1]:\n",
    "            answer.append(3)\n",
    "        elif id_pw[0] == db[i][0] and id_pw[1] != db[i][1]:\n",
    "            answer.append(2)\n",
    "        else:\n",
    "            answer.append(0)\n",
    "    if 3 in answer:\n",
    "        return 'login'\n",
    "    elif 2 in answer:\n",
    "        return 'wrong pw'\n",
    "    else:\n",
    "        return 'fail'\n",
    "solution([\"programmer01\", \"15789\"],[[\"programmer02\", \"111111\"], [\"programmer00\", \"134\"], [\"programmer01\", \"1145\"]])"
   ]
  },
  {
   "cell_type": "markdown",
   "id": "a83ed1e9",
   "metadata": {},
   "source": [
    "# 9."
   ]
  },
  {
   "cell_type": "code",
   "execution_count": 94,
   "id": "1d05089b",
   "metadata": {},
   "outputs": [
    {
     "data": {
      "text/plain": [
       "120"
      ]
     },
     "execution_count": 94,
     "metadata": {},
     "output_type": "execute_result"
    }
   ],
   "source": [
    "def solution(chicken):\n",
    "    answer = 0\n",
    "    c = chicken\n",
    "    while c//10 >=1:\n",
    "        answer += c//10\n",
    "        c = c%10 + c//10\n",
    "    return answer\n",
    "solution(1081)"
   ]
  },
  {
   "cell_type": "markdown",
   "id": "5adaed38",
   "metadata": {},
   "source": [
    "# 10."
   ]
  },
  {
   "cell_type": "code",
   "execution_count": 119,
   "id": "12699bca",
   "metadata": {},
   "outputs": [
    {
     "data": {
      "text/plain": [
       "[4, 4, 6, 2, 2, 1, 7]"
      ]
     },
     "execution_count": 119,
     "metadata": {},
     "output_type": "execute_result"
    }
   ],
   "source": [
    "def solution(score):\n",
    "    answer = []\n",
    "    rank = []\n",
    "    for i in score:\n",
    "        answer.append(sum(i)/2)\n",
    "    for j in answer:\n",
    "        r = 1\n",
    "        for k in answer:\n",
    "            if j <k:\n",
    "                r += 1\n",
    "        rank.append(r)\n",
    "    return rank\n",
    "solution([[80, 70], [70, 80], [30, 50], [90, 100], [100, 90], [100, 100], [10, 30]])"
   ]
  },
  {
   "cell_type": "markdown",
   "id": "fa63c02a",
   "metadata": {},
   "source": [
    "# 11."
   ]
  },
  {
   "cell_type": "code",
   "execution_count": 152,
   "id": "daf5e92a",
   "metadata": {},
   "outputs": [
    {
     "data": {
      "text/plain": [
       "1"
      ]
     },
     "execution_count": 152,
     "metadata": {},
     "output_type": "execute_result"
    }
   ],
   "source": [
    "def solution(a, b):\n",
    "    answer = 0\n",
    "    aa = []\n",
    "    bb = []\n",
    "    y = []\n",
    "    for i in range(1,a+1):\n",
    "        if a%i==0:\n",
    "            aa.append(i)\n",
    "    for j in range(1,b+1):\n",
    "        if b%j==0:\n",
    "            bb.append(j)\n",
    "    for k in aa:\n",
    "        if k in bb:\n",
    "            a = int(a/k)\n",
    "            b = int(b/k)\n",
    "    for p in range(1,b+1):\n",
    "        if b%p==0:\n",
    "            z = []\n",
    "            for q in range(1,p+1):\n",
    "                if p%q==0:\n",
    "                    z.append(q)\n",
    "            if len(z) ==2:\n",
    "                y.append(p)\n",
    "    if [2,5]  == y:\n",
    "        return 1\n",
    "    elif [2] == y:\n",
    "        return 1\n",
    "    elif [5] == y:\n",
    "        return 1\n",
    "    else:\n",
    "        return 2\n",
    "    return answer\n",
    "solution(11,22)"
   ]
  },
  {
   "cell_type": "code",
   "execution_count": 1,
   "id": "60443a61",
   "metadata": {},
   "outputs": [
    {
     "data": {
      "text/plain": [
       "1"
      ]
     },
     "execution_count": 1,
     "metadata": {},
     "output_type": "execute_result"
    }
   ],
   "source": [
    "def solution(a, b):\n",
    "    answer = 0\n",
    "    aa = []\n",
    "    bb = []\n",
    "    y = []\n",
    "    for i in range(1,a+1):\n",
    "        if a%i==0:\n",
    "            aa.append(i)\n",
    "    for j in range(1,b+1):\n",
    "        if b%j==0:\n",
    "            bb.append(j)\n",
    "    for k in aa:\n",
    "        if k in bb:#공약수 구하고 기약분수로 만들기\n",
    "            a = int(a/k)\n",
    "            b = int(b/k)\n",
    "    if not bb:\n",
    "        return 2\n",
    "    for p in range(1,b+1):\n",
    "        if b%p==0:\n",
    "            z = []\n",
    "            for q in range(1,p+1):#분모 약수 구하기\n",
    "                if p%q==0:\n",
    "                    z.append(q)\n",
    "            if len(z) ==2:#약수중에 소수인것만 고르기\n",
    "                y.append(p)\n",
    "    if not y:\n",
    "        return 2\n",
    "    else:\n",
    "        if [2,5]  == y:\n",
    "            return 1\n",
    "        elif [2] == y:\n",
    "            return 1\n",
    "        elif [5] == y:\n",
    "            return 1\n",
    "        else:\n",
    "            return 2\n",
    "solution(3,4)"
   ]
  },
  {
   "cell_type": "code",
   "execution_count": 154,
   "id": "18d56b37",
   "metadata": {},
   "outputs": [
    {
     "data": {
      "text/plain": [
       "1"
      ]
     },
     "execution_count": 154,
     "metadata": {},
     "output_type": "execute_result"
    }
   ],
   "source": [
    "def solution(a, b):\n",
    "    # 최대공약수를 구하는 함수\n",
    "    def gcd(x, y):\n",
    "        while y:\n",
    "            x, y = y, x % y\n",
    "        return x\n",
    "    \n",
    "    # 분수를 기약분수로 만들기\n",
    "    g = gcd(a, b)\n",
    "    a //= g\n",
    "    b //= g\n",
    "    \n",
    "    # 분모가 1인 경우\n",
    "    if b == 1:\n",
    "        return 1\n",
    "    \n",
    "    # 분모의 소인수분해 결과가 2와 5로만 이루어져 있는지 확인\n",
    "    while b % 2 == 0:\n",
    "        b //= 2\n",
    "    while b % 5 == 0:\n",
    "        b //= 5\n",
    "        \n",
    "    if b == 1:\n",
    "        return 1\n",
    "    else:\n",
    "        return 2\n",
    "solution(7,20)"
   ]
  },
  {
   "cell_type": "markdown",
   "id": "5a329d32",
   "metadata": {},
   "source": [
    "# 12."
   ]
  },
  {
   "cell_type": "code",
   "execution_count": 4,
   "id": "75973918",
   "metadata": {},
   "outputs": [
    {
     "data": {
      "text/plain": [
       "76"
      ]
     },
     "execution_count": 4,
     "metadata": {},
     "output_type": "execute_result"
    }
   ],
   "source": [
    "def solution(n):\n",
    "    answer = 0\n",
    "    for i in range(1,n+1):\n",
    "        answer+=1\n",
    "        while answer%3 == 0 or '3' in str(answer):\n",
    "            answer += 1\n",
    "    return answer\n",
    "solution(40)"
   ]
  },
  {
   "cell_type": "markdown",
   "id": "070b52ed",
   "metadata": {},
   "source": [
    "# 13."
   ]
  },
  {
   "cell_type": "code",
   "execution_count": 40,
   "id": "cf8744cc",
   "metadata": {},
   "outputs": [
    {
     "data": {
      "text/plain": [
       "[36, 40, 20, 47, 10, 6, 7000, 10000]"
      ]
     },
     "execution_count": 40,
     "metadata": {},
     "output_type": "execute_result"
    }
   ],
   "source": [
    "def solution(numlist,n):\n",
    "    answer = []\n",
    "    for i in numlist:\n",
    "        answer.append((n-i)**2)\n",
    "\n",
    "    a = []\n",
    "    for i in range(len(answer)):\n",
    "        for j in range(i+1, len(answer)):\n",
    "            if answer[i] == answer[j]:\n",
    "                if numlist[i] > numlist[j]:\n",
    "                    answer[j] = answer[j] + 1\n",
    "                else:\n",
    "                    answer[i] = answer[i] + 1\n",
    "    b = []\n",
    "    for j in answer:\n",
    "            d = 0\n",
    "            for k in answer:\n",
    "                if j > k:\n",
    "                    d += 1\n",
    "            b.append(d)\n",
    "    num = []\n",
    "    for p in range(len(b)):\n",
    "        num.append(numlist[b.index(p)])\n",
    "    return num\n",
    "solution([10000,20,36,47,40,6,10,7000],30)"
   ]
  },
  {
   "cell_type": "markdown",
   "id": "9a990e80",
   "metadata": {},
   "source": [
    "# 14."
   ]
  },
  {
   "cell_type": "code",
   "execution_count": 3,
   "id": "270e070f",
   "metadata": {},
   "outputs": [
    {
     "data": {
      "text/plain": [
       "1"
      ]
     },
     "execution_count": 3,
     "metadata": {},
     "output_type": "execute_result"
    }
   ],
   "source": [
    "def solution(A, B):\n",
    "    a = []\n",
    "    for j in range(len(A)):\n",
    "        answer = ''\n",
    "        for i in range(len(A)):\n",
    "            if i == 0:\n",
    "                answer += A[-1]\n",
    "            else:\n",
    "                answer += A[i-1]\n",
    "        a.append(answer)\n",
    "        A = answer\n",
    "    if B == A:\n",
    "        return 0\n",
    "    for i in range(len(a)):\n",
    "        if B in a[i]:\n",
    "            return i+1\n",
    "    else:\n",
    "        return -1\n",
    "solution('hello','ohell')"
   ]
  },
  {
   "cell_type": "markdown",
   "id": "00cf9983",
   "metadata": {},
   "source": [
    "# 15."
   ]
  },
  {
   "cell_type": "code",
   "execution_count": 46,
   "id": "4c3c1f61",
   "metadata": {},
   "outputs": [
    {
     "data": {
      "text/plain": [
       "'4x + 7'"
      ]
     },
     "execution_count": 46,
     "metadata": {},
     "output_type": "execute_result"
    }
   ],
   "source": [
    "def solution(polynomial):\n",
    "    answer = []\n",
    "    ans = []\n",
    "    a = polynomial.split()\n",
    "    for i in a:\n",
    "        if 'x' in i:\n",
    "            answer.append(i)\n",
    "        if 'x' not in i and '+' not in i:\n",
    "            ans.append(i)\n",
    "    k = 0\n",
    "    for i in ans:\n",
    "        k += int(i)\n",
    "    d = 0\n",
    "    for i in answer:\n",
    "        if i[0] == 'x':\n",
    "            c = 1\n",
    "        else:\n",
    "            c = i[0]\n",
    "        d += int(c)\n",
    "    if not ans:\n",
    "        return str(d) + 'x'\n",
    "    else:\n",
    "        return str(d) + 'x' + ' '+ '+'+' ' + str(k)\n",
    "solution(\"3x + 7 + x\")"
   ]
  }
 ],
 "metadata": {
  "kernelspec": {
   "display_name": "myenv",
   "language": "python",
   "name": "myenv"
  },
  "language_info": {
   "codemirror_mode": {
    "name": "ipython",
    "version": 3
   },
   "file_extension": ".py",
   "mimetype": "text/x-python",
   "name": "python",
   "nbconvert_exporter": "python",
   "pygments_lexer": "ipython3",
   "version": "3.9.7"
  }
 },
 "nbformat": 4,
 "nbformat_minor": 5
}
