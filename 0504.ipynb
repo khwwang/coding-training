{
 "cells": [
  {
   "cell_type": "markdown",
   "id": "2ad04b59",
   "metadata": {},
   "source": [
    "# 1."
   ]
  },
  {
   "cell_type": "code",
   "execution_count": null,
   "id": "c0c1052e",
   "metadata": {},
   "outputs": [],
   "source": [
    "def solution(players, callings):\n",
    "    player_rank = {}\n",
    "    rank_player = {}\n",
    "    for i in range(len(players)):\n",
    "        player_rank[players[i]] = i + 1#등수\n",
    "        rank_player[i+1] = players[i]#그 등수의 선수 이름\n",
    "        \n",
    "    for call in callings:\n",
    "        num = player_rank[call]\n",
    "        front_p = rank_player[num-1]#불린사람은 등수가 하나 올라간다(ex,2->1)\n",
    "        \n",
    "        rank_player[num-1], rank_player[num] = rank_player[num], rank_player[num-1]\n",
    "        #두사람의 등수가 바뀐다 위에는 등수가 바뀌는 코드 아래는 등수의 이름이 바뀌는 코드\n",
    "        player_rank[front_p], player_rank[call] = player_rank[call], player_rank[front_p]\n",
    "        \n",
    "    return list(rank_player.values())"
   ]
  },
  {
   "cell_type": "code",
   "execution_count": 6,
   "id": "4b79f59b",
   "metadata": {},
   "outputs": [],
   "source": [
    "def solution(players, callings):\n",
    "    player_rank = {}\n",
    "    player_name = {}\n",
    "    \n",
    "    for i in range(len(players)):\n",
    "        player_rank[players[i]] = i+1\n",
    "        player_name[i+1] = players[i]\n",
    "        \n",
    "    for call in callings:\n",
    "        after = player_rank[call]\n",
    "        after_name = player_name[after-1]\n",
    "        \n",
    "        player_rank[after_name], player_rank[call] = player_rank[after_name], player_rank[call]\n",
    "        player_name[after-1], player_name[after] = player_name[after], player_name[after-1]\n",
    "    return list(player_name.values())"
   ]
  },
  {
   "cell_type": "markdown",
   "id": "dd823571",
   "metadata": {},
   "source": [
    "# 2."
   ]
  },
  {
   "cell_type": "code",
   "execution_count": 7,
   "id": "d5022130",
   "metadata": {
    "scrolled": true
   },
   "outputs": [
    {
     "name": "stdout",
     "output_type": "stream",
     "text": [
      "aBcDeF\n",
      "AbCdEf\n"
     ]
    }
   ],
   "source": [
    "str = input()\n",
    "output_str = ''\n",
    "\n",
    "for char in str:\n",
    "    if char.islower():\n",
    "        output_str += char.upper()\n",
    "    else:\n",
    "        output_str += char.lower()\n",
    "\n",
    "print(output_str)\n",
    "#대문자는 소문자로 소문자는 대문자로"
   ]
  },
  {
   "cell_type": "markdown",
   "id": "99494283",
   "metadata": {},
   "source": [
    "# 3."
   ]
  },
  {
   "cell_type": "code",
   "execution_count": 8,
   "id": "1cb4cd97",
   "metadata": {},
   "outputs": [
    {
     "name": "stdout",
     "output_type": "stream",
     "text": [
      "!@#$%^&*(\\'\"<>?:;\n"
     ]
    }
   ],
   "source": [
    "print(r'!@#$%^&*(\\'\"<>?:;')\n",
    "#특수문자 출력"
   ]
  },
  {
   "cell_type": "markdown",
   "id": "b5ae69c7",
   "metadata": {},
   "source": [
    "# 4."
   ]
  },
  {
   "cell_type": "code",
   "execution_count": 10,
   "id": "e66cf972",
   "metadata": {},
   "outputs": [
    {
     "name": "stdout",
     "output_type": "stream",
     "text": [
      "abcde\n",
      "a\n",
      "b\n",
      "c\n",
      "d\n",
      "e\n"
     ]
    }
   ],
   "source": [
    "str = input()\n",
    "str = list(str)\n",
    "for i in range(len(str)):\n",
    "    print(str[i])"
   ]
  },
  {
   "cell_type": "markdown",
   "id": "3d53f941",
   "metadata": {},
   "source": [
    "# 5."
   ]
  },
  {
   "cell_type": "code",
   "execution_count": 11,
   "id": "c03f574d",
   "metadata": {},
   "outputs": [
    {
     "name": "stdout",
     "output_type": "stream",
     "text": [
      "100\n",
      "100 is even\n"
     ]
    }
   ],
   "source": [
    "a = int(input())\n",
    "if a%2 ==0:\n",
    "    print(a, 'is even')\n",
    "else:\n",
    "    print(a, 'is odd')"
   ]
  },
  {
   "cell_type": "markdown",
   "id": "12205b36",
   "metadata": {},
   "source": [
    "# 6."
   ]
  },
  {
   "cell_type": "code",
   "execution_count": 13,
   "id": "3b8cf82d",
   "metadata": {},
   "outputs": [
    {
     "data": {
      "text/plain": [
       "'HelloWorld'"
      ]
     },
     "execution_count": 13,
     "metadata": {},
     "output_type": "execute_result"
    }
   ],
   "source": [
    "def solution(my_string, overwrite_string, s):\n",
    "    my_string = list(my_string)\n",
    "    my_string[s:s+len(overwrite_string)] = overwrite_string\n",
    "    answer = ''\n",
    "    return answer.join(my_string)\n",
    "solution(\"He11oWor1d\", \"lloWorl\", 2)"
   ]
  },
  {
   "cell_type": "markdown",
   "id": "08dae045",
   "metadata": {},
   "source": [
    "# 7."
   ]
  },
  {
   "cell_type": "code",
   "execution_count": 16,
   "id": "d23e933c",
   "metadata": {},
   "outputs": [
    {
     "data": {
      "text/plain": [
       "'ababababab'"
      ]
     },
     "execution_count": 16,
     "metadata": {},
     "output_type": "execute_result"
    }
   ],
   "source": [
    "def solution(str1, str2):\n",
    "    answer = ''\n",
    "    len1, len2 = len(str1), len(str2)\n",
    "    max_len = max(len1, len2)\n",
    "\n",
    "    for i in range(max_len):\n",
    "        if i < len1:\n",
    "            answer += str1[i]\n",
    "        if i < len2:\n",
    "            answer += str2[i]\n",
    "\n",
    "    return answer\n",
    "solution('aaaaa', 'bbbbb')"
   ]
  },
  {
   "cell_type": "markdown",
   "id": "ae46ef4f",
   "metadata": {},
   "source": [
    "# 8."
   ]
  },
  {
   "cell_type": "code",
   "execution_count": 17,
   "id": "483b00c2",
   "metadata": {},
   "outputs": [
    {
     "data": {
      "text/plain": [
       "'aabb'"
      ]
     },
     "execution_count": 17,
     "metadata": {},
     "output_type": "execute_result"
    }
   ],
   "source": [
    "def solution(arr):\n",
    "    answer = ''\n",
    "    return answer.join(arr)\n",
    "solution(['a','ab','b'])"
   ]
  },
  {
   "cell_type": "markdown",
   "id": "f9d14458",
   "metadata": {},
   "source": [
    "# 9."
   ]
  },
  {
   "cell_type": "code",
   "execution_count": 25,
   "id": "ec01c1e5",
   "metadata": {},
   "outputs": [],
   "source": [
    "def solution(a, b):\n",
    "    a_str, b_str = str(a), str(b)\n",
    "    ab = int(a_str + b_str)\n",
    "    ba = int(b_str + a_str)\n",
    "\n",
    "    if ab > ba:\n",
    "        return ab\n",
    "    else:\n",
    "        return ba"
   ]
  }
 ],
 "metadata": {
  "kernelspec": {
   "display_name": "myenv",
   "language": "python",
   "name": "myenv"
  },
  "language_info": {
   "codemirror_mode": {
    "name": "ipython",
    "version": 3
   },
   "file_extension": ".py",
   "mimetype": "text/x-python",
   "name": "python",
   "nbconvert_exporter": "python",
   "pygments_lexer": "ipython3",
   "version": "3.9.7"
  }
 },
 "nbformat": 4,
 "nbformat_minor": 5
}
