{
 "cells": [
  {
   "cell_type": "markdown",
   "id": "377443ab",
   "metadata": {},
   "source": [
    "# 1."
   ]
  },
  {
   "cell_type": "code",
   "execution_count": 5,
   "id": "32c6dd58",
   "metadata": {},
   "outputs": [
    {
     "data": {
      "text/plain": [
       "[2, 3]"
      ]
     },
     "execution_count": 5,
     "metadata": {},
     "output_type": "execute_result"
    }
   ],
   "source": [
    "def solution(num_list):\n",
    "    answer = []\n",
    "    a = []\n",
    "    b = []\n",
    "    for i in range(len(num_list)):\n",
    "        if num_list[i]%2 == 0:\n",
    "            a.append(num_list)\n",
    "        else:\n",
    "            b.append(num_list)\n",
    "    q = len(a)\n",
    "    p = len(b)\n",
    "    answer.append(q)\n",
    "    answer.append(p)\n",
    "    return answer\n",
    "solution([1, 2, 3, 4, 5])"
   ]
  },
  {
   "cell_type": "markdown",
   "id": "5b1a7e6c",
   "metadata": {},
   "source": [
    "리스트 자체를 for문으로 할 수 도 있다\n",
    "for i in num_list:"
   ]
  },
  {
   "cell_type": "markdown",
   "id": "53b232ed",
   "metadata": {},
   "source": [
    "# 2."
   ]
  },
  {
   "cell_type": "code",
   "execution_count": 18,
   "id": "3f9341dc",
   "metadata": {},
   "outputs": [
    {
     "data": {
      "text/plain": [
       "6"
      ]
     },
     "execution_count": 18,
     "metadata": {},
     "output_type": "execute_result"
    }
   ],
   "source": [
    "def solution(n):\n",
    "    answer = []\n",
    "    for i in range(1,n+1):\n",
    "        if n%i == 0:\n",
    "            answer.append(n)\n",
    "    return len(answer)\n",
    "solution(20)"
   ]
  },
  {
   "cell_type": "code",
   "execution_count": 17,
   "id": "7eb975b6",
   "metadata": {},
   "outputs": [],
   "source": [
    "def solution(n):\n",
    "    answer = 0\n",
    "    for i in range(1,n+1):\n",
    "        if n%i == 0:\n",
    "            answer += 1#answer에 1을 더해주므로써 개수를 셀수 있다\n",
    "    return answer"
   ]
  },
  {
   "cell_type": "markdown",
   "id": "39b50f13",
   "metadata": {},
   "source": [
    "# 3."
   ]
  },
  {
   "cell_type": "code",
   "execution_count": 19,
   "id": "25a2da7c",
   "metadata": {},
   "outputs": [
    {
     "data": {
      "text/plain": [
       "3"
      ]
     },
     "execution_count": 19,
     "metadata": {},
     "output_type": "execute_result"
    }
   ],
   "source": [
    "def solution(slice, n):\n",
    "    answer = 0\n",
    "    while answer*slice/n < 1:\n",
    "        answer += 1\n",
    "        if answer*slice/n >= 1:\n",
    "            break\n",
    "    return answer\n",
    "solution(5,12)"
   ]
  },
  {
   "cell_type": "markdown",
   "id": "5e9c5d08",
   "metadata": {},
   "source": [
    "# 4."
   ]
  },
  {
   "cell_type": "code",
   "execution_count": 20,
   "id": "677c4da0",
   "metadata": {},
   "outputs": [
    {
     "data": {
      "text/plain": [
       "2"
      ]
     },
     "execution_count": 20,
     "metadata": {},
     "output_type": "execute_result"
    }
   ],
   "source": [
    "def solution(array, n):\n",
    "    answer = 0\n",
    "    for i in array:\n",
    "        if i == n:\n",
    "            answer += 1\n",
    "    return answer\n",
    "solution([1, 1, 2, 3, 4, 5], 1)"
   ]
  },
  {
   "cell_type": "markdown",
   "id": "011f5217",
   "metadata": {},
   "source": [
    "# 5."
   ]
  },
  {
   "cell_type": "code",
   "execution_count": 21,
   "id": "d86c8720",
   "metadata": {},
   "outputs": [
    {
     "data": {
      "text/plain": [
       "2"
      ]
     },
     "execution_count": 21,
     "metadata": {},
     "output_type": "execute_result"
    }
   ],
   "source": [
    "def solution(dot):\n",
    "    answer = 0\n",
    "    if dot[0] >0 and dot[1]>0:\n",
    "        answer = 1\n",
    "    elif dot[0] <0 and dot[1]>0:\n",
    "        answer = 2\n",
    "    elif dot[0] <0 and dot[1]<0:\n",
    "        answer = 3\n",
    "    elif dot[0] >0 and dot[1]<0:\n",
    "        answer = 4\n",
    "    return answer\n",
    "solution([-2,3])"
   ]
  },
  {
   "cell_type": "markdown",
   "id": "bed8d53d",
   "metadata": {},
   "source": [
    "# 6."
   ]
  },
  {
   "cell_type": "code",
   "execution_count": 27,
   "id": "d8a96698",
   "metadata": {},
   "outputs": [
    {
     "data": {
      "text/plain": [
       "'noraj'"
      ]
     },
     "execution_count": 27,
     "metadata": {},
     "output_type": "execute_result"
    }
   ],
   "source": [
    "def solution(my_string):\n",
    "    answer = ''\n",
    "    for i in range(1,len(my_string)+1):\n",
    "        answer += (my_string[len(my_string)-i])\n",
    "    return answer\n",
    "solution(\"jaron\")"
   ]
  },
  {
   "cell_type": "markdown",
   "id": "9410f255",
   "metadata": {},
   "source": [
    "# 7."
   ]
  },
  {
   "cell_type": "code",
   "execution_count": 29,
   "id": "e889b9f4",
   "metadata": {},
   "outputs": [
    {
     "data": {
      "text/plain": [
       "'abcde'"
      ]
     },
     "execution_count": 29,
     "metadata": {},
     "output_type": "execute_result"
    }
   ],
   "source": [
    "def solution(my_string, letter):\n",
    "    answer = ''\n",
    "    for i in my_string:\n",
    "        if i != letter:\n",
    "            answer += i\n",
    "    return answer\n",
    "solution(\"abcdef\", 'f')"
   ]
  },
  {
   "cell_type": "markdown",
   "id": "b580a4a8",
   "metadata": {},
   "source": [
    "# 8."
   ]
  },
  {
   "cell_type": "code",
   "execution_count": 30,
   "id": "a5d2aa10",
   "metadata": {},
   "outputs": [
    {
     "data": {
      "text/plain": [
       "'bs'"
      ]
     },
     "execution_count": 30,
     "metadata": {},
     "output_type": "execute_result"
    }
   ],
   "source": [
    "def solution(my_string):\n",
    "    answer = ''\n",
    "    for i in my_string:\n",
    "        if i not in ['a', 'e', 'i', 'o', 'u']:\n",
    "            answer += i\n",
    "    return answer\n",
    "solution(\"bus\")"
   ]
  },
  {
   "cell_type": "markdown",
   "id": "8fa2ab84",
   "metadata": {},
   "source": [
    "# 9."
   ]
  },
  {
   "cell_type": "code",
   "execution_count": 41,
   "id": "af5fcc2e",
   "metadata": {},
   "outputs": [
    {
     "data": {
      "text/plain": [
       "3"
      ]
     },
     "execution_count": 41,
     "metadata": {},
     "output_type": "execute_result"
    }
   ],
   "source": [
    "a  = [1, 2, 7, 10, 11]\n",
    "list.sort(a)\n",
    "k = int(len(a)/2 + 0.5)\n",
    "k"
   ]
  },
  {
   "cell_type": "markdown",
   "id": "2a07cc77",
   "metadata": {},
   "source": [
    "# 10."
   ]
  },
  {
   "cell_type": "code",
   "execution_count": 45,
   "id": "532b14bb",
   "metadata": {},
   "outputs": [
    {
     "data": {
      "text/plain": [
       "7"
      ]
     },
     "execution_count": 45,
     "metadata": {},
     "output_type": "execute_result"
    }
   ],
   "source": [
    "def solution(array):\n",
    "    answer = 0\n",
    "    array.sort()\n",
    "    k  = int(len(array)/2 - 0.5)\n",
    "    answer = array[k]\n",
    "    return answer\n",
    "solution([1, 2, 7, 10, 11])"
   ]
  },
  {
   "cell_type": "markdown",
   "id": "15b332ad",
   "metadata": {},
   "source": [
    "# 11."
   ]
  },
  {
   "cell_type": "markdown",
   "id": "fe72eab3",
   "metadata": {},
   "source": [
    "위의 코드와 비슷하지만 큰수들이 배열의 끝으로 가므로 그것을 해결해 주었다."
   ]
  },
  {
   "cell_type": "code",
   "execution_count": 47,
   "id": "e708d6c7",
   "metadata": {},
   "outputs": [
    {
     "data": {
      "text/plain": [
       "744"
      ]
     },
     "execution_count": 47,
     "metadata": {},
     "output_type": "execute_result"
    }
   ],
   "source": [
    "def solution(numbers):\n",
    "    numbers.sort()\n",
    "    return numbers[len(numbers)-1] * numbers[len(numbers)-2]# or numbers[-1] * numbers[-2]\n",
    "solution([0, 31, 24, 10, 1, 9])"
   ]
  },
  {
   "cell_type": "markdown",
   "id": "9de85224",
   "metadata": {},
   "source": [
    "# 12."
   ]
  },
  {
   "cell_type": "code",
   "execution_count": 49,
   "id": "990f1104",
   "metadata": {},
   "outputs": [
    {
     "data": {
      "text/plain": [
       "[1, 0]"
      ]
     },
     "execution_count": 49,
     "metadata": {},
     "output_type": "execute_result"
    }
   ],
   "source": [
    "def solution(money):\n",
    "    k = money\n",
    "    a = 0\n",
    "    if money < 5500:\n",
    "        a, b = 0, money\n",
    "    else:\n",
    "        while money >= 5500:\n",
    "            a += 1\n",
    "            money -= 5500\n",
    "        b = k - a * 5500\n",
    "    return [a,b]\n",
    "solution(5500)"
   ]
  },
  {
   "cell_type": "markdown",
   "id": "23e7455b",
   "metadata": {},
   "source": [
    "# 13."
   ]
  },
  {
   "cell_type": "code",
   "execution_count": 52,
   "id": "b257d95f",
   "metadata": {},
   "outputs": [
    {
     "data": {
      "text/plain": [
       "142500"
      ]
     },
     "execution_count": 52,
     "metadata": {},
     "output_type": "execute_result"
    }
   ],
   "source": [
    "def solution(price):\n",
    "    if price >= 500000:\n",
    "        price = price*0.8\n",
    "    elif price >= 300000:\n",
    "        price = price*0.9\n",
    "    elif price >= 100000:\n",
    "        price = price*0.95\n",
    "    return int(price)\n",
    "solution(150000)"
   ]
  },
  {
   "cell_type": "markdown",
   "id": "3ab8a959",
   "metadata": {},
   "source": [
    "# 14."
   ]
  },
  {
   "cell_type": "code",
   "execution_count": 55,
   "id": "d5b60baf",
   "metadata": {},
   "outputs": [
    {
     "data": {
      "text/plain": [
       "'hhheeellllllooo'"
      ]
     },
     "execution_count": 55,
     "metadata": {},
     "output_type": "execute_result"
    }
   ],
   "source": [
    "def solution(my_string, n):\n",
    "    answer = ''\n",
    "    for i in my_string:\n",
    "        answer += i*n\n",
    "    return answer\n",
    "solution('hello', 3)"
   ]
  },
  {
   "cell_type": "markdown",
   "id": "6b3a7219",
   "metadata": {},
   "source": [
    "# 15."
   ]
  },
  {
   "cell_type": "code",
   "execution_count": 56,
   "id": "5292e577",
   "metadata": {},
   "outputs": [
    {
     "data": {
      "text/plain": [
       "2"
      ]
     },
     "execution_count": 56,
     "metadata": {},
     "output_type": "execute_result"
    }
   ],
   "source": [
    "def solution(s1, s2):\n",
    "    answer = 0\n",
    "    for i in s1:\n",
    "        if i in s2:\n",
    "            answer += 1\n",
    "    return answer\n",
    "solution([\"a\", \"b\", \"c\"], [\"com\", \"b\", \"d\", \"p\", \"c\"])"
   ]
  },
  {
   "cell_type": "markdown",
   "id": "6e5559dd",
   "metadata": {},
   "source": [
    "# 16."
   ]
  },
  {
   "cell_type": "code",
   "execution_count": 57,
   "id": "57a3fc51",
   "metadata": {},
   "outputs": [
    {
     "data": {
      "text/plain": [
       "[1, 3, 5, 7, 9]"
      ]
     },
     "execution_count": 57,
     "metadata": {},
     "output_type": "execute_result"
    }
   ],
   "source": [
    "def solution(n):\n",
    "    answer = []\n",
    "    for i in range(1,n+1):\n",
    "        if i%2 != 0:\n",
    "            answer.append(i)\n",
    "    return answer\n",
    "solution(10)"
   ]
  },
  {
   "cell_type": "markdown",
   "id": "e10c95e2",
   "metadata": {},
   "source": [
    "# 17."
   ]
  },
  {
   "cell_type": "code",
   "execution_count": 59,
   "id": "8daab425",
   "metadata": {},
   "outputs": [
    {
     "data": {
      "text/plain": [
       "10"
      ]
     },
     "execution_count": 59,
     "metadata": {},
     "output_type": "execute_result"
    }
   ],
   "source": [
    "def solution(n):\n",
    "    answer = 0\n",
    "    a = str(n)\n",
    "    for i in range(len(a)):\n",
    "        answer += int(a[i])\n",
    "    return answer\n",
    "solution(1234)"
   ]
  },
  {
   "cell_type": "markdown",
   "id": "cefeb183",
   "metadata": {},
   "source": [
    "# 18."
   ]
  },
  {
   "cell_type": "code",
   "execution_count": 1,
   "id": "299f6466",
   "metadata": {},
   "outputs": [
    {
     "data": {
      "text/plain": [
       "10"
      ]
     },
     "execution_count": 1,
     "metadata": {},
     "output_type": "execute_result"
    }
   ],
   "source": [
    "def solution(my_string):\n",
    "    answer = 0\n",
    "    n = ['1','2','3','4','5','6','7','8','9']\n",
    "    for i in my_string:\n",
    "        if i in n:\n",
    "            answer += int(i)\n",
    "    return answer\n",
    "solution(\"aAb1B2cC34oOp\")"
   ]
  },
  {
   "cell_type": "markdown",
   "id": "72ef04e6",
   "metadata": {},
   "source": [
    "# 19."
   ]
  },
  {
   "cell_type": "code",
   "execution_count": 2,
   "id": "74a47305",
   "metadata": {},
   "outputs": [
    {
     "data": {
      "text/plain": [
       "1"
      ]
     },
     "execution_count": 2,
     "metadata": {},
     "output_type": "execute_result"
    }
   ],
   "source": [
    "def solution(str1, str2):\n",
    "    if str2 in str1:\n",
    "        return 1\n",
    "    else:\n",
    "        return 2\n",
    "solution(\"ab6CDE443fgh22iJKlmn1o\", \"6CD\")"
   ]
  },
  {
   "cell_type": "markdown",
   "id": "a3dec781",
   "metadata": {},
   "source": [
    "# 20."
   ]
  },
  {
   "cell_type": "code",
   "execution_count": 5,
   "id": "203de109",
   "metadata": {},
   "outputs": [
    {
     "data": {
      "text/plain": [
       "6"
      ]
     },
     "execution_count": 5,
     "metadata": {},
     "output_type": "execute_result"
    }
   ],
   "source": [
    "def solution(hp):\n",
    "    g = hp//5\n",
    "    b = hp%5//3\n",
    "    i = hp%5%3\n",
    "    return g + b + i\n",
    "solution(26)"
   ]
  },
  {
   "cell_type": "markdown",
   "id": "12dd3674",
   "metadata": {},
   "source": [
    "# 21."
   ]
  },
  {
   "cell_type": "code",
   "execution_count": 11,
   "id": "d8f4e60c",
   "metadata": {},
   "outputs": [
    {
     "data": {
      "text/plain": [
       "2"
      ]
     },
     "execution_count": 11,
     "metadata": {},
     "output_type": "execute_result"
    }
   ],
   "source": [
    "def solution(n):\n",
    "    answer = 0\n",
    "    if (n**(1/2) -int(n**(1/2))) == 0:\n",
    "        return 1\n",
    "    else:\n",
    "        return 2\n",
    "solution(976)"
   ]
  },
  {
   "cell_type": "markdown",
   "id": "d6ababf7",
   "metadata": {},
   "source": [
    "# 22."
   ]
  },
  {
   "cell_type": "code",
   "execution_count": 12,
   "id": "af3de337",
   "metadata": {},
   "outputs": [
    {
     "data": {
      "text/plain": [
       "'attack'"
      ]
     },
     "execution_count": 12,
     "metadata": {},
     "output_type": "execute_result"
    }
   ],
   "source": [
    "def solution(cipher, code):\n",
    "    answer = ''\n",
    "    for i in range(1,len(cipher)+1):\n",
    "        if i%code == 0:\n",
    "            answer += cipher[i-1]\n",
    "    return answer\n",
    "solution(\"dfjardstddetckdaccccdegk\", 4)"
   ]
  }
 ],
 "metadata": {
  "kernelspec": {
   "display_name": "myenv",
   "language": "python",
   "name": "myenv"
  },
  "language_info": {
   "codemirror_mode": {
    "name": "ipython",
    "version": 3
   },
   "file_extension": ".py",
   "mimetype": "text/x-python",
   "name": "python",
   "nbconvert_exporter": "python",
   "pygments_lexer": "ipython3",
   "version": "3.9.7"
  }
 },
 "nbformat": 4,
 "nbformat_minor": 5
}
