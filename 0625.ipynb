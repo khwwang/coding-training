{
  "nbformat": 4,
  "nbformat_minor": 0,
  "metadata": {
    "colab": {
      "provenance": [],
      "authorship_tag": "ABX9TyOrzba0xS6xXpH+h8lF4vVY",
      "include_colab_link": true
    },
    "kernelspec": {
      "name": "python3",
      "display_name": "Python 3"
    },
    "language_info": {
      "name": "python"
    }
  },
  "cells": [
    {
      "cell_type": "markdown",
      "metadata": {
        "id": "view-in-github",
        "colab_type": "text"
      },
      "source": [
        "<a href=\"https://colab.research.google.com/github/khwwang/coding-training/blob/master/0625.ipynb\" target=\"_parent\"><img src=\"https://colab.research.google.com/assets/colab-badge.svg\" alt=\"Open In Colab\"/></a>"
      ]
    },
    {
      "cell_type": "markdown",
      "source": [
        "## 1."
      ],
      "metadata": {
        "id": "u6s5zI3EcitK"
      }
    },
    {
      "cell_type": "code",
      "execution_count": 9,
      "metadata": {
        "colab": {
          "base_uri": "https://localhost:8080/"
        },
        "id": "g0jGiWXWTpBX",
        "outputId": "8dad87d7-3a7d-4c48-ceb5-543d5336f901"
      },
      "outputs": [
        {
          "output_type": "execute_result",
          "data": {
            "text/plain": [
              "1"
            ]
          },
          "metadata": {},
          "execution_count": 9
        }
      ],
      "source": [
        "def solution(dots):\n",
        "    answer = []\n",
        "    n = 0\n",
        "    for i in range(4):\n",
        "      for j in range(4):\n",
        "        if i != j:\n",
        "          a= dots[i][0] - dots[j][0]\n",
        "          b= dots[i][1] - dots[j][1]\n",
        "          if b != 0:\n",
        "            c = a/b\n",
        "            answer.append(c)\n",
        "    for h in range(len(answer)):\n",
        "        for k in range(h+1, len(answer)):\n",
        "            if answer[h] == answer[k]:\n",
        "                n += 1\n",
        "    if n > len(answer):\n",
        "      return 1\n",
        "    else:\n",
        "      return 0\n",
        "solution([[1, 4], [9, 2], [3, 8], [11, 6]])"
      ]
    },
    {
      "cell_type": "markdown",
      "source": [
        "# 2."
      ],
      "metadata": {
        "id": "GVtzLlIfT2FG"
      }
    },
    {
      "cell_type": "code",
      "source": [
        "def solution(lines):\n",
        "  a = []\n",
        "  b = []\n",
        "  c = []\n",
        "  abc = []\n",
        "  for i in range(lines[0][0],lines[0][1]):\n",
        "    a.append(i)\n",
        "  for j in range(lines[1][0],lines[1][1]):\n",
        "    b.append(j)\n",
        "  for k in range(lines[2][0],lines[2][1]):\n",
        "    c.append(k)\n",
        "  for i in a:\n",
        "    if i in b:\n",
        "      abc.append(i)\n",
        "  for j in b:\n",
        "    if j in c:\n",
        "      abc.append(j)\n",
        "  for k in c:\n",
        "    if k in a:\n",
        "      abc.append(k)\n",
        "  return len(list(set(abc)))\n",
        "solution([[0, 1], [2, 5], [3, 9]])"
      ],
      "metadata": {
        "colab": {
          "base_uri": "https://localhost:8080/"
        },
        "id": "NRm-Sh7LT6Kd",
        "outputId": "f6a49638-3cfa-4842-9256-72dfa3c4f344"
      },
      "execution_count": 11,
      "outputs": [
        {
          "output_type": "execute_result",
          "data": {
            "text/plain": [
              "2"
            ]
          },
          "metadata": {},
          "execution_count": 11
        }
      ]
    },
    {
      "cell_type": "markdown",
      "source": [
        "# 3."
      ],
      "metadata": {
        "id": "MlXpPfhngAbG"
      }
    },
    {
      "cell_type": "code",
      "source": [
        "def solution(babbling):\n",
        "    answer = []\n",
        "    p = [\"aya\", \"ye\", \"woo\", \"ma\"]\n",
        "    q = 0\n",
        "    for i in p:\n",
        "        answer.append(i)\n",
        "    for i in p:\n",
        "        for j in p:\n",
        "            answer.append(i+j)\n",
        "    for i in p:\n",
        "        for j in p:\n",
        "            for k in p:\n",
        "                answer.append(i+j+k)\n",
        "    for i in p:\n",
        "        for j in p:\n",
        "            for k in p:\n",
        "                for h in p:\n",
        "                    answer.append(i+j+k+h)\n",
        "    for i in babbling:\n",
        "        if i in answer:\n",
        "            q+=1\n",
        "    return q\n",
        "solution([\"ayaye\", \"uuuma\", \"ye\", \"yemawoo\", \"ayaa\"])"
      ],
      "metadata": {
        "colab": {
          "base_uri": "https://localhost:8080/"
        },
        "id": "bIr_8LibgFD6",
        "outputId": "dcff094a-6bce-4f20-ca0c-edfbe6c6d48b"
      },
      "execution_count": 14,
      "outputs": [
        {
          "output_type": "execute_result",
          "data": {
            "text/plain": [
              "3"
            ]
          },
          "metadata": {},
          "execution_count": 14
        }
      ]
    },
    {
      "cell_type": "markdown",
      "source": [
        "# 4."
      ],
      "metadata": {
        "id": "g6hujiRGkML0"
      }
    },
    {
      "cell_type": "code",
      "source": [
        "def solution(bin1, bin2):\n",
        "    a = []\n",
        "    b = 0\n",
        "    bin1 = bin1[::-1]\n",
        "    bin2 = bin2[::-1]\n",
        "\n",
        "    for i in range(max(len(bin1), len(bin2))):\n",
        "        if i < len(bin1):\n",
        "            val1 = int(bin1[i])\n",
        "        else:\n",
        "            val1 = 0\n",
        "\n",
        "        if i < len(bin2):\n",
        "            val2 = int(bin2[i])\n",
        "        else:\n",
        "            val2 = 0\n",
        "\n",
        "        digit_sum = val1 + val2 + b\n",
        "\n",
        "        a.append(digit_sum % 2)\n",
        "        b = digit_sum // 2\n",
        "\n",
        "    if b == 1:\n",
        "        a.append(1)\n",
        "\n",
        "    return ''.join(map(str, a[::-1]))\n",
        "solution(\"1001\",\"1111\")"
      ],
      "metadata": {
        "colab": {
          "base_uri": "https://localhost:8080/",
          "height": 36
        },
        "id": "6UmnuFFRtyoF",
        "outputId": "9fef17be-5fe1-4d7f-aaae-dbe729ba6c65"
      },
      "execution_count": 16,
      "outputs": [
        {
          "output_type": "execute_result",
          "data": {
            "text/plain": [
              "'11000'"
            ],
            "application/vnd.google.colaboratory.intrinsic+json": {
              "type": "string"
            }
          },
          "metadata": {},
          "execution_count": 16
        }
      ]
    },
    {
      "cell_type": "code",
      "source": [],
      "metadata": {
        "id": "iw6379CYt36G"
      },
      "execution_count": null,
      "outputs": []
    }
  ]
}