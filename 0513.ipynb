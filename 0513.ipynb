{
 "cells": [
  {
   "cell_type": "markdown",
   "id": "3e7770ec",
   "metadata": {},
   "source": [
    "# 1."
   ]
  },
  {
   "cell_type": "code",
   "execution_count": 25,
   "id": "93c4cf55",
   "metadata": {},
   "outputs": [
    {
     "data": {
      "text/plain": [
       "[67, 0, 55]"
      ]
     },
     "execution_count": 25,
     "metadata": {},
     "output_type": "execute_result"
    }
   ],
   "source": [
    "def solution(name, yearning, photo):\n",
    "    answer = []\n",
    "    nam = name.copy()\n",
    "    for i in range(len(name)):\n",
    "        nam[i] = yearning[i]\n",
    "    for i in photo:\n",
    "        a = 0\n",
    "        for k in range(len(name)):\n",
    "            if name[k] in i:\n",
    "                a += nam[k]\n",
    "        answer.append(a)\n",
    "    return answer\n",
    "solution([\"kali\", \"mari\", \"don\"],[11, 1, 55],[[\"kali\", \"mari\", \"don\"], [\"pony\", \"tom\", \"teddy\"], [\"con\", \"mona\", \"don\"]])"
   ]
  },
  {
   "cell_type": "markdown",
   "id": "c827d3f3",
   "metadata": {},
   "source": [
    "# 2."
   ]
  },
  {
   "cell_type": "code",
   "execution_count": 4,
   "id": "04d7939e",
   "metadata": {},
   "outputs": [
    {
     "data": {
      "text/plain": [
       "3"
      ]
     },
     "execution_count": 4,
     "metadata": {},
     "output_type": "execute_result"
    }
   ],
   "source": [
    "def solution(array):\n",
    "    # 배열을 오름차순으로 정렬합니다.\n",
    "    array.sort()\n",
    "\n",
    "    # 각 숫자가 몇 번 나오는지 카운트합니다.\n",
    "    counts = {}\n",
    "    for num in array:\n",
    "        if num in counts:\n",
    "            counts[num] += 1\n",
    "        else:\n",
    "            counts[num] = 1\n",
    "\n",
    "    # 최빈값을 찾습니다. \n",
    "    max_count = -1\n",
    "    mode = -1\n",
    "    for num, count in counts.items():\n",
    "        if count > max_count:\n",
    "            max_count = count\n",
    "            mode = num\n",
    "        elif count == max_count:\n",
    "            mode = -1\n",
    "\n",
    "    return mode\n",
    "solution([1, 2, 3, 3, 3, 4])"
   ]
  }
 ],
 "metadata": {
  "kernelspec": {
   "display_name": "myenv",
   "language": "python",
   "name": "myenv"
  },
  "language_info": {
   "codemirror_mode": {
    "name": "ipython",
    "version": 3
   },
   "file_extension": ".py",
   "mimetype": "text/x-python",
   "name": "python",
   "nbconvert_exporter": "python",
   "pygments_lexer": "ipython3",
   "version": "3.9.7"
  }
 },
 "nbformat": 4,
 "nbformat_minor": 5
}
