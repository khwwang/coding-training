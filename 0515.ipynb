{
  "nbformat": 4,
  "nbformat_minor": 0,
  "metadata": {
    "colab": {
      "provenance": [],
      "authorship_tag": "ABX9TyMLCnyVAsx1yszXeW4OMJ83",
      "include_colab_link": true
    },
    "kernelspec": {
      "name": "python3",
      "display_name": "Python 3"
    },
    "language_info": {
      "name": "python"
    }
  },
  "cells": [
    {
      "cell_type": "markdown",
      "metadata": {
        "id": "view-in-github",
        "colab_type": "text"
      },
      "source": [
        "<a href=\"https://colab.research.google.com/github/khwwang/coding-training/blob/master/0515.ipynb\" target=\"_parent\"><img src=\"https://colab.research.google.com/assets/colab-badge.svg\" alt=\"Open In Colab\"/></a>"
      ]
    },
    {
      "cell_type": "markdown",
      "source": [
        "# 1."
      ],
      "metadata": {
        "id": "3bYzZFLngHhL"
      }
    },
    {
      "cell_type": "markdown",
      "source": [
        "ctrl + m + m 이 markdown이다"
      ],
      "metadata": {
        "id": "m0GL-U_8g8-B"
      }
    },
    {
      "cell_type": "code",
      "source": [
        "def solution(s):\n",
        "    answer = 0\n",
        "    a = s.split()\n",
        "    for i in range(len(a)):\n",
        "        if a[i] != 'Z':\n",
        "            answer += int(a[i])\n",
        "        else:\n",
        "            answer -= int(a[i-1])\n",
        "    return answer\n",
        "solution(\"1 2 Z 3\")"
      ],
      "metadata": {
        "colab": {
          "base_uri": "https://localhost:8080/"
        },
        "id": "APr7fC6sgqRj",
        "outputId": "06aed4fb-364b-4bca-93ea-381f3ed1944f"
      },
      "execution_count": 4,
      "outputs": [
        {
          "output_type": "execute_result",
          "data": {
            "text/plain": [
              "4"
            ]
          },
          "metadata": {},
          "execution_count": 4
        }
      ]
    },
    {
      "cell_type": "markdown",
      "source": [
        "# 2."
      ],
      "metadata": {
        "id": "ff9xOAHSg3eT"
      }
    },
    {
      "cell_type": "code",
      "source": [
        "def solution(lines):\n",
        "    a = []\n",
        "    b = []\n",
        "    c = []\n",
        "    for i in range(lines[0][0],lines[0][1]+1):\n",
        "        a.append(i)\n",
        "    for j in range(lines[1][0],lines[1][1]+1):\n",
        "        b.append(j)\n",
        "    for k in range(lines[2][0],lines[2][1]+1):\n",
        "        c.append(k)\n",
        "    a1 = 0\n",
        "    b1 = 0\n",
        "    for i in a:\n",
        "        if i in b:\n",
        "            a1 += 1\n",
        "        if i in c:\n",
        "            b1 += 1\n",
        "    c1 = 0\n",
        "    for i in b:\n",
        "        if i in c:\n",
        "            c1 += 1\n",
        "    a11 = 0\n",
        "    if a1>2:\n",
        "        a11 = a1 -1\n",
        "    b11 = 0\n",
        "    if b1>2:\n",
        "        b11 = b1 - 1\n",
        "    c11 = 0\n",
        "    if c1>2:\n",
        "        c11 = c1 -1\n",
        "    return a11 + b11 + c11\n",
        "solution([[0, 1], [2, 5], [3, 9]])"
      ],
      "metadata": {
        "colab": {
          "base_uri": "https://localhost:8080/"
        },
        "id": "wzqPMha4roHO",
        "outputId": "a08d2a30-d379-4502-8487-2af1abddab5c"
      },
      "execution_count": 19,
      "outputs": [
        {
          "output_type": "execute_result",
          "data": {
            "text/plain": [
              "2"
            ]
          },
          "metadata": {},
          "execution_count": 19
        }
      ]
    },
    {
      "cell_type": "code",
      "source": [],
      "metadata": {
        "id": "fXPXcUGV6bnh"
      },
      "execution_count": null,
      "outputs": []
    }
  ]
}