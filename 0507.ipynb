{
 "cells": [
  {
   "cell_type": "markdown",
   "id": "312bcf98",
   "metadata": {},
   "source": [
    "# 1."
   ]
  },
  {
   "cell_type": "code",
   "execution_count": 1,
   "id": "0b625fdb",
   "metadata": {},
   "outputs": [
    {
     "data": {
      "text/plain": [
       "'052'"
      ]
     },
     "execution_count": 1,
     "metadata": {},
     "output_type": "execute_result"
    }
   ],
   "source": [
    "def solution(rsp):\n",
    "    answer = ''\n",
    "    for rsp in rsp: \n",
    "        if rsp == '2':\n",
    "            answer += '0'\n",
    "        elif rsp == '0':\n",
    "            answer += '5'\n",
    "        elif rsp == '5':\n",
    "            answer += '2'\n",
    "    return answer\n",
    "solution(\"205\")"
   ]
  },
  {
   "cell_type": "markdown",
   "id": "5e191198",
   "metadata": {},
   "source": [
    "# 2."
   ]
  },
  {
   "cell_type": "code",
   "execution_count": 4,
   "id": "6520a3fa",
   "metadata": {},
   "outputs": [
    {
     "data": {
      "text/plain": [
       "3584"
      ]
     },
     "execution_count": 4,
     "metadata": {},
     "output_type": "execute_result"
    }
   ],
   "source": [
    "def solution(n, t):\n",
    "    for i in range(1,t+1):\n",
    "        n =  n * 2\n",
    "    return n\n",
    "solution(7, 9)"
   ]
  },
  {
   "cell_type": "markdown",
   "id": "1d3f10da",
   "metadata": {},
   "source": [
    "# 3."
   ]
  },
  {
   "cell_type": "code",
   "execution_count": 5,
   "id": "199e7355",
   "metadata": {},
   "outputs": [
    {
     "data": {
      "text/plain": [
       "'CCCccc'"
      ]
     },
     "execution_count": 5,
     "metadata": {},
     "output_type": "execute_result"
    }
   ],
   "source": [
    "def solution(my_string):\n",
    "    answer = ''\n",
    "    for i in my_string:\n",
    "        if i.upper() == i:\n",
    "            i = i.lower()\n",
    "        else:\n",
    "            i = i.upper()\n",
    "        answer += i\n",
    "    return answer\n",
    "solution(\"cccCCC\")"
   ]
  },
  {
   "cell_type": "markdown",
   "id": "afbdcf5a",
   "metadata": {},
   "source": [
    "# 4."
   ]
  },
  {
   "cell_type": "code",
   "execution_count": 9,
   "id": "0fe35266",
   "metadata": {},
   "outputs": [
    {
     "data": {
      "text/plain": [
       "12"
      ]
     },
     "execution_count": 9,
     "metadata": {},
     "output_type": "execute_result"
    }
   ],
   "source": [
    "def solution(box, n):\n",
    "    a = box[0]//n\n",
    "    b = box[1]//n\n",
    "    c = box[2]//n\n",
    "    return a*b*c\n",
    "solution([10, 8, 6], 3)"
   ]
  },
  {
   "cell_type": "markdown",
   "id": "f4c4d60b",
   "metadata": {},
   "source": [
    "# 5."
   ]
  },
  {
   "cell_type": "code",
   "execution_count": 10,
   "id": "f898a4e2",
   "metadata": {},
   "outputs": [
    {
     "data": {
      "text/plain": [
       "[2, 2, 4, 8]"
      ]
     },
     "execution_count": 10,
     "metadata": {},
     "output_type": "execute_result"
    }
   ],
   "source": [
    "def solution(my_string):\n",
    "    answer = []\n",
    "    n = ['0','1','2','3','4','5','6','7','8','9']\n",
    "    for i in my_string:\n",
    "        if i in n:\n",
    "            answer.append(int(i))\n",
    "    answer.sort()\n",
    "    return answer\n",
    "solution(\"p2o4i8gj2\")"
   ]
  },
  {
   "cell_type": "markdown",
   "id": "d1312907",
   "metadata": {},
   "source": [
    "# 6."
   ]
  },
  {
   "cell_type": "code",
   "execution_count": 11,
   "id": "0ff804c7",
   "metadata": {},
   "outputs": [
    {
     "name": "stdout",
     "output_type": "stream",
     "text": [
      "5\n",
      "*\n",
      "**\n",
      "***\n",
      "****\n",
      "*****\n"
     ]
    }
   ],
   "source": [
    "n = int(input())\n",
    "for i in range(1,n+1):\n",
    "    print(\"*\" * i)"
   ]
  },
  {
   "cell_type": "markdown",
   "id": "1540591c",
   "metadata": {},
   "source": [
    "# 7."
   ]
  },
  {
   "cell_type": "code",
   "execution_count": 12,
   "id": "234d2a76",
   "metadata": {},
   "outputs": [
    {
     "data": {
      "text/plain": [
       "240"
      ]
     },
     "execution_count": 12,
     "metadata": {},
     "output_type": "execute_result"
    }
   ],
   "source": [
    "def solution(numbers):\n",
    "    answer = []\n",
    "    for i in range(len(numbers)):\n",
    "        for j in range(len(numbers)):\n",
    "            if i != j:#같은 순서가 아닐때인 조건을 꼭 넣어 줘야한다\n",
    "                answer.append(numbers[j] * numbers[i])\n",
    "    return max(answer)\n",
    "solution([0, -31, 24, 10, 1, 9])"
   ]
  },
  {
   "cell_type": "markdown",
   "id": "96d1b7cf",
   "metadata": {},
   "source": [
    "# 8."
   ]
  },
  {
   "cell_type": "code",
   "execution_count": 13,
   "id": "88dd6e0a",
   "metadata": {},
   "outputs": [
    {
     "data": {
      "text/plain": [
       "[10, 5]"
      ]
     },
     "execution_count": 13,
     "metadata": {},
     "output_type": "execute_result"
    }
   ],
   "source": [
    "def solution(n, numlist):\n",
    "    answer = []\n",
    "    for i in numlist:\n",
    "        if i%n == 0:\n",
    "            answer.append(i)\n",
    "    return answer\n",
    "solution(5, [1, 9, 3, 10, 13, 5])"
   ]
  },
  {
   "cell_type": "markdown",
   "id": "c11227a3",
   "metadata": {},
   "source": [
    "# 9."
   ]
  },
  {
   "cell_type": "code",
   "execution_count": 15,
   "id": "af066fa5",
   "metadata": {},
   "outputs": [
    {
     "data": {
      "text/plain": [
       "[455, 6, 4, -1, 45, 6, 4]"
      ]
     },
     "execution_count": 15,
     "metadata": {},
     "output_type": "execute_result"
    }
   ],
   "source": [
    "def solution(numbers, direction):\n",
    "    answer = []\n",
    "    num = numbers.copy()\n",
    "    if direction == 'right':\n",
    "        for i in range(len(numbers)):\n",
    "            num[i] = numbers[i-1]\n",
    "            answer.append(num[i])\n",
    "    else:\n",
    "        for i in range(len(numbers)):\n",
    "            if i == len(numbers)-1:\n",
    "                num[i] = numbers[0]\n",
    "            else:\n",
    "                num[i] = numbers[i+1]\n",
    "            answer.append(num[i])\n",
    "    return answer\n",
    "solution([4, 455, 6, 4, -1, 45, 6], 'left')"
   ]
  },
  {
   "cell_type": "markdown",
   "id": "9e3aac9b",
   "metadata": {},
   "source": [
    "# 10."
   ]
  },
  {
   "cell_type": "code",
   "execution_count": 16,
   "id": "bc49f0ca",
   "metadata": {},
   "outputs": [
    {
     "data": {
      "text/plain": [
       "'I l veoyou'"
      ]
     },
     "execution_count": 16,
     "metadata": {},
     "output_type": "execute_result"
    }
   ],
   "source": [
    "def solution(my_string, num1, num2):\n",
    "    answer = ''\n",
    "    for i in range(len(my_string)):\n",
    "        if i  == num1:\n",
    "            answer += my_string[num2]\n",
    "        elif i == num2:\n",
    "            answer += my_string[num1]\n",
    "        else:\n",
    "            answer += my_string[i]\n",
    "    return answer\n",
    "solution(\"I love you\", 3, 6)"
   ]
  },
  {
   "cell_type": "markdown",
   "id": "33dc2681",
   "metadata": {},
   "source": [
    "# 11."
   ]
  },
  {
   "cell_type": "code",
   "execution_count": 17,
   "id": "72c81b95",
   "metadata": {},
   "outputs": [
    {
     "data": {
      "text/plain": [
       "'fb'"
      ]
     },
     "execution_count": 17,
     "metadata": {},
     "output_type": "execute_result"
    }
   ],
   "source": [
    "def solution(age):\n",
    "    answer = ''\n",
    "    eng = 'abcdefghij'\n",
    "    for i in str(age):\n",
    "        answer += eng[int(i)]\n",
    "    return answer\n",
    "solution(51)"
   ]
  },
  {
   "cell_type": "markdown",
   "id": "c6ae0ed2",
   "metadata": {},
   "source": [
    "# 12."
   ]
  },
  {
   "cell_type": "code",
   "execution_count": 20,
   "id": "ee5ad987",
   "metadata": {},
   "outputs": [
    {
     "data": {
      "text/plain": [
       "(11, 2)"
      ]
     },
     "execution_count": 20,
     "metadata": {},
     "output_type": "execute_result"
    }
   ],
   "source": [
    "def solution(array):\n",
    "    answer = []\n",
    "    answer = max(array), array.index(max(array))\n",
    "    return answer\n",
    "solution([9, 10, 11, 8])"
   ]
  },
  {
   "cell_type": "markdown",
   "id": "c0c415a2",
   "metadata": {},
   "source": [
    "# 13."
   ]
  },
  {
   "cell_type": "code",
   "execution_count": 1,
   "id": "4355507c",
   "metadata": {},
   "outputs": [
    {
     "data": {
      "text/plain": [
       "5"
      ]
     },
     "execution_count": 1,
     "metadata": {},
     "output_type": "execute_result"
    }
   ],
   "source": [
    "def solution(n):\n",
    "    answer = 1\n",
    "    if n <= 6:\n",
    "        while 6*(answer)%n != 0:\n",
    "            answer += 1\n",
    "        return answer\n",
    "    else:\n",
    "        while 6*(answer)//n < 1:\n",
    "            answer += 1\n",
    "        while 6*(answer)%n != 0:\n",
    "            answer += 1\n",
    "        return answer\n",
    "solution(10)"
   ]
  },
  {
   "cell_type": "markdown",
   "id": "a4ffb4c3",
   "metadata": {},
   "source": [
    "# 14."
   ]
  },
  {
   "cell_type": "code",
   "execution_count": 3,
   "id": "d9030bd6",
   "metadata": {},
   "outputs": [
    {
     "data": {
      "text/plain": [
       "2"
      ]
     },
     "execution_count": 3,
     "metadata": {},
     "output_type": "execute_result"
    }
   ],
   "source": [
    "def solution(order):\n",
    "    answer = 0\n",
    "    for i in str(order):\n",
    "        if i in ['3','6','9']:\n",
    "            answer += 1\n",
    "    return answer\n",
    "solution(113129)"
   ]
  }
 ],
 "metadata": {
  "kernelspec": {
   "display_name": "myenv",
   "language": "python",
   "name": "myenv"
  },
  "language_info": {
   "codemirror_mode": {
    "name": "ipython",
    "version": 3
   },
   "file_extension": ".py",
   "mimetype": "text/x-python",
   "name": "python",
   "nbconvert_exporter": "python",
   "pygments_lexer": "ipython3",
   "version": "3.9.7"
  }
 },
 "nbformat": 4,
 "nbformat_minor": 5
}
